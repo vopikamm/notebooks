{
 "cells": [
  {
   "cell_type": "code",
   "execution_count": null,
   "metadata": {},
   "outputs": [],
   "source": [
    "import xarray as xr\n",
    "from matplotlib import pyplot as plt\n",
    "import cftime._cftime as cft\n",
    "import holoviews as hv\n",
    "\n",
    "hv.extension('bokeh')"
   ]
  },
  {
   "cell_type": "code",
   "execution_count": null,
   "metadata": {},
   "outputs": [],
   "source": [
    "def clean_coords(xrdataset, start_year):\n",
    "    try:\n",
    "        shift = cft.timedelta(days=360 * start_year)\n",
    "        datetimeindex = (xrdataset.indexes['time_counter'] + shift).to_datetimeindex\n",
    "    except:\n",
    "        datetimeindex = xrdataset.indexes['time_counter']\n",
    "    try:\n",
    "        latitude  = xrdataset.nav_lat[:,0].values\n",
    "        longitude = xrdataset.nav_lon[0,:].values\n",
    "    except:\n",
    "        latitude  = xrdataset.nav_lat_grid_T[:,0].values\n",
    "        longitude = xrdataset.nav_lon_grid_T[0,:].values\n",
    "\n",
    "    return xrdataset.assign_coords(dict({'time_counter':datetimeindex, 'y': latitude, 'x': longitude}))"
   ]
  },
  {
   "cell_type": "code",
   "execution_count": null,
   "metadata": {},
   "outputs": [],
   "source": [
    "%%output holomap='scrubber'\n",
    "%%opts QuadMesh style(cmap='RdBu_r') plot[colorbar=True] \n",
    "%%opts QuadMesh [width=500, height=400]\n",
    "hv_ds = hv.Dataset(U.uoce.isel(depthu=-4))\n",
    "hv_ds.to(hv.QuadMesh, ['x', 'y'])"
   ]
  }
 ],
 "metadata": {
  "kernelspec": {
   "display_name": "Python 3.9.15 64-bit ('xgcm')",
   "language": "python",
   "name": "python3"
  },
  "language_info": {
   "name": "python",
   "version": "3.9.15"
  },
  "orig_nbformat": 4,
  "vscode": {
   "interpreter": {
    "hash": "95e017c2a2777c71a3bd0b02c9234ec0e99721cbf7104ddaf7457b91e883feb5"
   }
  }
 },
 "nbformat": 4,
 "nbformat_minor": 2
}
