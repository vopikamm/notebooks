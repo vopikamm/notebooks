{
 "cells": [
  {
   "cell_type": "code",
   "execution_count": null,
   "metadata": {},
   "outputs": [],
   "source": [
    "import xarray as xr\n",
    "from matplotlib import pyplot as plt\n",
    "import cftime._cftime as cft\n",
    "import holoviews as hv\n",
    "\n",
    "hv.extension('bokeh')"
   ]
  },
  {
   "cell_type": "code",
   "execution_count": null,
   "metadata": {},
   "outputs": [],
   "source": [
    "def clean_coords(xrdataset, start_year):\n",
    "    try:\n",
    "        shift = cft.timedelta(days=360 * start_year)\n",
    "        datetimeindex = (xrdataset.indexes['time_counter'] + shift).to_datetimeindex\n",
    "    except:\n",
    "        datetimeindex = xrdataset.indexes['time_counter']\n",
    "    try:\n",
    "        latitude  = xrdataset.nav_lat[:,0].values\n",
    "        longitude = xrdataset.nav_lon[0,:].values\n",
    "    except:\n",
    "        latitude  = xrdataset.nav_lat_grid_T[:,0].values\n",
    "        longitude = xrdataset.nav_lon_grid_T[0,:].values\n",
    "    try:\n",
    "        xrdataset = xrdataset.rename_dims({'x_grid_T': 'x' ,'y_grid_T': 'y'})\n",
    "    except:\n",
    "        pass\n",
    "    try:\n",
    "        xrdataset = xrdataset.assign_coords({'z': 5. - xrdataset.e3t.cumsum('deptht')})\n",
    "    except:\n",
    "        pass\n",
    "    try:\n",
    "        xrdataset = xrdataset.assign_coords({'z': 5. - xrdataset.e3u.cumsum('depthu')})\n",
    "    except:\n",
    "        pass\n",
    "    try:\n",
    "        xrdataset = xrdataset.assign_coords({'z': 5. - xrdataset.e3v.cumsum('depthv')})\n",
    "    except:\n",
    "        pass\n",
    "    try:\n",
    "        xrdataset = xrdataset.assign_coords({'z': 5. - xrdataset.e3w.cumsum('depthw')})\n",
    "    except:\n",
    "        pass\n",
    "    return xrdataset.assign_coords(dict({'time_counter':datetimeindex, 'y': latitude, 'x': longitude}))"
   ]
  },
  {
   "cell_type": "code",
   "execution_count": null,
   "metadata": {},
   "outputs": [],
   "source": [
    "def read_abort(path, dict_vars={'votemper': 'T', 'vosaline': 'S', 'vozocrtx': 'U', 'vomecrty': 'V', 'vovecrtz': 'W', 'sossheig': 'H'}):\n",
    "    abort = xr.load_dataset(path)\n",
    "    abort = abort.rename(dict_vars)\n",
    "    abort = abort.set_coords(['nav_lon', 'nav_lat'])\n",
    "    return(abort[list(dict_vars.values())])"
   ]
  },
  {
   "cell_type": "code",
   "execution_count": null,
   "metadata": {},
   "outputs": [],
   "source": [
    "%%output holomap='scrubber'\n",
    "%%opts QuadMesh style(cmap='RdBu_r') plot[colorbar=True] \n",
    "%%opts QuadMesh [width=500, height=400]\n",
    "hv_ds = hv.Dataset(U.uoce.isel(depthu=-4))\n",
    "hv_ds.to(hv.QuadMesh, ['x', 'y'])"
   ]
  }
 ],
 "metadata": {
  "kernelspec": {
   "display_name": "xgcm",
   "language": "python",
   "name": "xgcm"
  },
  "language_info": {
   "name": "python",
   "version": "3.9.15"
  },
  "orig_nbformat": 4,
  "vscode": {
   "interpreter": {
    "hash": "95e017c2a2777c71a3bd0b02c9234ec0e99721cbf7104ddaf7457b91e883feb5"
   }
  }
 },
 "nbformat": 4,
 "nbformat_minor": 2
}
