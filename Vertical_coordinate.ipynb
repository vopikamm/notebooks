{
 "cells": [
  {
   "cell_type": "code",
   "execution_count": null,
   "metadata": {},
   "outputs": [],
   "source": [
    "import xarray as xr\n",
    "from matplotlib import pyplot as plt\n",
    "import cftime._cftime as cft"
   ]
  },
  {
   "cell_type": "markdown",
   "metadata": {},
   "source": [
    "| Experiment Name | Description | Parameters |\n",
    "| :- | :- | :- |\n",
    "| EXP_z   |   No changes in usrdef                                |                                                           |\n",
    "| EXP_z2  |   set cutoff to 1000m                                 |                                                           |"
   ]
  },
  {
   "cell_type": "code",
   "execution_count": null,
   "metadata": {},
   "outputs": [],
   "source": [
    "path = \"/home/dkamm/NEMOGCM/tests/BASIN2/\""
   ]
  },
  {
   "cell_type": "code",
   "execution_count": null,
   "metadata": {},
   "outputs": [],
   "source": [
    "def clean_coords(xrdataset, start_year):\n",
    "    try:\n",
    "        shift = cft.timedelta(days=360 * start_year)\n",
    "        datetimeindex = (xrdataset.indexes['time_counter'] + shift).to_datetimeindex\n",
    "    except:\n",
    "        datetimeindex = xrdataset.indexes['time_counter']\n",
    "    try:\n",
    "        latitude  = xrdataset.nav_lat[:,0].values\n",
    "        longitude = xrdataset.nav_lon[0,:].values\n",
    "    except:\n",
    "        latitude  = xrdataset.nav_lat_grid_T[:,0].values\n",
    "        longitude = xrdataset.nav_lon_grid_T[0,:].values\n",
    "    try:\n",
    "        xrdataset = xrdataset.rename_dims({'x_grid_T': 'x' ,'y_grid_T': 'y'})\n",
    "    except:\n",
    "        pass\n",
    "    try:\n",
    "        xrdataset = xrdataset.assign_coords({'z': 5. - xrdataset.e3t.cumsum('deptht')})\n",
    "    except:\n",
    "        pass\n",
    "    try:\n",
    "        xrdataset = xrdataset.assign_coords({'z': 5. - xrdataset.e3u.cumsum('depthu')})\n",
    "    except:\n",
    "        pass\n",
    "    try:\n",
    "        xrdataset = xrdataset.assign_coords({'z': 5. - xrdataset.e3v.cumsum('depthv')})\n",
    "    except:\n",
    "        pass\n",
    "    try:\n",
    "        xrdataset = xrdataset.assign_coords({'z': 5. - xrdataset.e3w.cumsum('depthw')})\n",
    "    except:\n",
    "        pass\n",
    "    return xrdataset.assign_coords(dict({'time_counter':datetimeindex, 'y': latitude, 'x': longitude}))"
   ]
  },
  {
   "cell_type": "code",
   "execution_count": null,
   "metadata": {},
   "outputs": [],
   "source": [
    "T = clean_coords(xr.load_dataset(path + 'EXP_z/BASIN_grid_T.nc'), 2000)\n",
    "T2 = clean_coords(xr.load_dataset(path + 'EXP_z2/BASIN_grid_T.nc'), 2000)"
   ]
  },
  {
   "cell_type": "code",
   "execution_count": null,
   "metadata": {},
   "outputs": [],
   "source": [
    "domain = clean_coords(xr.load_dataset(path + 'EXP_z/domain_cfg_out.nc'), 2000)\n",
    "domain2 = clean_coords(xr.load_dataset(path + 'EXP_z2/domain_cfg_out.nc'), 2000)"
   ]
  },
  {
   "cell_type": "code",
   "execution_count": null,
   "metadata": {},
   "outputs": [],
   "source": [
    "import numpy as np\n",
    "plt.figure()\n",
    "plt.plot(np.arange(T2.deptht.count()),T2.deptht.values, label='z-coords to 50m', color='darkred')\n",
    "plt.plot(np.arange(T.deptht.count()),T.deptht.values, label='z-coords to 1000m', color='midnightblue')\n",
    "plt.title('1D depth coordinate')\n",
    "plt.legend()\n",
    "plt.grid()"
   ]
  },
  {
   "cell_type": "code",
   "execution_count": null,
   "metadata": {},
   "outputs": [],
   "source": [
    "import numpy as np\n",
    "plt.figure()\n",
    "plt.plot(np.arange(domain2.e3w_0.isel(x=2, y=2, time_counter=0).count()),domain2.e3w_0.isel(x=2, y=2, time_counter=0).cumsum().values, label='Shallow point', color='darkred')\n",
    "plt.plot(np.arange(domain2.e3w_0.isel(x=20, y=20, time_counter=0).count()),domain2.e3w_0.isel(x=20, y=20, time_counter=0).cumsum().values, label='Deep point', color='midnightblue')\n",
    "plt.legend()\n",
    "plt.grid()"
   ]
  },
  {
   "cell_type": "code",
   "execution_count": null,
   "metadata": {},
   "outputs": [],
   "source": [
    "domain2.e3w_0.sum('nav_lev').plot()"
   ]
  }
 ],
 "metadata": {
  "kernelspec": {
   "display_name": "Python 3.9.15 64-bit ('xgcm')",
   "language": "python",
   "name": "python3"
  },
  "language_info": {
   "codemirror_mode": {
    "name": "ipython",
    "version": 3
   },
   "file_extension": ".py",
   "mimetype": "text/x-python",
   "name": "python",
   "nbconvert_exporter": "python",
   "pygments_lexer": "ipython3",
   "version": "3.9.15"
  },
  "orig_nbformat": 4,
  "vscode": {
   "interpreter": {
    "hash": "95e017c2a2777c71a3bd0b02c9234ec0e99721cbf7104ddaf7457b91e883feb5"
   }
  }
 },
 "nbformat": 4,
 "nbformat_minor": 2
}
