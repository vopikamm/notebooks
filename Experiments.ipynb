{
 "cells": [
  {
   "cell_type": "code",
   "execution_count": 4,
   "metadata": {},
   "outputs": [],
   "source": [
    "class Experiment:\n",
    "    \"\"\"\n",
    "    Organise experiments. Store and compute relevant information of performed experiments.\n",
    "\n",
    "        steps:          Number of time-steps\n",
    "        resolution:     Spatial resolution [1 / degree]\n",
    "        params:         Parameters that have default values\n",
    "    \"\"\"\n",
    "    _allExperiments = {}\n",
    "    def __init__(self, steps, resolution, params = None):\n",
    "        if params is None:\n",
    "            params = {'n_proc': 16, 'dt': 2700}\n",
    "        self.steps      = steps\n",
    "        self.resolution = resolution\n",
    "        self.n_proc     = params['n_proc']\n",
    "        self.dt         = params['dt']\n",
    "        self.cpu_hours  = None \n",
    "        self.get_model_time()\n",
    "        self.name = 'EXP_%iY_%iM_%iD_%iDEG'%(\n",
    "            self.run_time['y'],\n",
    "            self.run_time['mo'] % 12,\n",
    "            self.run_time['d'] % 30,\n",
    "            self.resolution\n",
    "        )\n",
    "\n",
    "        self._allExperiments[self.name] = self\n",
    "\n",
    "    def get_model_time(self):\n",
    "        \"\"\" Compute the model time in hours, days, months and years.\"\"\"\n",
    "        seconds    = int(  self.steps   * self.dt   )\n",
    "        minutes    = int(  seconds      / 60.       )\n",
    "        hours      = int(  minutes      / 60.       )\n",
    "        days       = int(  hours        / 24.       )\n",
    "        months     = int(  days         / 30.       )\n",
    "        years      = int(  months       / 12.       )\n",
    "        self.run_time   = dict(\n",
    "            s   = seconds,\n",
    "            mi  = minutes,\n",
    "            h   = hours,\n",
    "            d   = days,\n",
    "            mo  = months,\n",
    "            y   = years\n",
    "        )\n",
    "    \n",
    "    def get_cpu_hours(self, other):\n",
    "        \"\"\" Estimate the needed CPU time.\n",
    "\n",
    "            exp_ref:    Reference experiment for which the CPU-time was observed.\n",
    "\n",
    "        \"\"\"\n",
    "        \n",
    "        reso_ratio      = self.resolution / other.resolution\n",
    "        time_ratio      = self.steps / other.steps\n",
    "        self.cpu_hours  = reso_ratio**3 * other.cpu_hours * time_ratio\n",
    "    \n",
    "    def set_cpu_hours(self, cpu_time, unit='mi'):\n",
    "        \"\"\" Setting the CPU-hours.\n",
    "\n",
    "            cpu_time:   Observed CPU-time\n",
    "            unit:       Unit in which the CPU-time was passed\n",
    "        \"\"\"\n",
    "        time_dict       = dict(s =3600., mi = 60., h = 1.)\n",
    "        self.cpu_hours  = cpu_time / time_dict[unit]\n",
    "    \n",
    "    @classmethod\n",
    "    def print_CPU_hours(self):\n",
    "        from IPython.display import display_markdown\n",
    "        table       = '\\n| Experiment Name | Simulation-time [years] | Resolution [1/degree] | CPU-time [hours]| \\n| :- | :- | :- | :- |'\n",
    "        sum_hours   = 0.0\n",
    "        for key, instance in self._allExperiments.items():\n",
    "            if instance.cpu_hours is not None:\n",
    "                sum_hours = sum_hours + instance.cpu_hours\n",
    "                vars = (instance.run_time['y'], instance.resolution, instance.cpu_hours)\n",
    "                table = table + '\\n| '+ key + ' |   %i  |   1/%i  |   %.2f  |'%vars\n",
    "        table = table + '| | | | | \\n|   **SUM**    | | | %i |'%(int(sum_hours))\n",
    "        display_markdown(table, raw=True)\n",
    "    \n",
    "    @classmethod\n",
    "    def clear_allExperiments(self):\n",
    "        self._allExperiments = {}"
   ]
  },
  {
   "cell_type": "code",
   "execution_count": 7,
   "metadata": {},
   "outputs": [],
   "source": [
    "Experiment.clear_allExperiments()\n",
    "\n",
    "ref         = Experiment(11520, 1)\n",
    "ref.set_cpu_hours(78.)\n",
    "\n",
    "e_1_400     = Experiment(400 * 11520, 1)\n",
    "e_1_400.get_cpu_hours(ref) \n",
    "\n",
    "e_4_200     = Experiment(200 * 11520, 4)\n",
    "e_4_200.get_cpu_hours(ref)\n",
    "\n",
    "e_8_100     = Experiment(100 * 11520, 8)\n",
    "e_8_100.get_cpu_hours(ref)\n",
    "\n",
    "e_16_70     = Experiment(70 * 11520, 16)\n",
    "e_16_70.get_cpu_hours(ref)"
   ]
  },
  {
   "cell_type": "code",
   "execution_count": 8,
   "metadata": {},
   "outputs": [
    {
     "data": {
      "text/markdown": [
       "\n",
       "| Experiment Name | Simulation-time [years] | Resolution [1/degree] | CPU-time [hours]| \n",
       "| :- | :- | :- | :- |\n",
       "| EXP_1Y_0M_0D_1DEG |   1  |   1/1  |   1.30  |\n",
       "| EXP_400Y_0M_0D_1DEG |   400  |   1/1  |   520.00  |\n",
       "| EXP_200Y_0M_0D_4DEG |   200  |   1/4  |   16640.00  |\n",
       "| EXP_100Y_0M_0D_8DEG |   100  |   1/8  |   66560.00  |\n",
       "| EXP_70Y_0M_0D_16DEG |   70  |   1/16  |   372736.00  || | | | | \n",
       "|   **SUM**    | | | 456457 |"
      ]
     },
     "metadata": {},
     "output_type": "display_data"
    }
   ],
   "source": [
    "Experiment.print_CPU_hours()"
   ]
  }
 ],
 "metadata": {
  "kernelspec": {
   "display_name": "Python 3",
   "language": "python",
   "name": "python3"
  },
  "language_info": {
   "codemirror_mode": {
    "name": "ipython",
    "version": 3
   },
   "file_extension": ".py",
   "mimetype": "text/x-python",
   "name": "python",
   "nbconvert_exporter": "python",
   "pygments_lexer": "ipython3",
   "version": "3.8.10"
  },
  "orig_nbformat": 4,
  "vscode": {
   "interpreter": {
    "hash": "e7370f93d1d0cde622a1f8e1c04877d8463912d04d973331ad4851f04de6915a"
   }
  }
 },
 "nbformat": 4,
 "nbformat_minor": 2
}
