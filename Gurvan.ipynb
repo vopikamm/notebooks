{
 "cells": [
  {
   "cell_type": "code",
   "execution_count": null,
   "id": "d868262b",
   "metadata": {},
   "outputs": [],
   "source": [
    "import xarray as xr\n",
    "import xgcm\n",
    "from matplotlib import pyplot as plt\n",
    "import cftime._cftime as cft\n",
    "import matplotlib.gridspec as gridspec\n",
    "import nctoolkit as nc\n",
    "\n",
    "plt.rcParams['axes.facecolor']='black'\n",
    "#plt.style.use('dark_background')\n",
    "plt.style.use('default')\n",
    "\n",
    "plt.rcParams.update({'font.size': 20})"
   ]
  },
  {
   "cell_type": "code",
   "execution_count": null,
   "id": "4d33bc13",
   "metadata": {},
   "outputs": [],
   "source": [
    "def clean_coords(xrdataset, start_year):\n",
    "    try:\n",
    "        shift = cft.timedelta(days=360 * start_year)\n",
    "        datetimeindex = (xrdataset.indexes['time_counter'] + shift).to_datetimeindex\n",
    "    except:\n",
    "        datetimeindex = xrdataset.indexes['time_counter']\n",
    "    try:\n",
    "        latitude  = xrdataset.nav_lat[:,0].values\n",
    "        longitude = xrdataset.nav_lon[0,:].values\n",
    "    except:\n",
    "        latitude  = xrdataset.nav_lat_grid_T[:,0].values\n",
    "        longitude = xrdataset.nav_lon_grid_T[0,:].values\n",
    "    try:\n",
    "        xrdataset = xrdataset.rename_dims({'x_grid_T': 'x' ,'y_grid_T': 'y'})\n",
    "    except:\n",
    "        pass\n",
    "    try:\n",
    "        xrdataset = xrdataset.assign_coords({'z': 5. - xrdataset.e3t.cumsum('deptht')})\n",
    "    except:\n",
    "        pass\n",
    "    try:\n",
    "        xrdataset = xrdataset.assign_coords({'z': 5. - xrdataset.e3u.cumsum('depthu')})\n",
    "    except:\n",
    "        pass\n",
    "    try:\n",
    "        xrdataset = xrdataset.assign_coords({'z': 5. - xrdataset.e3v.cumsum('depthv')})\n",
    "    except:\n",
    "        pass\n",
    "    try:\n",
    "        xrdataset = xrdataset.assign_coords({'z': 5. - xrdataset.e3w.cumsum('depthw')})\n",
    "    except:\n",
    "        pass\n",
    "    return xrdataset.assign_coords(dict({'time_counter':datetimeindex, 'y': latitude, 'x': longitude}))"
   ]
  },
  {
   "cell_type": "code",
   "execution_count": null,
   "id": "1139b7a8",
   "metadata": {},
   "outputs": [],
   "source": [
    "def combine_coords(datasets):\n",
    "    zcoords  = []\n",
    "    for ds in datasets:\n",
    "        zcoords.append(ds.z.mean('time_counter'))\n",
    "    zcoord   = sum(zcoords) / len(zcoords)\n",
    "    assigned = []\n",
    "    for ds in datasets:\n",
    "        assigned.append(ds.assign_coords({'z0': zcoord}))\n",
    "    return tuple(assigned)"
   ]
  },
  {
   "cell_type": "code",
   "execution_count": null,
   "id": "7027d489",
   "metadata": {},
   "outputs": [],
   "source": [
    "def create_xgcm_domain(mesh, domain):\n",
    "    ds = xr.merge([mesh, domain]).isel(time_counter=0)\n",
    "    coords = dict(\n",
    "        x_c = ds.glamt.isel(y=5).values,\n",
    "        x_f = ds.glamu.isel(y=5).values,\n",
    "        y_c = ds.gphit.isel(x=5).values,\n",
    "        y_f = ds.gphiv.isel(x=5).values,\n",
    "        z_c = ds.gdept_1d.values,\n",
    "        z_f = ds.gdepw_1d.values\n",
    "    )\n",
    "    data_vars = dict(\n",
    "        e1t = (['y_c','x_c'], ds.e1t.values),\n",
    "        e1u = (['y_c','x_f'], ds.e1u.values),\n",
    "        e1v = (['y_f','x_c'], ds.e1v.values),\n",
    "        e1f = (['y_f','x_f'], ds.e1f.values),\n",
    "        e2t = (['y_c','x_c'], ds.e2t.values),\n",
    "        e2u = (['y_c','x_f'], ds.e2u.values),\n",
    "        e2v = (['y_f','x_c'], ds.e2v.values),\n",
    "        e2f = (['y_f','x_f'], ds.e2f.values),\n",
    "        e3t = (['z_c','y_c','x_c'], ds.e3t_0.values),\n",
    "        e3u = (['z_c','y_c','x_f'], ds.e3u_0.values),\n",
    "        e3v = (['z_c','y_f','x_c'], ds.e3v_0.values),\n",
    "        e3f = (['z_c','y_f','x_f'], ds.e3f_0.values)\n",
    "    )\n",
    "    return xr.Dataset(data_vars=data_vars, coords=coords)"
   ]
  },
  {
   "cell_type": "code",
   "execution_count": null,
   "id": "f6c69bf2",
   "metadata": {},
   "outputs": [],
   "source": [
    "def V_transport_on_z(domain, ds):\n",
    "    ds_new = domain.copy()\n",
    "    #vtra = (ds.voce * ds.e3v * ds.e1v).values\n",
    "    vtra = ds.vocetr_eff.values\n",
    "    ds_new['vtra']      = (['time_counter','z_f', 'y_f', 'x_c'], vtra)\n",
    "    ds_new['depthw'] = (['time_counter','z_f', 'y_f', 'x_c'], - ds.z.values)\n",
    "    ds_new = ds_new[['vtra','depthw']]\n",
    "    ds_new = ds_new.assign_coords({'z_c':domain.z_c.values[:-1]})\n",
    "    grid = xgcm.Grid(ds_new,\n",
    "        coords={\n",
    "            \"X\": {\"center\": \"x_c\"},\n",
    "            \"Y\": {\"right\": \"y_f\"},\n",
    "            \"Z\": {\"center\": \"z_c\", \"outer\": \"z_f\"}\n",
    "        },\n",
    "        periodic=False)\n",
    "    z_target = domain.z_c.values      \n",
    "    \n",
    "    vtra_transformed = grid.transform(ds_new.vtra.isel(z_f=slice(0,-1)),\n",
    "        'Z',\n",
    "        z_target,\n",
    "        method='conservative',\n",
    "        target_data=ds_new.depthw)\n",
    "    vtra_transformed = vtra_transformed.assign_coords(z=('depthw', - vtra_transformed.depthw.values))\n",
    "    return vtra_transformed"
   ]
  },
  {
   "cell_type": "code",
   "execution_count": null,
   "id": "46dc454d",
   "metadata": {},
   "outputs": [],
   "source": [
    "import numpy as np\n",
    "def V_transport_on_sigma(domain, ds, sigma0):\n",
    "    ds_new = domain.isel(z_c=slice(0,-1)).copy()\n",
    "    #vtra = (ds.voce * ds.e3v * ds.e1v).values\n",
    "\n",
    "    ds_new['vtra']      = (['time_counter','z_c', 'y_f', 'x_c'], ds.vocetr_eff.isel(depthv=slice(0,-1)).data)\n",
    "    ds_new['sigma0'] = (['time_counter','z_c', 'y_c', 'x_c'], sigma0.isel(deptht=slice(0,-1)).data)\n",
    "    ds_new = ds_new[['vtra','sigma0', 'e3v']]\n",
    "    ds_new = ds_new.assign_coords({'z_f':domain.z_f.values})\n",
    "    grid = xgcm.Grid(ds_new,\n",
    "        coords={\n",
    "            \"X\": {\"center\": \"x_c\"},\n",
    "            \"Y\": {\"right\": \"y_f\", \"center\":\"y_c\"},\n",
    "            \"Z\": {\"center\": \"z_c\", \"outer\": \"z_f\"}\n",
    "        },\n",
    "        periodic=False)\n",
    "    ds_new['sigma_v'] = grid.interp(ds_new.sigma0, 'Y')\n",
    "    ds_new['sigma_outer'] = grid.interp(ds_new.sigma_v, 'Z',  boundary='extend')\n",
    "    #sigma_1d = ds_new.sigma_outer.isel(time_counter=-2, x_c=slice(2,-2)).mean(['x_c', 'y_f'])\n",
    "    sigma_target = np.array([24, 24.2, 24.4, 24.65, 24.9, 25.15, 25.4, 25.65,\n",
    "                          25.9, 26.15, 26.4, 26.57, 26.75, 26.90, 27.05, 27.17,\n",
    "                          27.30, 27.37, 27.45, 27.52, 27.58,\n",
    "                          27.63, 27.68, 27.72, 27.75, 27.78, 27.80, 27.815,\n",
    "                          27.83, 27.845, 27.86, 27.875, 27.89,\n",
    "                          27.905, 27.92, 27.935, 27.95, 27.965,\n",
    "                          27.98, 27.99, 28.01, 28.025,\n",
    "                          28.04, 28.055, 28.07, 28.085, 28.1, 28.35,\n",
    "                          28.6, 28.8, 29.1])\n",
    "    # e3v_target = ds_new.e3v.isel(y_f=100, x_c=40)      \n",
    "    \n",
    "    vtra_transformed = grid.transform(ds_new.vtra,\n",
    "        'Z',\n",
    "        sigma_target,\n",
    "        method='conservative',\n",
    "        target_data=ds_new.sigma_outer)\n",
    "    \n",
    "    e3v_transformed = grid.transform(ds_new.e3v,\n",
    "        'Z',\n",
    "        sigma_target,\n",
    "        method='conservative',\n",
    "        target_data=ds_new.sigma_outer.isel(time_counter=-2))\n",
    "    # vtra_transformed = vtra_transformed.assign_coords(z=('depthw', - vtra_transformed.depthw.values))\n",
    "    return vtra_transformed, e3v_transformed"
   ]
  },
  {
   "cell_type": "code",
   "execution_count": null,
   "id": "7a3197c8",
   "metadata": {},
   "outputs": [],
   "source": [
    "def V_sigma_on_z(domain, da):\n",
    "    ds_new = domain.isel(z_c=slice(0,-1)).copy()\n",
    "    \n",
    "    #vtra = (ds.voce * ds.e3v * ds.e1v).values\n",
    "\n",
    "    ds_new['vtra']      = (['time_counter','z_c', 'y_f', 'x_c'], ds.vocetr_eff.isel(depthv=slice(0,-1)).data)\n",
    "    ds_new['sigma0'] = (['time_counter','z_c', 'y_c', 'x_c'], sigma0.isel(deptht=slice(0,-1)).data)\n",
    "    ds_new = ds_new[['vtra','sigma0']]\n",
    "    ds_new = ds_new.assign_coords({'z_f':domain.z_f.values})\n",
    "    grid = xgcm.Grid(ds_new,\n",
    "        coords={\n",
    "            \"X\": {\"center\": \"x_c\"},\n",
    "            \"Y\": {\"right\": \"y_f\", \"center\":\"y_c\"},\n",
    "            \"Z\": {\"center\": \"z_c\", \"outer\": \"z_f\"}\n",
    "        },\n",
    "        periodic=False)\n",
    "    ds_new['sigma_v'] = grid.interp(ds_new.sigma0, 'Y')\n",
    "    ds_new['sigma_outer'] = grid.interp(ds_new.sigma_v, 'Z',  boundary='extend')\n",
    "    sigma_1d = ds_new.sigma_outer.isel(time_counter=-2, x_c=slice(2,-2)).mean(['x_c', 'y_f'])\n",
    "    \n",
    "    z_target = sigma_1d.values      \n",
    "    \n",
    "    vtra_transformed = grid.transform(ds_new.vtra,\n",
    "        'Z',\n",
    "        z_target,\n",
    "        method='conservative',\n",
    "        target_data=ds_new.sigma_outer)\n",
    "    \n",
    "    # vtra_transformed = vtra_transformed.assign_coords(z=('depthw', - vtra_transformed.depthw.values))\n",
    "    return vtra_transformed"
   ]
  },
  {
   "cell_type": "code",
   "execution_count": null,
   "id": "5e3487e2",
   "metadata": {},
   "outputs": [],
   "source": [
    "def combine_restarts(path:str, variable:str, grid:str) -> xr.DataArray:\n",
    "    \"\"\"\n",
    "    Combine the data in all restart files to yield one variable as DataArray\n",
    "    \"\"\"\n",
    "    "
   ]
  },
  {
   "cell_type": "code",
   "execution_count": null,
   "id": "64f1f8bd",
   "metadata": {},
   "outputs": [],
   "source": [
    "path   = \"/data/dkamm/nemo_output/NEVERWORLD/\"\n",
    "#path_scratch = \"/gpfsscratch/rech/omr/uym68qx/\""
   ]
  },
  {
   "cell_type": "code",
   "execution_count": null,
   "id": "a2cd5d14",
   "metadata": {},
   "outputs": [],
   "source": [
    "U_new   = clean_coords(xr.load_dataset(path + 'GURVAN_5y/NEVERWORLD_grid_U.nc'), 2000)\n",
    "U_old   = clean_coords(xr.load_dataset(path + 'OLD_5y/NEVERWORLD_grid_U.nc'), 2000)\n",
    "U_triad = clean_coords(xr.load_dataset(path + 'TRIAD_5y/NEVERWORLD_grid_U.nc'), 2000)"
   ]
  },
  {
   "cell_type": "code",
   "execution_count": null,
   "id": "c9abb2ae",
   "metadata": {},
   "outputs": [],
   "source": [
    "U_new, U_old, U_triad = combine_coords([U_new, U_old, U_triad])"
   ]
  },
  {
   "cell_type": "code",
   "execution_count": null,
   "id": "f6fe2d2d",
   "metadata": {},
   "outputs": [],
   "source": [
    "T_new   = clean_coords(xr.load_dataset(path + 'GURVAN_5y/NEVERWORLD_grid_T.nc'), 2000)\n",
    "T_old   = clean_coords(xr.load_dataset(path + 'OLD_5y/NEVERWORLD_grid_T.nc'), 2000)\n",
    "T_triad = clean_coords(xr.load_dataset(path + 'TRIAD_5y/NEVERWORLD_grid_T.nc'), 2000)"
   ]
  },
  {
   "cell_type": "code",
   "execution_count": null,
   "id": "09938b85",
   "metadata": {},
   "outputs": [],
   "source": [
    "T_new, T_old, T_triad = combine_coords([T_new, T_old, T_triad])"
   ]
  },
  {
   "cell_type": "code",
   "execution_count": null,
   "id": "2d425b4e",
   "metadata": {},
   "outputs": [],
   "source": [
    "V_new   = clean_coords(xr.load_dataset(path + 'GURVAN_5y/NEVERWORLD_grid_V.nc'), 2000)\n",
    "V_old   = clean_coords(xr.load_dataset(path + 'OLD_5y/NEVERWORLD_grid_V.nc'), 2000)\n",
    "V_triad = clean_coords(xr.load_dataset(path + 'TRIAD_5y/NEVERWORLD_grid_V.nc'), 2000)"
   ]
  },
  {
   "cell_type": "code",
   "execution_count": null,
   "id": "2b74146e",
   "metadata": {},
   "outputs": [],
   "source": [
    "V_new, V_old, V_triad = combine_coords([V_new, V_old, V_triad])"
   ]
  },
  {
   "attachments": {},
   "cell_type": "markdown",
   "id": "316250e1",
   "metadata": {},
   "source": [
    "# Top zonal velocities at 30° N after five years of integration"
   ]
  },
  {
   "cell_type": "code",
   "execution_count": null,
   "id": "5bb16af6",
   "metadata": {},
   "outputs": [],
   "source": [
    "fig, axs = plt.subplots(3,2, figsize=(20,15), sharex=True)\n",
    "col1 = U_old.uoce.isel(y=120, time_counter=-2, depthu=slice(0,25)).plot(y='z0', ax=axs[0,0], add_colorbar=False, cmap='RdBu_r')\n",
    "cbar1 = fig.colorbar(col1, ax=axs[:,0], location='right', label='[m/s]')\n",
    "U_new.uoce.isel(y=120, time_counter=-2, depthu=slice(0,25)).plot(y='z0', ax=axs[1,0], add_colorbar=False, vmin=cbar1.vmin, vmax=cbar1.vmax, cmap='RdBu_r')\n",
    "U_triad.uoce.isel(y=120, time_counter=-2, depthu=slice(0,25)).plot(y='z0', ax=axs[2,0], add_colorbar=False, vmin=cbar1.vmin, vmax=cbar1.vmax, cmap='RdBu_r')\n",
    "cmap2 = (U_new - U_old).uoce.isel(y=120, time_counter=-2, depthu=slice(0,25)).plot(y='z0', ax=axs[0,1], add_colorbar=False, cmap='RdBu_r')\n",
    "cbar2 = fig.colorbar(cmap2, ax=axs[:,1], location='right', label='[m/s]')\n",
    "(U_new - U_triad).uoce.isel(y=120, time_counter=-2, depthu=slice(0,25)).plot(y='z0', ax=axs[1,1], add_colorbar=False, vmin=cbar2.vmin, vmax=cbar2.vmax, cmap='RdBu_r')\n",
    "(U_old - U_triad).uoce.isel(y=120, time_counter=-2, depthu=slice(0,25)).plot(y='z0', ax=axs[2,1], add_colorbar=False, vmin=cbar2.vmin, vmax=cbar2.vmax, cmap='RdBu_r')\n",
    "axs[0,0].set_title('Old', fontsize=15)\n",
    "axs[1,0].set_title('New', fontsize=15)\n",
    "axs[2,0].set_title('Triad', fontsize=20)\n",
    "axs[0,1].set_title('New - Old', fontsize=20)\n",
    "axs[1,1].set_title('New - Triad', fontsize=20)\n",
    "axs[2,1].set_title('Old - Triad', fontsize=20)"
   ]
  },
  {
   "attachments": {},
   "cell_type": "markdown",
   "id": "6b9820c5",
   "metadata": {},
   "source": [
    "# Bottom zonal velocities at 30° N after five years of integration"
   ]
  },
  {
   "cell_type": "code",
   "execution_count": null,
   "id": "137f33c9",
   "metadata": {},
   "outputs": [],
   "source": [
    "fig, axs = plt.subplots(3,2, figsize=(20,15), sharex=True)\n",
    "col1 = U_old.uoce.isel(y=120, time_counter=-2, depthu=slice(25, -1)).plot(y='z0', ax=axs[0,0], add_colorbar=False, cmap='RdBu_r')\n",
    "cbar1 = fig.colorbar(col1, ax=axs[:,0], location='right', label='[m/s]')\n",
    "U_new.uoce.isel(y=120, time_counter=-2, depthu=slice(25, -1)).plot(y='z0', ax=axs[1,0], add_colorbar=False, vmin=cbar1.vmin, vmax=cbar1.vmax, cmap='RdBu_r')\n",
    "U_triad.uoce.isel(y=120, time_counter=-2, depthu=slice(25, -1)).plot(y='z0', ax=axs[2,0], add_colorbar=False, vmin=cbar1.vmin, vmax=cbar1.vmax, cmap='RdBu_r')\n",
    "cmap2 = (U_new - U_old).uoce.isel(y=120, time_counter=-2, depthu=slice(25, -1)).plot(y='z0', ax=axs[0,1], add_colorbar=False, cmap='RdBu_r')\n",
    "cbar2 = fig.colorbar(cmap2, ax=axs[:,1], location='right', label='[m/s]')\n",
    "(U_new - U_triad).uoce.isel(y=120, time_counter=-2, depthu=slice(25, -1)).plot(y='z0', ax=axs[1,1], add_colorbar=False, vmin=cbar2.vmin, vmax=cbar2.vmax, cmap='RdBu_r')\n",
    "(U_old - U_triad).uoce.isel(y=120, time_counter=-2, depthu=slice(25, -1)).plot(y='z0', ax=axs[2,1], add_colorbar=False, vmin=cbar2.vmin, vmax=cbar2.vmax, cmap='RdBu_r')\n",
    "axs[0,0].set_title('Old', fontsize=15)\n",
    "axs[1,0].set_title('New', fontsize=15)\n",
    "axs[2,0].set_title('Triad', fontsize=20)\n",
    "axs[0,1].set_title('New - Old', fontsize=20)\n",
    "axs[1,1].set_title('New - Triad', fontsize=20)\n",
    "axs[2,1].set_title('Old - Triad', fontsize=20)"
   ]
  },
  {
   "attachments": {},
   "cell_type": "markdown",
   "id": "b0965976",
   "metadata": {},
   "source": [
    "# Top temperature  at 30°N after five years of integration"
   ]
  },
  {
   "cell_type": "code",
   "execution_count": null,
   "id": "aa44ce46",
   "metadata": {},
   "outputs": [],
   "source": [
    "fig, axs = plt.subplots(3,2, figsize=(20,15), sharex=True)\n",
    "\n",
    "col1  = T_triad.toce.isel(y=120, time_counter=-2, deptht=slice(0,25), x=slice(1,-1)).plot(y='z0', ax=axs[2,0], add_colorbar=False, cmap='plasma')\n",
    "cbar1 = fig.colorbar(col1, ax=axs[:,0], location='right', label='[°C]')\n",
    "T_old.toce.isel(y=120, time_counter=-2, deptht=slice(0,25), x=slice(1,-1)).plot(y='z0', ax=axs[0,0], add_colorbar=False, vmin=cbar1.vmin, vmax=cbar1.vmax, cmap='plasma')\n",
    "T_new.toce.isel(y=120, time_counter=-2, deptht=slice(0,25), x=slice(1,-1)).plot(y='z0', ax=axs[1,0], add_colorbar=False, vmin=cbar1.vmin, vmax=cbar1.vmax, cmap='plasma')\n",
    "\n",
    "col2 = (T_old - T_triad).toce.isel(y=120, time_counter=-2, deptht=slice(0,25)).plot(y='z0', ax=axs[2,1], add_colorbar=False, cmap='RdBu_r')\n",
    "cbar2 = fig.colorbar(col2, ax=axs[:,1], location='right', label='[°C]')\n",
    "(T_new - T_old).toce.isel(y=120, time_counter=-2, deptht=slice(0,25)).plot(y='z0', ax=axs[0,1], add_colorbar=False, vmin=cbar2.vmin, vmax=cbar2.vmax, cmap='RdBu_r')\n",
    "(T_new - T_triad).toce.isel(y=120, time_counter=-2, deptht=slice(0,25)).plot(y='z0', ax=axs[1,1], add_colorbar=False, vmin=cbar2.vmin, vmax=cbar2.vmax, cmap='RdBu_r')\n",
    "\n",
    "axs[0,0].set_title('Old', fontsize=20)\n",
    "axs[1,0].set_title('New', fontsize=20)\n",
    "axs[2,0].set_title('Triad', fontsize=20)\n",
    "axs[0,1].set_title('New - Old', fontsize=20)\n",
    "axs[1,1].set_title('New - Triad', fontsize=20)\n",
    "axs[2,1].set_title('Old - Triad', fontsize=20)\n",
    "\n"
   ]
  },
  {
   "attachments": {},
   "cell_type": "markdown",
   "id": "3c5a97ed",
   "metadata": {},
   "source": [
    "# Bottom temperature  at 30°N after five years of integration"
   ]
  },
  {
   "cell_type": "code",
   "execution_count": null,
   "id": "4d347834",
   "metadata": {},
   "outputs": [],
   "source": [
    "fig, axs = plt.subplots(3,2, figsize=(20,15), sharex=True)\n",
    "\n",
    "col1  = T_triad.toce.isel(y=120, time_counter=-2, deptht=slice(25,-1), x=slice(1,-1)).plot(y='z0', ax=axs[2,0], add_colorbar=False, cmap='plasma')\n",
    "cbar1 = fig.colorbar(col1, ax=axs[:,0], location='right', label='[°C]')\n",
    "T_old.toce.isel(y=120, time_counter=-2, deptht=slice(25,-1), x=slice(1,-1)).plot(y='z0', ax=axs[0,0], add_colorbar=False, vmin=cbar1.vmin, vmax=cbar1.vmax, cmap='plasma')\n",
    "T_new.toce.isel(y=120, time_counter=-2, deptht=slice(25,-1), x=slice(1,-1)).plot(y='z0', ax=axs[1,0], add_colorbar=False, vmin=cbar1.vmin, vmax=cbar1.vmax, cmap='plasma')\n",
    "\n",
    "col2 = (T_old - T_triad).toce.isel(y=120, time_counter=-2, deptht=slice(25,-1)).plot(y='z0', ax=axs[2,1], add_colorbar=False, cmap='RdBu_r')\n",
    "cbar2 = fig.colorbar(col2, ax=axs[:,1], location='right', label='[°C]')\n",
    "(T_new - T_old).toce.isel(y=120, time_counter=-2, deptht=slice(25,-1)).plot(y='z0', ax=axs[0,1], add_colorbar=False, vmin=cbar2.vmin, vmax=cbar2.vmax, cmap='RdBu_r')\n",
    "(T_new - T_triad).toce.isel(y=120, time_counter=-2, deptht=slice(25,-1)).plot(y='z0', ax=axs[1,1], add_colorbar=False, vmin=cbar2.vmin, vmax=cbar2.vmax, cmap='RdBu_r')\n",
    "\n",
    "axs[0,0].set_title('Old', fontsize=20)\n",
    "axs[1,0].set_title('New', fontsize=20)\n",
    "axs[2,0].set_title('Triad', fontsize=20)\n",
    "axs[0,1].set_title('New - Old', fontsize=20)\n",
    "axs[1,1].set_title('New - Triad', fontsize=20)\n",
    "axs[2,1].set_title('Old - Triad', fontsize=20)\n",
    "\n"
   ]
  },
  {
   "attachments": {},
   "cell_type": "markdown",
   "id": "b4aa945d",
   "metadata": {},
   "source": [
    "# Top meridional velocities at 30° N after five years of integration"
   ]
  },
  {
   "cell_type": "code",
   "execution_count": null,
   "id": "c962b000",
   "metadata": {},
   "outputs": [],
   "source": [
    "fig, axs = plt.subplots(3,2, figsize=(20,15), sharex=True)\n",
    "col1 = V_old.voce.isel(y=120, time_counter=-2, depthv=slice(0,25)).plot(y='z0', ax=axs[0,0], add_colorbar=False, cmap='RdBu_r')\n",
    "cbar1 = fig.colorbar(col1, ax=axs[:,0], location='right', label='[m/s]')\n",
    "V_new.voce.isel(y=120, time_counter=-2, depthv=slice(0,25)).plot(y='z0', ax=axs[1,0], add_colorbar=False, vmin=cbar1.vmin, vmax=cbar1.vmax, cmap='RdBu_r')\n",
    "V_triad.voce.isel(y=120, time_counter=-2, depthv=slice(0,25)).plot(y='z0', ax=axs[2,0], add_colorbar=False, vmin=cbar1.vmin, vmax=cbar1.vmax, cmap='RdBu_r')\n",
    "cmap2 = (V_new - V_old).voce.isel(y=120, time_counter=-2, depthv=slice(0,25)).plot(y='z0', ax=axs[0,1], add_colorbar=False, cmap='RdBu_r')\n",
    "cbar2 = fig.colorbar(cmap2, ax=axs[:,1], location='right', label='[m/s]')\n",
    "(V_new - V_triad).voce.isel(y=120, time_counter=-2, depthv=slice(0,25)).plot(y='z0', ax=axs[1,1], add_colorbar=False, vmin=cbar2.vmin, vmax=cbar2.vmax, cmap='RdBu_r')\n",
    "(V_old - V_triad).voce.isel(y=120, time_counter=-2, depthv=slice(0,25)).plot(y='z0', ax=axs[2,1], add_colorbar=False, vmin=cbar2.vmin, vmax=cbar2.vmax, cmap='RdBu_r')\n",
    "axs[0,0].set_title('Old', fontsize=15)\n",
    "axs[1,0].set_title('New', fontsize=15)\n",
    "axs[2,0].set_title('Triad', fontsize=20)\n",
    "axs[0,1].set_title('New - Old', fontsize=20)\n",
    "axs[1,1].set_title('New - Triad', fontsize=20)\n",
    "axs[2,1].set_title('Old - Triad', fontsize=20)"
   ]
  },
  {
   "attachments": {},
   "cell_type": "markdown",
   "id": "1a6f9897",
   "metadata": {},
   "source": [
    "# Bottom meridional velocities at 30° N after five years of integration"
   ]
  },
  {
   "cell_type": "code",
   "execution_count": null,
   "id": "31a1bd4a",
   "metadata": {},
   "outputs": [],
   "source": [
    "fig, axs = plt.subplots(3,2, figsize=(20,15), sharex=True)\n",
    "col1 = V_old.voce.isel(y=120, time_counter=-2, depthv=slice(25, -1)).plot(y='z0', ax=axs[0,0], add_colorbar=False, cmap='RdBu_r')\n",
    "cbar1 = fig.colorbar(col1, ax=axs[:,0], location='right', label='[m/s]')\n",
    "V_new.voce.isel(y=120, time_counter=-2, depthv=slice(25,-1)).plot(y='z0', ax=axs[1,0], add_colorbar=False, vmin=cbar1.vmin, vmax=cbar1.vmax, cmap='RdBu_r')\n",
    "V_triad.voce.isel(y=120, time_counter=-2, depthv=slice(25,-1)).plot(y='z0', ax=axs[2,0], add_colorbar=False, vmin=cbar1.vmin, vmax=cbar1.vmax, cmap='RdBu_r')\n",
    "cmap2 = (V_new - V_old).voce.isel(y=120, time_counter=-2, depthv=slice(25,-1)).plot(y='z0', ax=axs[0,1], add_colorbar=False, cmap='RdBu_r')\n",
    "cbar2 = fig.colorbar(cmap2, ax=axs[:,1], location='right', label='[m/s]')\n",
    "(V_new - V_triad).voce.isel(y=120, time_counter=-2, depthv=slice(25,-1)).plot(y='z0', ax=axs[1,1], add_colorbar=False, vmin=cbar2.vmin, vmax=cbar2.vmax, cmap='RdBu_r')\n",
    "(V_old - V_triad).voce.isel(y=120, time_counter=-2, depthv=slice(25,-1)).plot(y='z0', ax=axs[2,1], add_colorbar=False, vmin=cbar2.vmin, vmax=cbar2.vmax, cmap='RdBu_r')\n",
    "axs[0,0].set_title('Old', fontsize=15)\n",
    "axs[1,0].set_title('New', fontsize=15)\n",
    "axs[2,0].set_title('Triad', fontsize=20)\n",
    "axs[0,1].set_title('New - Old', fontsize=20)\n",
    "axs[1,1].set_title('New - Triad', fontsize=20)\n",
    "axs[2,1].set_title('Old - Triad', fontsize=20)"
   ]
  },
  {
   "cell_type": "code",
   "execution_count": null,
   "id": "6222ca7a",
   "metadata": {},
   "outputs": [],
   "source": [
    "import cartopy.crs as ccrs\n",
    "\n",
    "#U_s = clean_coords(xr.load_dataset(path + 'Scottia_low_150y/restart0/NEVERWORLD_grid_U.nc'), 1700)\n",
    "U_s = combine_coords([U_s])"
   ]
  },
  {
   "cell_type": "code",
   "execution_count": null,
   "id": "011ed15b",
   "metadata": {},
   "outputs": [],
   "source": [
    "U_s[0]"
   ]
  },
  {
   "cell_type": "code",
   "execution_count": null,
   "id": "6574eaae",
   "metadata": {},
   "outputs": [],
   "source": [
    "U_plt = U_s[0].assign_coords({'x': U_s[0].x.values - 60.}).z0.isel(depthu=-1)"
   ]
  },
  {
   "cell_type": "code",
   "execution_count": null,
   "id": "c0ca1bbb",
   "metadata": {},
   "outputs": [],
   "source": [
    "U_plt_np = np.concatenate((np.zeros((1,52)),np.concatenate((np.zeros((199,1)), U_plt.values, np.zeros((199,1))), axis=1), np.zeros((1,52))), axis=0)\n",
    "U_plt_np[25:56,-1] = U_plt_np[25:56,-2]\n",
    "U_plt_np[25:56,0]  = U_plt_np[25:56,1]"
   ]
  },
  {
   "cell_type": "code",
   "execution_count": null,
   "id": "e8b7833e",
   "metadata": {},
   "outputs": [],
   "source": [
    "U_plot = xr.DataArray(U_plt_np,\n",
    "    coords={\n",
    "        'y':np.concatenate(([-70.2], U_plt.y.values, [70.2])),\n",
    "        'x':np.concatenate(([-61.], U_plt.x.values, [-10.]))\n",
    "    }\n",
    ")"
   ]
  },
  {
   "cell_type": "code",
   "execution_count": null,
   "id": "178ddaed",
   "metadata": {},
   "outputs": [],
   "source": [
    "p = U_plot.plot(\n",
    "\n",
    "    subplot_kws=dict(projection=ccrs.Orthographic(-30., 0.), facecolor=\"black\"),\n",
    "\n",
    "    transform=ccrs.PlateCarree(),\n",
    "\n",
    "    figsize=(20,20),\n",
    "\n",
    "    add_colorbar=False,\n",
    "    # cmap='inferno'\n",
    ")\n",
    "p.axes.set_global()\n",
    "\n",
    "p.axes.coastlines(color='white', linewidth=3)\n",
    "plt.title('')\n",
    "plt.colorbar(p,fraction=0.046, pad=0.04)\n"
   ]
  },
  {
   "cell_type": "code",
   "execution_count": null,
   "id": "5de94036",
   "metadata": {},
   "outputs": [],
   "source": []
  },
  {
   "cell_type": "code",
   "execution_count": null,
   "id": "c202f12f",
   "metadata": {},
   "outputs": [],
   "source": [
    " # U_new = U_new.assign_coords({'x': U_new.x.values - 60.})"
   ]
  },
  {
   "cell_type": "code",
   "execution_count": null,
   "id": "0d03f22d",
   "metadata": {},
   "outputs": [],
   "source": [
    "test = np.mgrid[1:37, 1:50][0]"
   ]
  },
  {
   "cell_type": "code",
   "execution_count": null,
   "id": "981da4a1",
   "metadata": {},
   "outputs": [],
   "source": [
    "test[0].shape"
   ]
  },
  {
   "cell_type": "code",
   "execution_count": null,
   "id": "238d238c",
   "metadata": {},
   "outputs": [],
   "source": [
    "(- U_s.e3u.cumsum('depthu').values).shape"
   ]
  },
  {
   "cell_type": "code",
   "execution_count": null,
   "id": "4bb270cc",
   "metadata": {},
   "outputs": [],
   "source": [
    "import numpy as np"
   ]
  },
  {
   "cell_type": "code",
   "execution_count": null,
   "id": "dce7f419",
   "metadata": {},
   "outputs": [],
   "source": [
    "np.mgrid[1:37, 0:50, 0:199,  0:50][0]"
   ]
  },
  {
   "cell_type": "code",
   "execution_count": null,
   "id": "448dad37",
   "metadata": {},
   "outputs": [],
   "source": [
    "U_plt['vertical level'] = (['depthu', 'x', 'y', 'time_counter'], np.mgrid[1:37, 0:50, 0:199,  0:50][0])"
   ]
  },
  {
   "cell_type": "code",
   "execution_count": null,
   "id": "547e596b",
   "metadata": {},
   "outputs": [],
   "source": [
    "(- U_plt.e3u.isel(time_counter=-2, x=-1).cumsum('depthu')).plot.line(x='y', add_legend=False, color='white', figsize=(20,10))\n",
    "plt.title('')\n",
    "#plt.xlim(-60,-11)\n",
    "plt.hlines(-1000, xmin=-60, xmax=-11, color='darkred', linewidth=6)\n",
    "plt.ylabel('depth')"
   ]
  },
  {
   "cell_type": "code",
   "execution_count": null,
   "id": "f41ff004",
   "metadata": {},
   "outputs": [],
   "source": [
    "U_s['vertical level'].isel(y=120, time_counter=-2).plot.contourf(y='z0', figsize=(20,10), levels=36, cmap='viridis')\n",
    "(- U_s.e3u.isel(time_counter=-2, y=120).cumsum('depthu')).plot.line(x='x', add_legend=False, color='black', linestyle='-')\n",
    "plt.step(U_s.x.values, -U_s.steps.values, where='mid', color='white', label='ORCA1')\n",
    "plt.title('')\n",
    "plt.hlines(-1000, xmin=-60, xmax=-11, color='darkred', linewidth=6)\n",
    "plt.ylabel('depth [m]')\n",
    "plt.xlabel('longitude [°E]')\n",
    "plt.legend(labelcolor='white')"
   ]
  },
  {
   "cell_type": "code",
   "execution_count": null,
   "id": "2cd4885c",
   "metadata": {},
   "outputs": [],
   "source": [
    "U_s['vertical level'].isel(y=120, time_counter=-2).shape"
   ]
  },
  {
   "cell_type": "code",
   "execution_count": null,
   "id": "d36d1473",
   "metadata": {},
   "outputs": [],
   "source": [
    "T_new.toce.isel(time_counter=-2, x=10, deptht=slice(0,20)).plot.contourf(y='z0',vmin=10, figsize=(20,10))"
   ]
  },
  {
   "attachments": {},
   "cell_type": "markdown",
   "id": "dc162190",
   "metadata": {},
   "source": [
    "# Interpolation"
   ]
  },
  {
   "cell_type": "code",
   "execution_count": null,
   "id": "bc41fd48",
   "metadata": {},
   "outputs": [],
   "source": [
    "#xr.load_dataset(path + 'SO_BATHY/restart2/mesh_mask.nc').rename({'x':'nav_lon', 'nav_lat_grid_T':'nav_lat'}).rename_dims({'nav_lon_grid_T':'x'}).to_netcdf('SO_mesh.nc')\n",
    "#xr.load_dataset(path + 'SO_BATHY/restart2/domain_cfg_out.nc').rename({'x':'nav_lon', 'nav_lat_grid_T':'nav_lat'}).rename_dims({'nav_lon_grid_T':'x'}).to_netcdf('SO_domain.nc')"
   ]
  },
  {
   "cell_type": "code",
   "execution_count": null,
   "id": "a2056d52",
   "metadata": {},
   "outputs": [],
   "source": [
    "domain = create_xgcm_domain(\n",
    "    clean_coords( xr.load_dataset(path + 'GURVAN_5y/mesh.nc'), 2000),\n",
    "    clean_coords(xr.load_dataset(path + 'GURVAN_5y/domain.nc'), 2000)\n",
    ")\n",
    "\n",
    "domain_big = create_xgcm_domain(\n",
    "    clean_coords( xr.load_dataset(path + 'Scottia_low_150y/restart0/mesh_big.nc'), 2000   ),\n",
    "    clean_coords( xr.load_dataset(path + 'Scottia_low_150y/restart0/domain_big.nc'), 2000 )\n",
    ")\n",
    "\n",
    "domain_free = create_xgcm_domain(\n",
    "    clean_coords( xr.load_dataset(path + 'SO_BATHY/restart2/SO_mesh.nc'), 2000   ),\n",
    "    clean_coords( xr.load_dataset(path + 'SO_BATHY/restart2/SO_domain.nc'), 2000 )\n",
    ")"
   ]
  },
  {
   "cell_type": "code",
   "execution_count": null,
   "id": "9df7a206",
   "metadata": {},
   "outputs": [],
   "source": [
    "domain_free"
   ]
  },
  {
   "cell_type": "code",
   "execution_count": null,
   "id": "2d79f263",
   "metadata": {},
   "outputs": [],
   "source": [
    "Over_new    = (V_transport_on_z(domain, V_new).isel(time_counter=-2)).sum(dim='x_c')[:,::-1].cumsum('depthw') / 1e6\n",
    "Over_triad  = (V_transport_on_z(domain, V_triad).isel(time_counter=-2)).sum(dim='x_c')[:,::-1].cumsum('depthw') / 1e6\n",
    "Over_old    = (V_transport_on_z(domain, V_old).isel(time_counter=-2)).sum(dim='x_c')[:,::-1].cumsum('depthw') / 1e6"
   ]
  },
  {
   "attachments": {},
   "cell_type": "markdown",
   "id": "7348961a",
   "metadata": {},
   "source": [
    "# Meridional overturning streamfunction"
   ]
  },
  {
   "cell_type": "code",
   "execution_count": null,
   "id": "9d48a65a",
   "metadata": {},
   "outputs": [],
   "source": [
    "fig, axs = plt.subplots(3,2, figsize=(20,15), sharex=True)\n",
    "col1 = Over_new.plot(x='y_f', y='z', ax=axs[0,0], add_colorbar=False, cmap='RdBu_r')\n",
    "cbar1 = fig.colorbar(col1, ax=axs[:,0], location='right', label='[Sv]')\n",
    "Over_old.plot(x='y_f', y='z', ax=axs[1,0], add_colorbar=False, vmin=cbar1.vmin, vmax=cbar1.vmax, cmap='RdBu_r')\n",
    "Over_triad.plot(x='y_f', y='z', ax=axs[2,0], add_colorbar=False, vmin=cbar1.vmin, vmax=cbar1.vmax, cmap='RdBu_r')\n",
    "cmap2 = (Over_new - Over_old).plot(x='y_f', y='z', ax=axs[0,1], add_colorbar=False, cmap='RdBu_r')\n",
    "cbar2 = fig.colorbar(cmap2, ax=axs[:,1], location='right', label='[Sv]')\n",
    "(Over_new - Over_triad).plot(x='y_f', y='z', ax=axs[1,1], add_colorbar=False, vmin=cbar2.vmin, vmax=cbar2.vmax, cmap='RdBu_r')\n",
    "(Over_old - Over_triad).plot(x='y_f', y='z', ax=axs[2,1], add_colorbar=False, vmin=cbar2.vmin, vmax=cbar2.vmax, cmap='RdBu_r')\n",
    "axs[0,0].set_title('Old', fontsize=15)\n",
    "axs[1,0].set_title('New', fontsize=15)\n",
    "axs[2,0].set_title('Triad', fontsize=20)\n",
    "axs[0,1].set_title('New - Old', fontsize=20)\n",
    "axs[1,1].set_title('New - Triad', fontsize=20)\n",
    "axs[2,1].set_title('Old - Triad', fontsize=20)"
   ]
  },
  {
   "attachments": {},
   "cell_type": "markdown",
   "id": "f5922c68",
   "metadata": {},
   "source": [
    "# 300 year runs"
   ]
  },
  {
   "cell_type": "code",
   "execution_count": null,
   "id": "ea834b84",
   "metadata": {},
   "outputs": [],
   "source": [
    "import gsw as gsw"
   ]
  },
  {
   "cell_type": "code",
   "execution_count": null,
   "id": "0ed51a78",
   "metadata": {},
   "outputs": [],
   "source": [
    "V_s = clean_coords(xr.load_dataset(path + '1_deg_GM/restart5/NEVERWORLD_grid_V.nc'), 1700)\n",
    "U_s = clean_coords(xr.load_dataset(path + '1_deg_GM/restart5/NEVERWORLD_grid_U.nc'), 1700)\n",
    "T_s = clean_coords(xr.load_dataset(path + '1_deg_GM/restart5/NEVERWORLD_grid_T.nc'), 1700)\n",
    "\n",
    "# V_z = clean_coords(xr.load_dataset(path + 'Scottia_low_150y/restart2/NEVERWORLD_grid_V.nc'), 1700)\n",
    "# U_z = clean_coords(xr.load_dataset(path + 'Scottia_low_150y/restart2/NEVERWORLD_grid_U.nc'), 1700)\n",
    "# T_z = clean_coords(xr.load_dataset(path + 'Scottia_low_150y/restart2/NEVERWORLD_grid_T.nc'), 1700)\n",
    "\n",
    "# V_triad = combine_coords([V_200])\n",
    "# U_triad = combine_coords([U_200])\n",
    "# T_triad = combine_coords([T_200])"
   ]
  },
  {
   "cell_type": "code",
   "execution_count": null,
   "id": "2d3f5192",
   "metadata": {},
   "outputs": [],
   "source": [
    "V_z = clean_coords(xr.load_dataset(path + '1_deg_GM/restart4/NEVERWORLD_grid_V.nc'), 1700)\n",
    "U_z = clean_coords(xr.load_dataset(path + '1_deg_GM/restart4/NEVERWORLD_grid_U.nc'), 1700)\n",
    "T_z = clean_coords(xr.load_dataset(path + '1_deg_GM/restart4/NEVERWORLD_grid_T.nc'), 1700)\n",
    "\n"
   ]
  },
  {
   "cell_type": "code",
   "execution_count": null,
   "id": "12837a55",
   "metadata": {},
   "outputs": [],
   "source": [
    "T_mo_s = clean_coords(xr.load_dataset(path + '1_deg_GM/restart5/NEVERWORLD_grid_T_mo.nc'), 1700)\n",
    "#T_mo_s = clean_coords(xr.load_dataset(path + 'nn_etau1/restart4/NEVERWORLD_grid_T_mo.nc'), 1700)"
   ]
  },
  {
   "cell_type": "code",
   "execution_count": null,
   "id": "eb0c536d",
   "metadata": {},
   "outputs": [],
   "source": [
    "fig, axs = plt.subplots(1,3,figsize=(20,10))\n",
    "T_mo_s.mldr10_1max.isel(time_counter=-1).plot(ax=axs[0])\n",
    "T_mo_z.mldr10_1max.isel(time_counter=-1).plot(ax=axs[1])\n",
    "(T_mo_z.mldr10_1 - T_mo_s.mldr10_1).isel(time_counter=-1).plot(ax=axs[2])\n",
    "axs[0].set_title('nn_etau1=1')\n",
    "axs[1].set_title('nn_etau1=0')\n",
    "axs[2].set_title('nn_etau1=0 - nn_etau1=1')\n",
    "plt.tight_layout()"
   ]
  },
  {
   "cell_type": "code",
   "execution_count": null,
   "id": "73bb49b0",
   "metadata": {},
   "outputs": [],
   "source": [
    "T_s['sigma2'] = gsw.sigma2(T_s.soce, gsw.CT_from_pt(T_s.soce, T_s.toce))\n",
    "#T_z['sigma0'] = gsw.sigma0(T_z.soce, gsw.CT_from_pt(T_z.soce, T_z.toce))"
   ]
  },
  {
   "cell_type": "code",
   "execution_count": null,
   "id": "dda715f6",
   "metadata": {},
   "outputs": [],
   "source": [
    "V_s.y.isel(y=140)"
   ]
  },
  {
   "cell_type": "code",
   "execution_count": null,
   "id": "73ee324b",
   "metadata": {},
   "outputs": [],
   "source": [
    "fig, ax = plt.subplots(1,1,figsize=(20,10))\n",
    "T_s.sigma0.isel(time_counter=-1, y=slice(1,-1), x=slice(1,-1), deptht=slice(20,-1)).mean('x').plot.contourf(levels=31)\n",
    "ax.invert_yaxis()"
   ]
  },
  {
   "cell_type": "code",
   "execution_count": null,
   "id": "9e9b2643",
   "metadata": {},
   "outputs": [],
   "source": [
    "fig, ax = plt.subplots(1,1,figsize=(20,10))\n",
    "T_z.sigma0.isel(time_counter=-1, y=slice(1,-1), x=slice(1,-1), deptht=slice(20,-1)).mean('x').plot.contourf(levels=31)\n",
    "ax.invert_yaxis()"
   ]
  },
  {
   "cell_type": "code",
   "execution_count": null,
   "id": "06431a97",
   "metadata": {},
   "outputs": [],
   "source": [
    "fig, ax = plt.subplots(1,1,figsize=(20,10))\n",
    "T_s.sigma0.isel(time_counter=-1, y=slice(1,-1), x=slice(25,-1), deptht=slice(0,-1)).mean('x').plot.contourf(levels=31)\n",
    "ax.invert_yaxis()"
   ]
  },
  {
   "cell_type": "code",
   "execution_count": null,
   "id": "5eda325e",
   "metadata": {},
   "outputs": [],
   "source": [
    "T_s.sigma0.isel(time_counter=-1, y=slice(1,-1), x=slice(1,-1), deptht=slice(0,-1)).mean('x').min()"
   ]
  },
  {
   "cell_type": "code",
   "execution_count": null,
   "id": "f9fae326",
   "metadata": {},
   "outputs": [],
   "source": [
    "Over_s    = (V_transport_on_z(domain_free, V_s).isel(time_counter=-2)).sum(dim='x_c')[:,::-1].cumsum('depthw') / 1e6\n",
    "\n",
    "#Over_west    = (V_transport_on_z(domain_free, V_s).isel(time_counter=-2, x_c=slice(0,25))).sum(dim='x_c')[:,::-1].cumsum('depthw') / 1e6\n",
    "#Over_east    = (V_transport_on_z(domain_free, V_s).isel(time_counter=-2, x_c=slice(25,-1))).sum(dim='x_c')[:,::-1].cumsum('depthw') / 1e6\n",
    "#Over_z    = (V_transport_on_z(domain_free, V_z).isel(time_counter=-2)).sum(dim='x_c')[:,::-1].cumsum('depthw') / 1e6"
   ]
  },
  {
   "cell_type": "code",
   "execution_count": null,
   "id": "bbbed798",
   "metadata": {},
   "outputs": [],
   "source": [
    "fig, axs = plt.subplots(1,2,figsize=(20,10), sharey=True)\n",
    "col = (-Over_west).isel(depthw=slice(0,-1)).plot.contourf(x='y_f', y='z', cmap='RdBu_r', levels=30, add_colorbar=False, ax=axs[0])\n",
    "cbar1 = fig.colorbar(col, ax=axs[:2], location='bottom', label='[Sv]')\n",
    "(-Over_east).isel(depthw=slice(0,-1)).plot.contourf(x='y_f', y='z', cmap='RdBu_r',vmin=cbar1.vmin, vmax=cbar1.vmax, levels=30, add_colorbar=False, ax=axs[1])\n",
    "#(Over_z-Over_s).isel(depthw=slice(0,-1)).plot.contourf(x='y_f', y='z', cmap='RdBu_r', levels=30, ax=axs[2])\n",
    "axs[0].set_title('east')\n",
    "axs[1].set_title(r'west')\n",
    "#axs[2].set_title(r'z-coords - $\\sigma$-coords')"
   ]
  },
  {
   "cell_type": "code",
   "execution_count": null,
   "id": "54d7d884",
   "metadata": {},
   "outputs": [],
   "source": [
    "fig, axs = plt.subplots(1,2,figsize=(15,10))\n",
    "a = (-Over_east - Over_west).isel(depthw=slice(0,-1)).plot.contourf(x='y_f', y='z', cmap='RdBu_r', levels=30, add_colorbar=False)\n",
    "cbar1 = fig.colorbar(a, ax=axs[0], label='[Sv]')\n",
    "(Over_z-Over_s).isel(depthw=slice(0,-1)).plot.contourf(x='y_f', y='z', cmap='RdBu_r', levels=30, ax=axs[1])\n",
    "axs[1].set_title(r'z-coords - $\\sigma$-coords')"
   ]
  },
  {
   "cell_type": "code",
   "execution_count": null,
   "id": "dba19be0",
   "metadata": {},
   "outputs": [],
   "source": [
    "fig, axs = plt.subplots(1,1,figsize=(15,10))\n",
    "a = (-Over_s).isel(depthw=slice(0,-1)).plot.contourf(x='y_f', y='z', cmap='RdBu_r', levels=30, add_colorbar=False)\n",
    "cbar1 = fig.colorbar(a, ax=axs, label=r'$\\psi$ [Sv]')\n",
    "plt.xlabel('latitude [°N]')\n",
    "#(Over_z-Over_s).isel(depthw=slice(0,-1)).plot.contourf(x='y_f', y='z', cmap='RdBu_r', levels=30, ax=axs[2])\n",
    "#axs[2].set_title(r'z-coords - $\\sigma$-coords')"
   ]
  },
  {
   "cell_type": "code",
   "execution_count": null,
   "id": "b151335f",
   "metadata": {},
   "outputs": [],
   "source": [
    "fig, axs = plt.subplots(1,1,figsize=(15,10))\n",
    "a = (-Over_z).isel(depthw=slice(0,-1)).plot.contourf(x='y_f', y='z', cmap='RdBu_r', levels=30, add_colorbar=False)\n",
    "cbar1 = fig.colorbar(a, ax=axs, label=r'$\\psi$ [Sv]')\n",
    "plt.xlabel('latitude [°N]')"
   ]
  },
  {
   "cell_type": "code",
   "execution_count": null,
   "id": "95f10ef6",
   "metadata": {},
   "outputs": [],
   "source": [
    "Over_s.isel(depthw=slice(0,-1), y_f=126).min('depthw')"
   ]
  },
  {
   "cell_type": "code",
   "execution_count": null,
   "id": "8285f9ef",
   "metadata": {},
   "outputs": [],
   "source": [
    "vtra_den, e3v_den = V_transport_on_sigma(domain_free, V_s, T_s.sigma0)\n",
    "Over_s_den    = vtra_den.isel(time_counter=-2).sum(dim='x_c')[:,::-1].cumsum('sigma_outer') / 1e6\n",
    "\n",
    "#vtra_denz, e3v_denz = V_transport_on_sigma(domain_free, V_z, T_z.sigma0)\n",
    "#Over_z_den    = vtra_denz.isel(time_counter=-2).sum(dim='x_c')[:,::-1].cumsum('sigma_outer') / 1e6"
   ]
  },
  {
   "cell_type": "code",
   "execution_count": null,
   "id": "1137f683",
   "metadata": {},
   "outputs": [],
   "source": [
    "vtra_den2, e3v_den2 = V_transport_on_sigma(domain_free, V_s, T_s.sigma2)\n",
    "Over_s_den2    = vtra_den2.isel(time_counter=-2).sum(dim='x_c')[:,::-1].cumsum('sigma_outer') / 1e6"
   ]
  },
  {
   "cell_type": "code",
   "execution_count": null,
   "id": "b70d81a3",
   "metadata": {},
   "outputs": [],
   "source": [
    "fig, axs = plt.subplots(1,1,figsize=(15,10))\n",
    "a = (-Over_s_den).plot.contourf(x='y_f', y='sigma_outer', cmap='RdBu_r', levels=30, add_colorbar=False)\n",
    "cbar1 = fig.colorbar(a, ax=axs, label=r'$\\psi$ [Sv]')\n",
    "plt.xlabel('latitude [°N]')\n",
    "axs.invert_yaxis()\n",
    "plt.ylabel(r'')\n",
    "#(Over_z-Over_s).isel(depthw=slice(0,-1)).plot.contourf(x='y_f', y='z', cmap='RdBu_r', levels=30, ax=axs[2])\n",
    "#axs[2].set_title(r'z-coords - $\\sigma$-coords')"
   ]
  },
  {
   "cell_type": "code",
   "execution_count": null,
   "id": "cf741cc4",
   "metadata": {},
   "outputs": [],
   "source": [
    "fig, axs = plt.subplots(1,1,figsize=(15,10))\n",
    "a = (-Over_s_den2).plot.contourf(x='y_f', y='sigma_outer', cmap='RdBu_r', levels=30, add_colorbar=False)\n",
    "cbar1 = fig.colorbar(a, ax=axs, label=r'$\\psi$ [Sv]')\n",
    "plt.xlabel('latitude [°N]')\n",
    "axs.invert_yaxis()\n",
    "plt.ylabel(r'$\\sigma_{2}$ [ $kg$ / $m^3$ - 1000 ]')\n",
    "#(Over_z-Over_s).isel(depthw=slice(0,-1)).plot.contourf(x='y_f', y='z', cmap='RdBu_r', levels=30, ax=axs[2])\n",
    "#axs[2].set_title(r'z-coords - $\\sigma$-coords')"
   ]
  },
  {
   "cell_type": "code",
   "execution_count": null,
   "id": "622b9e7f",
   "metadata": {},
   "outputs": [],
   "source": [
    "fig, axs = plt.subplots(1,1,figsize=(15,10))\n",
    "a = (-Over_z_den).plot.contourf(x='y_f', y='sigma_outer', cmap='RdBu_r', levels=30, add_colorbar=False)\n",
    "cbar1 = fig.colorbar(a, ax=axs, label=r'$\\psi$ [Sv]')\n",
    "plt.xlabel('latitude [°N]')\n",
    "axs.invert_yaxis()\n",
    "#(Over_z-Over_s).isel(depthw=slice(0,-1)).plot.contourf(x='y_f', y='z', cmap='RdBu_r', levels=30, ax=axs[2])\n",
    "#axs[2].set_title(r'z-coords - $\\sigma$-coords')"
   ]
  },
  {
   "cell_type": "code",
   "execution_count": null,
   "id": "c34fdece",
   "metadata": {},
   "outputs": [],
   "source": [
    "ds_domain = domain_free.copy()\n",
    "ds_domain['Over_s_den'] = Over_s_den"
   ]
  },
  {
   "cell_type": "code",
   "execution_count": null,
   "id": "d5804379",
   "metadata": {},
   "outputs": [],
   "source": []
  },
  {
   "cell_type": "code",
   "execution_count": null,
   "id": "222f0d17",
   "metadata": {},
   "outputs": [],
   "source": [
    "grid_den = xgcm.Grid(ds_domain,\n",
    "        coords={\n",
    "            \"Y\": {\"right\": \"y_f\"},\n",
    "            \"Z\": {\"outer\": \"sigma_outer\"}\n",
    "        },\n",
    "        periodic=False)\n",
    "\n",
    "vtra_e3v = grid_den.transform(Over_s_den,\n",
    "        'Z',\n",
    "        domain_free.e3v.isel(y_f=100, x_c=40).data,\n",
    "        #method='conservative',\n",
    "        target_data=e3v_den.isel(x_c=40))"
   ]
  },
  {
   "cell_type": "code",
   "execution_count": null,
   "id": "94d64f35",
   "metadata": {},
   "outputs": [],
   "source": [
    "vtra_e3v = vtra_e3v.assign_coords({'z': 5. - vtra_e3v.e3v.cumsum('e3v')})"
   ]
  },
  {
   "cell_type": "code",
   "execution_count": null,
   "id": "084dbcc5",
   "metadata": {},
   "outputs": [],
   "source": [
    "vtra_e3v.plot(x='y_f', y='z')"
   ]
  },
  {
   "attachments": {},
   "cell_type": "markdown",
   "id": "73c2a93b",
   "metadata": {},
   "source": [
    "# Barotropic streamfunction"
   ]
  },
  {
   "cell_type": "code",
   "execution_count": null,
   "id": "1af4eb27",
   "metadata": {},
   "outputs": [],
   "source": [
    "#U_z['U'] = (U_z.uoce * U_z.e3u).sum('depthu')\n",
    "U_s['U'] = (U_s.uoce * U_s.e3u).sum('depthu')"
   ]
  },
  {
   "cell_type": "code",
   "execution_count": null,
   "id": "8a4661ff",
   "metadata": {},
   "outputs": [],
   "source": [
    "#U_z_grid = domain_free.copy()\n",
    "U_s_grid = domain_free.copy()\n",
    "\n",
    "#U_z_grid['uoce']      = (['time_counter','z_c', 'y_c', 'x_f'], U_z.uoce.data)\n",
    "U_s_grid['uoce']      = (['time_counter','z_c', 'y_c', 'x_f'], U_s.uoce.data)\n",
    "\n",
    "#U_z_grid['e3u']      = (['time_counter','z_c', 'y_c', 'x_f'], U_z.e3u.data)\n",
    "U_s_grid['e3u']      = (['time_counter','z_c', 'y_c', 'x_f'], U_s.e3u.data)"
   ]
  },
  {
   "cell_type": "code",
   "execution_count": null,
   "id": "f0f00bdb",
   "metadata": {},
   "outputs": [],
   "source": [
    "\n",
    "metrics = {\n",
    "    ('X',): ['e1t', 'e1u', 'e1v', 'e1f'], # X distances\n",
    "    ('Y',): ['e2t', 'e2u', 'e2v', 'e2f'], # Y distances\n",
    "    ('Z',): ['e3t', 'e3u', 'e3v', 'e3f'] # Z distances\n",
    "}\n",
    "\n",
    "\n",
    "grid_big = xgcm.Grid(domain_big,\n",
    "        coords={\n",
    "            \"X\": {\"right\": \"x_f\", \"center\": \"x_c\"},\n",
    "            \"Y\": {\"right\": \"y_f\", \"center\":\"y_c\"},\n",
    "            \"Z\": {\"right\": \"z_f\", \"center\": \"z_c\"}\n",
    "        },\n",
    "        periodic=False,\n",
    "        metrics=metrics\n",
    ")\n",
    "\n",
    "grid_free = xgcm.Grid(domain_free,\n",
    "        coords={\n",
    "            \"X\": {\"right\": \"x_f\", \"center\": \"x_c\"},\n",
    "            \"Y\": {\"right\": \"y_f\", \"center\":\"y_c\"},\n",
    "            \"Z\": {\"right\": \"z_f\", \"center\": \"z_c\"}\n",
    "        },\n",
    "        periodic=False,\n",
    "        metrics=metrics\n",
    ")"
   ]
  },
  {
   "cell_type": "code",
   "execution_count": null,
   "id": "fc773345",
   "metadata": {},
   "outputs": [],
   "source": [
    "#U_z_grid['u_f'] = grid_free.interp(U_z_grid.uoce, 'Y')\n",
    "U_s_grid['u_f'] = grid_free.interp(U_s_grid.uoce, 'Y')"
   ]
  },
  {
   "cell_type": "code",
   "execution_count": null,
   "id": "487faadf",
   "metadata": {},
   "outputs": [],
   "source": [
    "#U_z_grid['U'] = grid_free.integrate(U_z_grid.u_f, 'Z')\n",
    "U_s_grid['U'] = grid_free.integrate(U_s_grid.u_f, 'Z')"
   ]
  },
  {
   "cell_type": "code",
   "execution_count": null,
   "id": "771ea979",
   "metadata": {},
   "outputs": [],
   "source": [
    "#U_z_grid['psi'] = (U_z_grid.U[:,::-1,:] * U_z_grid.e2f[::-1,:]).cumsum('y_f') / 1e6\n",
    "U_s_grid['psi'] = (U_s_grid.U[:,::-1,:] * U_s_grid.e2f[::-1,:]).cumsum('y_f') / 1e6"
   ]
  },
  {
   "cell_type": "code",
   "execution_count": null,
   "id": "2c10a9f2",
   "metadata": {},
   "outputs": [],
   "source": [
    "fig, axs = plt.subplots(1,2,figsize=(15,15), sharey=True)\n",
    "col = U_s_grid.isel(time_counter=-2).psi.plot.contourf(x='x_f', y='y_f', cmap='RdBu_r', levels=30, ax=axs[1], add_colorbar=False)\n",
    "cbar1 = fig.colorbar(col, ax=axs[:2], location='bottom', label='[Sv]')\n",
    "U_z_grid.isel(time_counter=-2).psi.plot.contourf(x='x_f', y='y_f', cmap='RdBu_r',vmin=cbar1.vmin, vmax=cbar1.vmax, levels=30, ax=axs[0], add_colorbar=False)\n",
    "#(U_z_grid.psi - U_s_grid.psi).isel(time_counter=-2).plot.contourf(x='x_f', y='y_f', cmap='RdBu_r', levels=30, ax=axs[2])\n",
    "axs[0].set_title(r'With Mid-Atlantic ridge in channel', fontsize=20)\n",
    "axs[1].set_title(r'Without Mid-Atlantic ridge in channel', fontsize=20)\n",
    "axs[0].set_ylabel('latitude [°N]')\n",
    "axs[1].set_ylabel(' ')\n",
    "axs[0].set_ylabel('longitude [°E]')\n",
    "#axs[2].set_title(r'z-coords - $\\sigma$-coords')"
   ]
  },
  {
   "cell_type": "code",
   "execution_count": null,
   "id": "ffbe275c",
   "metadata": {},
   "outputs": [],
   "source": [
    "# U_s_grid = U_s_grid.assign_coords({'x_f': U_s_grid.x_f.values - 60.})\n",
    "fig, axs = plt.subplots(1,1,figsize=(15,10))\n",
    "a = U_s_grid.isel(time_counter=-2).psi.plot.contourf(x='x_f', y='y_f', cmap='RdBu_r', levels=30, add_colorbar=False)\n",
    "cbar1 = fig.colorbar(a, ax=axs, label=r'$\\psi$ [Sv]')\n",
    "#(U_z_grid.psi - U_s_grid.psi).isel(time_counter=-2).plot.contourf(x='x_f', y='y_f', cmap='RdBu_r', levels=30, ax=axs[2])\n",
    "axs.set_ylabel('latitude [°N]')\n",
    "axs.set_xlabel('longitude [°E]')\n",
    "#axs[2].set_title(r'z-coords - $\\sigma$-coords')"
   ]
  },
  {
   "cell_type": "code",
   "execution_count": null,
   "id": "6f0d358d",
   "metadata": {},
   "outputs": [],
   "source": [
    "!jupyter nbconvert --to html ./Gurvan.ipynb --HTMLExporter.theme=dark "
   ]
  },
  {
   "cell_type": "code",
   "execution_count": null,
   "id": "b8ed8d54",
   "metadata": {},
   "outputs": [],
   "source": [
    "fig, ax = plt.subplots(1, figsize=(15,7))\n",
    "(U_s.uocetr_eff.isel(x=-1).sum(['depthu','y']) / 1e6).plot(label='old')\n",
    "#(U_z.uocetr_eff.isel(x=-1).sum(['depthu','y']) / 1e6).plot(label='new')\n",
    "ax.set_title('ACC transport over the last 50 years')\n",
    "ax.set_ylabel('ACC transport [Sv]')\n",
    "plt.legend()"
   ]
  },
  {
   "attachments": {},
   "cell_type": "markdown",
   "id": "647215c1",
   "metadata": {},
   "source": [
    "# Test Forcings"
   ]
  },
  {
   "cell_type": "code",
   "execution_count": null,
   "id": "01f188c6",
   "metadata": {},
   "outputs": [],
   "source": [
    "T_f = clean_coords(xr.load_dataset(path + 'SO_BATHY/restart1/NEVERWORLD_grid_T_mo.nc'), 2000)\n",
    "\n",
    "T_f_new = clean_coords(xr.load_dataset(path + '1_deg_GM/restart1/NEVERWORLD_grid_T_mo.nc'), 2000)\n",
    "U_f = clean_coords(xr.load_dataset(path + 'Test_forcings/NEVERWORLD_grid_U.nc'), 2000)"
   ]
  },
  {
   "cell_type": "code",
   "execution_count": null,
   "id": "dad8a3ee",
   "metadata": {},
   "outputs": [],
   "source": [
    "fig, axs = plt.subplots(2,2, figsize=(25,15))\n",
    "T_f.saltflx.isel(time_counter=0, x=10, y=slice(1,-1)).plot(ax=axs[0,1])\n",
    "T_f.qns.isel(time_counter=0, x=10, y=slice(1,-1)).plot(ax=axs[0,0])\n",
    "T_f.qsr.isel(time_counter=0, x=10, y=slice(1,-1)).plot(ax=axs[1,0])\n",
    "U_f.utau.isel(time_counter=0, x=10).plot(ax=axs[1,1])"
   ]
  },
  {
   "cell_type": "code",
   "execution_count": null,
   "id": "ecfa02d6",
   "metadata": {},
   "outputs": [],
   "source": [
    "fig, ax = plt.subplots(1,1, figsize=(20,10))\n",
    "T_f.qns.isel(time_counter=6, x=10, y=slice(1,-1)).plot(ax=ax, label='old')\n",
    "T_f_new.qns.isel(time_counter=6, x=10, y=slice(1,-1)).plot(ax=ax, label='new')\n",
    "plt.legend()"
   ]
  },
  {
   "cell_type": "code",
   "execution_count": null,
   "id": "2bde807a",
   "metadata": {},
   "outputs": [],
   "source": [
    "T_f"
   ]
  },
  {
   "cell_type": "code",
   "execution_count": null,
   "id": "3433c738",
   "metadata": {},
   "outputs": [],
   "source": [
    "orca_dom = xr.load_dataset(path + 'bathymetry/eORCA_R1_bathy_meter_v2.2.nc')"
   ]
  },
  {
   "cell_type": "code",
   "execution_count": null,
   "id": "fe2876ad",
   "metadata": {},
   "outputs": [],
   "source": [
    "orca_dom.Bathymetry.isel(y=slice(80,120), x=slice(260,270)).plot()"
   ]
  },
  {
   "cell_type": "code",
   "execution_count": null,
   "id": "bac9cbbf",
   "metadata": {},
   "outputs": [],
   "source": [
    "orca_dom.Bathymetry.isel(y=230, x=slice(232,257)).plot()"
   ]
  },
  {
   "cell_type": "code",
   "execution_count": null,
   "id": "01da39cb",
   "metadata": {},
   "outputs": [],
   "source": [
    "steps = np.hstack([\n",
    "    orca_dom.Bathymetry.isel(y=230, x=slice(210,221)).values,\n",
    "    orca_dom.Bathymetry.isel(y=230, x=slice(230,258)).values,\n",
    "    orca_dom.Bathymetry.isel(y=230, x=slice(262,273)).values,\n",
    "])"
   ]
  },
  {
   "cell_type": "code",
   "execution_count": null,
   "id": "9851819c",
   "metadata": {},
   "outputs": [],
   "source": [
    "steps.shape"
   ]
  },
  {
   "cell_type": "code",
   "execution_count": null,
   "id": "96c9e97a",
   "metadata": {},
   "outputs": [],
   "source": [
    "U_s['steps'] = (['x'], steps)"
   ]
  },
  {
   "cell_type": "code",
   "execution_count": null,
   "id": "c4e98d9d",
   "metadata": {},
   "outputs": [],
   "source": [
    "plt.step(np.arange(len(steps)), steps, where='mid')"
   ]
  },
  {
   "cell_type": "code",
   "execution_count": null,
   "id": "c27bb9c0",
   "metadata": {},
   "outputs": [],
   "source": [
    "steps.shape"
   ]
  },
  {
   "cell_type": "code",
   "execution_count": null,
   "id": "d26a6478",
   "metadata": {},
   "outputs": [],
   "source": [
    "orca_dom.isel(y=235, x=slice(200,300))"
   ]
  },
  {
   "cell_type": "code",
   "execution_count": null,
   "id": "c2bc42eb",
   "metadata": {},
   "outputs": [],
   "source": [
    "import cartopy.crs as ccrs\n",
    "\n",
    "# Example - your x and y coordinates are in a Lambert Conformal projection\n",
    "data_crs = ccrs.LambertConformal(central_longitude=-100)\n",
    "\n",
    "# Transform the point - src_crs is always Plate Carree for lat/lon grid\n",
    "x, y = data_crs.transform_point(-50, 26.0, src_crs=ccrs.PlateCarree())\n",
    "\n",
    "# Now you can select data\n",
    "orca_dom.Bathymetry.sel(y=y)"
   ]
  },
  {
   "cell_type": "code",
   "execution_count": null,
   "id": "85529a92",
   "metadata": {},
   "outputs": [],
   "source": [
    "U_s = clean_coords(xr.load_dataset(path + 'SO_BATHY/NEVERWORLD_grid_U.nc'), 1700)"
   ]
  },
  {
   "cell_type": "code",
   "execution_count": null,
   "id": "c2407e62",
   "metadata": {},
   "outputs": [],
   "source": [
    "U_s.z.isel(time_counter=-1, depthu=-1, y=slice(10,70)).plot()"
   ]
  },
  {
   "cell_type": "code",
   "execution_count": null,
   "id": "5f24dbe3",
   "metadata": {},
   "outputs": [],
   "source": [
    "5 * 24 * 360 * 3600. / 900 * 720\n"
   ]
  },
  {
   "cell_type": "code",
   "execution_count": null,
   "id": "682aad29",
   "metadata": {},
   "outputs": [],
   "source": [
    "5 * 720 / 900"
   ]
  },
  {
   "cell_type": "code",
   "execution_count": null,
   "id": "cc6953e3",
   "metadata": {},
   "outputs": [],
   "source": []
  }
 ],
 "metadata": {
  "kernelspec": {
   "display_name": "xgcm",
   "language": "python",
   "name": "xgcm"
  },
  "language_info": {
   "codemirror_mode": {
    "name": "ipython",
    "version": 3
   },
   "file_extension": ".py",
   "mimetype": "text/x-python",
   "name": "python",
   "nbconvert_exporter": "python",
   "pygments_lexer": "ipython3",
   "version": "3.9.15"
  }
 },
 "nbformat": 4,
 "nbformat_minor": 5
}
