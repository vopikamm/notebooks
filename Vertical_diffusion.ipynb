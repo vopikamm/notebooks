{
 "cells": [
  {
   "cell_type": "code",
   "execution_count": null,
   "metadata": {},
   "outputs": [],
   "source": [
    "import xarray as xr\n",
    "import numpy as np\n",
    "import matplotlib.pyplot as plt\n",
    "\n",
    "plt.rcParams['axes.facecolor']='white'\n",
    "#plt.style.use('dark_background')"
   ]
  },
  {
   "cell_type": "code",
   "execution_count": null,
   "metadata": {},
   "outputs": [],
   "source": [
    "path = '/data/dkamm/nemo_output/NEVERWORLD/'"
   ]
  },
  {
   "cell_type": "code",
   "execution_count": null,
   "metadata": {},
   "outputs": [],
   "source": [
    "low = xr.open_dataset(path + 'vertical_mixing/high_res/NEVERWORLD_02880000_restart.nc').rename_vars({'x':'lon', 'nav_lat_grid_t':'lat'}).rename_dims({'nav_lon_grid_t':'x'})\n",
    "\n",
    "high = xr.open_dataset(path + '1_deg_GM/restart4/NEVERWORLD_02880000_restart.nc').rename_vars({'x':'lon', 'nav_lat_grid_T':'lat'}).rename_dims({'nav_lon_grid_T':'x'})"
   ]
  },
  {
   "attachments": {},
   "cell_type": "markdown",
   "metadata": {},
   "source": [
    "## Analytical function proposed by Spencer Jones"
   ]
  },
  {
   "cell_type": "code",
   "execution_count": null,
   "metadata": {},
   "outputs": [],
   "source": [
    "def compute_avt_jones(z):\n",
    "    avt = 0.002*np.exp(-(4000+z)/500)/(1-np.exp(-4000/500))+0.00002+0.01 *(1+np.tanh((z+30)/30)/2)\n",
    "    return(avt)"
   ]
  },
  {
   "cell_type": "code",
   "execution_count": null,
   "metadata": {},
   "outputs": [],
   "source": [
    "avt_jones = compute_avt_jones( - low.nav_lev)"
   ]
  },
  {
   "cell_type": "code",
   "execution_count": null,
   "metadata": {},
   "outputs": [],
   "source": [
    "low.isel(x=40, y=131).lat.values"
   ]
  },
  {
   "cell_type": "code",
   "execution_count": null,
   "metadata": {},
   "outputs": [],
   "source": [
    "fig, axs = plt.subplots(1,3,figsize=(20,10), sharex=True)\n",
    "low.avt_k.isel(y=40, x=25).plot(y='nav_lev', ax=axs[0], color='black', label='TKE')\n",
    "avt_jones.plot(y='nav_lev', ax=axs[0], color='darkred', label='Jones')\n",
    "low.avt_k.isel(y=100, x=10).plot(y='nav_lev', ax=axs[1], color='black', label='TKE')\n",
    "avt_jones.plot(y='nav_lev', ax=axs[1], color='darkred', label='Jones')\n",
    "low.avt_k.isel(y=131, x=40).plot(y='nav_lev', ax=axs[2], color='black', label='TKE')\n",
    "avt_jones.plot(y='nav_lev', ax=axs[2], color='darkred', label='Jones')\n",
    "axs[0].set_title('Southern Ocean Chanel 50°S')\n",
    "axs[1].set_title('Equator, Western Basin')\n",
    "axs[2].set_title('30°N, Eastern Basin')\n",
    "axs[0].invert_yaxis()\n",
    "axs[1].invert_yaxis()\n",
    "axs[2].invert_yaxis()\n",
    "axs[0].grid(color='grey')\n",
    "axs[1].grid(color='grey')\n",
    "axs[2].grid(color='grey')\n",
    "plt.legend()\n",
    "axs[0].set_xlabel(r'$\\kappa$')\n",
    "axs[1].set_xlabel(r'$\\kappa$')\n",
    "axs[2].set_xlabel(r'$\\kappa$')\n",
    "axs[0].set_xscale('log')\n",
    "axs[1].set_xscale('log')\n",
    "axs[2].set_xscale('log')"
   ]
  },
  {
   "cell_type": "code",
   "execution_count": null,
   "metadata": {},
   "outputs": [],
   "source": [
    "fig, axs = plt.subplots(1,3,figsize=(20,10), sharex=True)\n",
    "low.avm_k.isel(y=40, x=25).plot(y='nav_lev', ax=axs[0], color='black', label='TKE')\n",
    "avt_jones.plot(y='nav_lev', ax=axs[0], color='darkred', label='Jones')\n",
    "low.avm_k.isel(y=100, x=10).plot(y='nav_lev', ax=axs[1], color='black', label='TKE')\n",
    "avt_jones.plot(y='nav_lev', ax=axs[1], color='darkred', label='Jones')\n",
    "low.avm_k.isel(y=131, x=40).plot(y='nav_lev', ax=axs[2], color='black', label='TKE')\n",
    "avt_jones.plot(y='nav_lev', ax=axs[2], color='darkred', label='Jones')\n",
    "axs[0].set_title('Southern Ocean Chanel 50°S')\n",
    "axs[1].set_title('Equator, Western Basin')\n",
    "axs[2].set_title('30°N, Eastern Basin')\n",
    "axs[0].invert_yaxis()\n",
    "axs[1].invert_yaxis()\n",
    "axs[2].invert_yaxis()\n",
    "axs[0].grid(color='grey')\n",
    "axs[1].grid(color='grey')\n",
    "axs[2].grid(color='grey')\n",
    "plt.legend()\n",
    "axs[0].set_xlabel(r'$\\kappa$')\n",
    "axs[1].set_xlabel(r'$\\kappa$')\n",
    "axs[2].set_xlabel(r'$\\kappa$')\n",
    "# axs[0].set_xscale('log')\n",
    "# axs[1].set_xscale('log')\n",
    "# axs[2].set_xscale('log')"
   ]
  },
  {
   "cell_type": "code",
   "execution_count": null,
   "metadata": {},
   "outputs": [],
   "source": [
    "fig, axs = plt.subplots(1,3,figsize=(20,10), sharex=True)\n",
    "high.avt_k.isel(y=40, x=25).plot(y='nav_lev', ax=axs[0])\n",
    "avt_jones.plot(y='nav_lev', ax=axs[0])\n",
    "high.avt_k.isel(y=100, x=10).plot(y='nav_lev', ax=axs[1])\n",
    "avt_jones.plot(y='nav_lev', ax=axs[1])\n",
    "high.avt_k.isel(y=131, x=40).plot(y='nav_lev', ax=axs[2])\n",
    "avt_jones.plot(y='nav_lev', ax=axs[2])\n",
    "axs[0].set_title('Southern Ocean Chanel 50°S')\n",
    "axs[1].set_title('Equator, Western Basin')\n",
    "axs[2].set_title('30°N, Eastern Basin')\n",
    "axs[0].invert_yaxis()\n",
    "axs[1].invert_yaxis()\n",
    "axs[2].invert_yaxis()\n",
    "axs[0].grid(color='grey')\n",
    "axs[1].grid(color='grey')\n",
    "axs[2].grid(color='grey')\n",
    "axs[0].set_xscale('log')\n",
    "axs[1].set_xscale('log')\n",
    "axs[2].set_xscale('log')"
   ]
  },
  {
   "cell_type": "code",
   "execution_count": null,
   "metadata": {},
   "outputs": [],
   "source": [
    "fig, axs = plt.subplots(1,3,figsize=(20,10))\n",
    "(high - low).avt_k.isel(y=40, x=25).plot(y='nav_lev', ax=axs[0])\n",
    "(high - low).avt_k.isel(y=100, x=10).plot(y='nav_lev', ax=axs[1])\n",
    "(high - low).avt_k.isel(y=131, x=40).plot(y='nav_lev', ax=axs[2])\n",
    "axs[0].set_title('Southern Ocean Chanel 50°S')\n",
    "axs[1].set_title('Equator, Western Basin')\n",
    "axs[2].set_title('30°N, Eastern Basin')\n",
    "axs[0].invert_yaxis()\n",
    "axs[1].invert_yaxis()\n",
    "axs[2].invert_yaxis()\n",
    "axs[0].grid(color='grey')\n",
    "axs[1].grid(color='grey')\n",
    "axs[2].grid(color='grey')"
   ]
  },
  {
   "cell_type": "code",
   "execution_count": null,
   "metadata": {},
   "outputs": [],
   "source": [
    "fig, axs = plt.subplots(1,1,figsize=(12,6))\n",
    "low.avm_k.isel(y=slice(25,55), nav_lev=slice(0,-1)).mean(['y','x']).plot(y='nav_lev', color='black')\n",
    "axs.set_title('Vertical viscosity coefficient averaged over the SO')\n",
    "axs.invert_yaxis()\n",
    "axs.grid(color='grey')"
   ]
  },
  {
   "cell_type": "code",
   "execution_count": null,
   "metadata": {},
   "outputs": [],
   "source": [
    "low.lat.isel(y=55).values"
   ]
  },
  {
   "cell_type": "code",
   "execution_count": null,
   "metadata": {},
   "outputs": [],
   "source": []
  }
 ],
 "metadata": {
  "kernelspec": {
   "display_name": "nemo_env",
   "language": "python",
   "name": "python3"
  },
  "language_info": {
   "codemirror_mode": {
    "name": "ipython",
    "version": 3
   },
   "file_extension": ".py",
   "mimetype": "text/x-python",
   "name": "python",
   "nbconvert_exporter": "python",
   "pygments_lexer": "ipython3",
   "version": "3.9.15"
  },
  "orig_nbformat": 4
 },
 "nbformat": 4,
 "nbformat_minor": 2
}
