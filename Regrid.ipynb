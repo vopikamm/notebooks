{
 "cells": [
  {
   "cell_type": "code",
   "execution_count": null,
   "metadata": {},
   "outputs": [],
   "source": [
    "import xarray as xr\n",
    "import numpy as np\n",
    "import matplotlib.pyplot as plt\n",
    "%matplotlib inline"
   ]
  },
  {
   "cell_type": "code",
   "execution_count": null,
   "metadata": {},
   "outputs": [],
   "source": [
    "path = '/data/dkamm/nemo_output/NEVERWORLD/'"
   ]
  },
  {
   "attachments": {},
   "cell_type": "markdown",
   "metadata": {},
   "source": [
    "### Need to prepare nc files to be read by xarray\n",
    "ncrename -v y,nav_lat_grid_T FILE_NAME\n",
    "\n",
    "ncrename -v x,nav_lon_grid_T FILE_NAME"
   ]
  },
  {
   "attachments": {},
   "cell_type": "markdown",
   "metadata": {},
   "source": [
    "### Loading low/high resolution restart files"
   ]
  },
  {
   "cell_type": "code",
   "execution_count": null,
   "metadata": {},
   "outputs": [],
   "source": [
    "hr = xr.open_dataset(path + 'high_res_short1/NEVERWORLD_00000032_restart.nc').rename_vars({'x':'lon', 'nav_lat_grid_t':'lat'}).rename_dims({'nav_lon_grid_t':'x'})"
   ]
  },
  {
   "cell_type": "code",
   "execution_count": null,
   "metadata": {},
   "outputs": [],
   "source": [
    "lr = xr.open_dataset(path + '1_deg_GM/NEVERWORLD_05760000_restart.nc')#.rename_vars({'x':'lon', 'nav_lat_grid_T':'lat'}).rename_dims({'nav_lon_grid_T':'x'})"
   ]
  },
  {
   "cell_type": "code",
   "execution_count": null,
   "metadata": {},
   "outputs": [],
   "source": [
    "hr.avm_k.isel(x=100).plot()"
   ]
  },
  {
   "cell_type": "code",
   "execution_count": null,
   "metadata": {},
   "outputs": [],
   "source": [
    "lr"
   ]
  },
  {
   "attachments": {},
   "cell_type": "markdown",
   "metadata": {},
   "source": [
    "### Create dataset to extrapolate to"
   ]
  },
  {
   "cell_type": "code",
   "execution_count": null,
   "metadata": {},
   "outputs": [],
   "source": [
    "low_res=1.0\n",
    "\n",
    "temp    = lr.tn.values\n",
    "temp_p  = np.concatenate((temp, temp[:,:,:,-2:]+2*low_res), axis=3)\n",
    "\n",
    "lon     = lr.lon.values\n",
    "lon_p   = np.concatenate((lon, lon[:,-2:]+2*low_res), axis=1)\n",
    "\n",
    "lat     = lr.lat.values\n",
    "lat_p   = np.concatenate((lat, lat[:,-2:]+2*low_res), axis=1)\n",
    "\n",
    "nav_lev = lr.nav_lev.values\n",
    "\n",
    "time    = lr.time_counter.values\n",
    "\n",
    "# define data with variable attributes\n",
    "data_vars = {'temperature':(['time_counter', 'nav_lev', 'y', 'x'], temp_p, \n",
    "                         {'units': 'C'}\n",
    "                         )}\n",
    "\n",
    "# define coordinates\n",
    "coords = {  'time_counter': ('time_counter', time),\n",
    "            'nav_lev': ('nav_lev', nav_lev),\n",
    "            'lat': (['y', 'x'], lat_p),\n",
    "            'lon': (['y', 'x'], lon_p)\n",
    "          }\n",
    "\n",
    "# create dataset\n",
    "ds_lr = xr.Dataset(data_vars=data_vars, \n",
    "                coords=coords, \n",
    ")"
   ]
  },
  {
   "cell_type": "code",
   "execution_count": null,
   "metadata": {},
   "outputs": [],
   "source": [
    "lr_nomask = lr.isel(x=slice(1,-1), y=slice(1,-1))"
   ]
  },
  {
   "attachments": {},
   "cell_type": "markdown",
   "metadata": {},
   "source": [
    "### Extrapolating low resolution on landpoints"
   ]
  },
  {
   "cell_type": "code",
   "execution_count": null,
   "metadata": {},
   "outputs": [],
   "source": [
    "import xesmf as xe"
   ]
  },
  {
   "cell_type": "code",
   "execution_count": null,
   "metadata": {},
   "outputs": [],
   "source": [
    "extrapolator = xe.Regridder(lr.isel(x=slice(1,-1), y=slice(1,-1)), ds_lr, \"nearest_s2d\")"
   ]
  },
  {
   "cell_type": "code",
   "execution_count": null,
   "metadata": {},
   "outputs": [],
   "source": [
    "extrapolator = xe.Regridder(lr_nomask, lr, method=\"bilinear\", extrap_method=\"nearest_s2d\")"
   ]
  },
  {
   "cell_type": "code",
   "execution_count": null,
   "metadata": {},
   "outputs": [],
   "source": [
    "extrapolated_lr = extrapolator(lr_nomask)"
   ]
  },
  {
   "attachments": {},
   "cell_type": "markdown",
   "metadata": {},
   "source": [
    "### Regridding extrapolated low resolution on high resoltution"
   ]
  },
  {
   "cell_type": "code",
   "execution_count": null,
   "metadata": {},
   "outputs": [],
   "source": [
    "regridder = xe.Regridder(extrapolated_lr, hr, \"bilinear\",  extrap_method=\"nearest_s2d\", ignore_degenerate=True)"
   ]
  },
  {
   "cell_type": "code",
   "execution_count": null,
   "metadata": {},
   "outputs": [],
   "source": [
    "restart_regrid = regridder(extrapolated_lr)"
   ]
  },
  {
   "attachments": {},
   "cell_type": "markdown",
   "metadata": {},
   "source": [
    "### Apply high resolution mask"
   ]
  },
  {
   "cell_type": "code",
   "execution_count": null,
   "metadata": {},
   "outputs": [],
   "source": [
    "mask = xr.where(hr.tn.isel(nav_lev=0, time_counter=0)==0.0, 0, 1)"
   ]
  },
  {
   "cell_type": "code",
   "execution_count": null,
   "metadata": {},
   "outputs": [],
   "source": [
    "#mask = mask.reindex_like(restart_regrid, method='ffill', tolerance=0.01, fill_value=mask)"
   ]
  },
  {
   "cell_type": "code",
   "execution_count": null,
   "metadata": {},
   "outputs": [],
   "source": [
    "restart_regrid = restart_regrid * mask"
   ]
  },
  {
   "attachments": {},
   "cell_type": "markdown",
   "metadata": {},
   "source": [
    "### Set velocities (and ssh) to zero"
   ]
  },
  {
   "cell_type": "code",
   "execution_count": null,
   "metadata": {},
   "outputs": [],
   "source": [
    "vars_to_zero = ['vb', 'ub', 'vn', 'un']\n",
    "#vars_to_zero = ['sshb', 'vb', 'ub', 'sshn', 'vn', 'un']"
   ]
  },
  {
   "cell_type": "code",
   "execution_count": null,
   "metadata": {},
   "outputs": [],
   "source": [
    "for var in vars_to_zero:\n",
    "    restart_regrid[var].loc[:] = 0.0"
   ]
  },
  {
   "attachments": {},
   "cell_type": "markdown",
   "metadata": {},
   "source": [
    "### Merge with missing values from low resolution dataset and reorder variables (maybe not necessary)"
   ]
  },
  {
   "cell_type": "code",
   "execution_count": null,
   "metadata": {},
   "outputs": [],
   "source": [
    "restart_regrid['lon'] = hr.lon\n",
    "restart_regrid['lat'] = hr.lat\n",
    "restart_regrid['kt'] = lr.kt\n",
    "restart_regrid['ndastp'] = lr.ndastp\n",
    "restart_regrid['adatrj'] = lr.adatrj\n",
    "restart_regrid['ntime'] = lr.ntime\n",
    "restart_regrid['rdt'] = 720."
   ]
  },
  {
   "cell_type": "code",
   "execution_count": null,
   "metadata": {},
   "outputs": [],
   "source": [
    "restart_regrid = restart_regrid[list(hr.keys())]"
   ]
  },
  {
   "attachments": {},
   "cell_type": "markdown",
   "metadata": {},
   "source": [
    "### Writing the nc file"
   ]
  },
  {
   "cell_type": "code",
   "execution_count": null,
   "metadata": {},
   "outputs": [],
   "source": [
    "restart_regrid.to_netcdf(path + '1_deg_GM/restart_wssh.nc', unlimited_dims='time_counter')"
   ]
  }
 ],
 "metadata": {
  "kernelspec": {
   "display_name": "Python 3",
   "language": "python",
   "name": "python3"
  },
  "language_info": {
   "codemirror_mode": {
    "name": "ipython",
    "version": 3
   },
   "file_extension": ".py",
   "mimetype": "text/x-python",
   "name": "python",
   "nbconvert_exporter": "python",
   "pygments_lexer": "ipython3",
   "version": "3.9.15"
  },
  "orig_nbformat": 4
 },
 "nbformat": 4,
 "nbformat_minor": 2
}
