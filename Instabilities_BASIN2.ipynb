{
 "cells": [
  {
   "cell_type": "markdown",
   "metadata": {},
   "source": [
    "| Experiment Name | Description | Parameters |\n",
    "| :- | :- | :- |\n",
    "| EXP11 |   Reference run with no forcings at rest  | rnDt              = 900.                  |\n",
    "| EXP12 |   EXP11 without flattening of the equator | ln_equ_flat       = false                 |\n",
    "| EXP13 |   Geostrophic adjustment                  | nn_init           = 5                     | --> crash |\n",
    "| EXP14 |   Week winds, no other forcing.           | rn_trp, rn_srp    = 0, ln_qsr = false     |"
   ]
  },
  {
   "cell_type": "code",
   "execution_count": null,
   "metadata": {},
   "outputs": [],
   "source": [
    "import xarray as xr\n",
    "from matplotlib import pyplot as plt\n",
    "import cftime._cftime as cft\n",
    "#import holoviews as hv\n",
    "\n",
    "#hv.extension('bokeh')"
   ]
  },
  {
   "cell_type": "code",
   "execution_count": null,
   "metadata": {},
   "outputs": [],
   "source": [
    "def clean_coords(xrdataset, start_year):\n",
    "    try:\n",
    "        shift = cft.timedelta(days=360 * start_year)\n",
    "        datetimeindex = (xrdataset.indexes['time_counter'] + shift).to_datetimeindex\n",
    "    except:\n",
    "        datetimeindex = xrdataset.indexes['time_counter']\n",
    "    try:\n",
    "        latitude  = xrdataset.nav_lat[:,0].values\n",
    "        longitude = xrdataset.nav_lon[0,:].values\n",
    "    except:\n",
    "        latitude  = xrdataset.nav_lat_grid_T[:,0].values\n",
    "        longitude = xrdataset.nav_lon_grid_T[0,:].values\n",
    "    try:\n",
    "        xrdataset = xrdataset.rename_dims({'x_grid_T': 'x' ,'y_grid_T': 'y'})\n",
    "    except:\n",
    "        pass\n",
    "    try:\n",
    "        xrdataset = xrdataset.assign_coords({'z': 5. - xrdataset.e3t.cumsum('deptht')})\n",
    "    except:\n",
    "        pass\n",
    "    try:\n",
    "        xrdataset = xrdataset.assign_coords({'z': 5. - xrdataset.e3u.cumsum('depthu')})\n",
    "    except:\n",
    "        pass\n",
    "    try:\n",
    "        xrdataset = xrdataset.assign_coords({'z': 5. - xrdataset.e3v.cumsum('depthv')})\n",
    "    except:\n",
    "        pass\n",
    "    try:\n",
    "        xrdataset = xrdataset.assign_coords({'z': 5. - xrdataset.e3w.cumsum('depthw')})\n",
    "    except:\n",
    "        pass\n",
    "    return xrdataset.assign_coords(dict({'time_counter':datetimeindex, 'y': latitude, 'x': longitude}))"
   ]
  },
  {
   "cell_type": "code",
   "execution_count": null,
   "metadata": {},
   "outputs": [],
   "source": [
    "def read_abort(path, dict_vars={'votemper': 'T', 'vosaline': 'S', 'vozocrtx': 'U', 'vomecrty': 'V', 'vovecrtz': 'W', 'sossheig': 'H', 'vovvldep': 'depth'}):\n",
    "    abort = xr.load_dataset(path)\n",
    "    abort = abort.rename(dict_vars)\n",
    "    abort = abort.set_coords(['nav_lon', 'nav_lat', 'depth'])\n",
    "    abort = abort.assign_coords({'nav_lev': abort.nav_lev * -1})\n",
    "    abort = abort.assign_coords({'depth': abort.depth * -1})\n",
    "    return(abort[list(dict_vars.values())])"
   ]
  },
  {
   "cell_type": "markdown",
   "metadata": {},
   "source": [
    "\n",
    "# **EXP11: Reference Run**"
   ]
  },
  {
   "cell_type": "code",
   "execution_count": null,
   "metadata": {},
   "outputs": [],
   "source": [
    "U1       = xr.load_dataset(\"/home/dkamm/NEMOGCM/tests/BASIN2/EXP11/BASIN_grid_U.nc\")\n",
    "T1       = xr.load_dataset(\"/home/dkamm/NEMOGCM/tests/BASIN2/EXP11/BASIN_grid_T.nc\")\n",
    "mask1    = xr.load_dataset(\"/home/dkamm/NEMOGCM/tests/BASIN2/EXP11/mesh_mask.nc\")"
   ]
  },
  {
   "cell_type": "code",
   "execution_count": null,
   "metadata": {},
   "outputs": [],
   "source": [
    "T1 = clean_coords(T1, 2000)\n",
    "U1 = clean_coords(U1, 2000)\n",
    "mask1 = clean_coords(mask1, 2000)"
   ]
  },
  {
   "cell_type": "code",
   "execution_count": null,
   "metadata": {},
   "outputs": [],
   "source": [
    "T1.soce.mean(['deptht', 'y', 'x']).plot()"
   ]
  },
  {
   "cell_type": "markdown",
   "metadata": {},
   "source": [
    "## Bathymetry"
   ]
  },
  {
   "cell_type": "code",
   "execution_count": null,
   "metadata": {},
   "outputs": [],
   "source": [
    "mask1.e3t_0.sum(dim='nav_lev').plot(x='x', y='y')"
   ]
  },
  {
   "cell_type": "markdown",
   "metadata": {},
   "source": [
    "## Salinity along the center of the BASIN"
   ]
  },
  {
   "cell_type": "code",
   "execution_count": null,
   "metadata": {},
   "outputs": [],
   "source": [
    "%%output holomap='scrubber'\n",
    "%%opts QuadMesh style(cmap='RdBu_r') plot[colorbar=True] \n",
    "%%opts QuadMesh [width=500, height=400]\n",
    "hv_ds = hv.Dataset(T1.soce.isel(x=20))\n",
    "hv_ds.to(hv.QuadMesh, ['y', 'deptht'])"
   ]
  },
  {
   "cell_type": "markdown",
   "metadata": {},
   "source": [
    "## Zonal velocity along the center of the BASIN"
   ]
  },
  {
   "cell_type": "code",
   "execution_count": null,
   "metadata": {},
   "outputs": [],
   "source": [
    "%%output holomap='scrubber'\n",
    "%%opts QuadMesh style(cmap='RdBu_r') plot[colorbar=True] \n",
    "%%opts QuadMesh [width=500, height=400]\n",
    "hv_ds = hv.Dataset(U1.uoce.isel(x=20))\n",
    "hv_ds.to(hv.QuadMesh, ['y', 'depthu'])"
   ]
  },
  {
   "cell_type": "markdown",
   "metadata": {},
   "source": [
    "\n",
    "# **EXP12: Reference Run without flatten topography at the equator**"
   ]
  },
  {
   "cell_type": "code",
   "execution_count": null,
   "metadata": {},
   "outputs": [],
   "source": [
    "U2       = xr.load_dataset(\"/home/dkamm/NEMOGCM/tests/BASIN2/EXP12/BASIN_grid_U.nc\")\n",
    "T2       = xr.load_dataset(\"/home/dkamm/NEMOGCM/tests/BASIN2/EXP12/BASIN_grid_T.nc\")\n",
    "mask2    = xr.load_dataset(\"/home/dkamm/NEMOGCM/tests/BASIN2/EXP12/mesh_mask.nc\")"
   ]
  },
  {
   "cell_type": "code",
   "execution_count": null,
   "metadata": {},
   "outputs": [],
   "source": [
    "T2 = clean_coords(T2, 2000)\n",
    "U2 = clean_coords(U2, 2000)\n",
    "mask2 = clean_coords(mask2, 2000)"
   ]
  },
  {
   "cell_type": "markdown",
   "metadata": {},
   "source": [
    "## Bathymetry"
   ]
  },
  {
   "cell_type": "code",
   "execution_count": null,
   "metadata": {},
   "outputs": [],
   "source": [
    "mask2.e3t_0.sum(dim='nav_lev').plot(x='x', y='y')"
   ]
  },
  {
   "cell_type": "markdown",
   "metadata": {},
   "source": [
    "## Salinity along the center of the BASIN"
   ]
  },
  {
   "cell_type": "code",
   "execution_count": null,
   "metadata": {},
   "outputs": [],
   "source": [
    "T2.soce.isel(x=21, time_counter=-1).plot(y='z')"
   ]
  },
  {
   "cell_type": "markdown",
   "metadata": {},
   "source": [
    "## Zonal velocity along the center of the BASIN"
   ]
  },
  {
   "cell_type": "code",
   "execution_count": null,
   "metadata": {},
   "outputs": [],
   "source": [
    "U2.uoce.isel(x=20, time_counter=-1).plot(y='z')\n",
    "plt.title('')"
   ]
  },
  {
   "cell_type": "markdown",
   "metadata": {},
   "source": [
    "\n",
    "# **EXP13: Geostrophic Adjustment**"
   ]
  },
  {
   "cell_type": "code",
   "execution_count": null,
   "metadata": {},
   "outputs": [],
   "source": [
    "U3       = xr.load_dataset(\"/home/dkamm/NEMOGCM/tests/BASIN2/EXP13/BASIN_grid_U.nc\")\n",
    "T3       = xr.load_dataset(\"/home/dkamm/NEMOGCM/tests/BASIN2/EXP13/BASIN_grid_T.nc\")\n",
    "#mask3       = xr.load_dataset(\"/home/dkamm/NEMOGCM/tests/BASIN2/EXP13/mesh_mask.nc\")"
   ]
  },
  {
   "cell_type": "code",
   "execution_count": null,
   "metadata": {},
   "outputs": [],
   "source": [
    "T3 = clean_coords(T3, 2000)\n",
    "U3 = clean_coords(U3, 2000)"
   ]
  },
  {
   "cell_type": "code",
   "execution_count": null,
   "metadata": {},
   "outputs": [],
   "source": [
    "%%output holomap='scrubber'\n",
    "%%opts QuadMesh style(cmap='RdBu_r') plot[colorbar=True] \n",
    "%%opts QuadMesh [width=500, height=400]\n",
    "hv_ds = hv.Dataset(T3.ssh)\n",
    "hv_ds.to(hv.QuadMesh, ['x', 'y'])"
   ]
  },
  {
   "cell_type": "markdown",
   "metadata": {},
   "source": [
    "\n",
    "# **EXP17: Standard Iso-Neutral Tracer Diffusion**"
   ]
  },
  {
   "cell_type": "code",
   "execution_count": null,
   "metadata": {},
   "outputs": [],
   "source": [
    "U7       = xr.load_dataset(\"/home/dkamm/NEMOGCM/tests/BASIN2/EXP17/BASIN_grid_U.nc\")\n",
    "T7       = xr.load_dataset(\"/home/dkamm/NEMOGCM/tests/BASIN2/EXP17/BASIN_grid_T.nc\")\n",
    "\n",
    "T7 = clean_coords(T7, 2000)\n",
    "U7 = clean_coords(U7, 2000)\n",
    "\n",
    "#abort4 = read_abort('/home/dkamm/NEMOGCM/tests/BASIN2/EXP14/output.abort.nc')"
   ]
  },
  {
   "cell_type": "code",
   "execution_count": null,
   "metadata": {},
   "outputs": [],
   "source": [
    "#T5 = T5.assign_coords({'z': 5. -mask5.e3t_0.cumsum('nav_lev').rename({'nav_lev': 'deptht'}).isel(time_counter=0)})"
   ]
  },
  {
   "cell_type": "code",
   "execution_count": null,
   "metadata": {},
   "outputs": [],
   "source": [
    "%%output holomap='scrubber'\n",
    "%%opts QuadMesh style(cmap='RdBu_r') plot[colorbar=True] \n",
    "%%opts QuadMesh [width=500, height=400]\n",
    "hv_ds = hv.Dataset(U7.uoce.isel(depthu=0))\n",
    "hv_ds.to(hv.QuadMesh, ['x', 'y'])"
   ]
  },
  {
   "cell_type": "code",
   "execution_count": null,
   "metadata": {},
   "outputs": [],
   "source": [
    "(5. -mask5.e3t_0.cumsum('nav_lev').rename({'nav_lev': 'deptht'}).isel(time_counter=0, y=10)).plot()"
   ]
  },
  {
   "cell_type": "code",
   "execution_count": null,
   "metadata": {},
   "outputs": [],
   "source": [
    "U7.utau.isel(time_counter=-1).plot()"
   ]
  },
  {
   "cell_type": "code",
   "execution_count": null,
   "metadata": {},
   "outputs": [],
   "source": [
    "U7.uoce"
   ]
  },
  {
   "cell_type": "code",
   "execution_count": null,
   "metadata": {},
   "outputs": [],
   "source": [
    "U7       = xr.load_dataset(\"/home/dkamm/NEMOGCM/tests/BASIN2/EXP_dom7/BASIN_grid_U.nc\")\n",
    "T7       = xr.load_dataset(\"/home/dkamm/NEMOGCM/tests/BASIN2/EXP_dom7/BASIN_grid_T.nc\")\n",
    "\n",
    "T7 = clean_coords(T7, 2000)\n",
    "U7 = clean_coords(U7, 2000)"
   ]
  },
  {
   "cell_type": "code",
   "execution_count": null,
   "metadata": {},
   "outputs": [],
   "source": [
    "U7"
   ]
  },
  {
   "cell_type": "code",
   "execution_count": null,
   "metadata": {},
   "outputs": [],
   "source": [
    "U7_0       = xr.load_dataset(\"/home/dkamm/NEMO4.0/tests/BASIN_compiled_v0.1.0/EXP_dom/BASIN_grid_U.nc\")\n",
    "T7_0       = xr.load_dataset(\"/home/dkamm/NEMO4.0/tests/BASIN_compiled_v0.1.0/EXP_dom/BASIN_grid_T.nc\")\n",
    "\n",
    "T7_0 = clean_coords(T7_0, 2000)\n",
    "U7_0 = clean_coords(U7_0, 2000)"
   ]
  },
  {
   "cell_type": "code",
   "execution_count": null,
   "metadata": {},
   "outputs": [],
   "source": [
    "diff = dom_42 - dom_40"
   ]
  },
  {
   "cell_type": "code",
   "execution_count": null,
   "metadata": {},
   "outputs": [],
   "source": [
    "diff.gdepw_0.isel(nav_lev=-1, time_counter=0).plot()"
   ]
  },
  {
   "cell_type": "code",
   "execution_count": null,
   "metadata": {},
   "outputs": [],
   "source": []
  }
 ],
 "metadata": {
  "kernelspec": {
   "display_name": "xgcm",
   "language": "python",
   "name": "xgcm"
  },
  "language_info": {
   "codemirror_mode": {
    "name": "ipython",
    "version": 3
   },
   "file_extension": ".py",
   "mimetype": "text/x-python",
   "name": "python",
   "nbconvert_exporter": "python",
   "pygments_lexer": "ipython3",
   "version": "3.9.15"
  },
  "orig_nbformat": 4,
  "vscode": {
   "interpreter": {
    "hash": "31f2aee4e71d21fbe5cf8b01ff0e069b9275f58929596ceb00d14d90e3e16cd6"
   }
  }
 },
 "nbformat": 4,
 "nbformat_minor": 2
}
