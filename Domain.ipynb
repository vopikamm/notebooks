{
 "cells": [
  {
   "cell_type": "code",
   "execution_count": null,
   "metadata": {},
   "outputs": [],
   "source": [
    "import xarray as xr\n",
    "from matplotlib import pyplot as plt\n",
    "import cftime._cftime as cft\n",
    "import holoviews as hv\n",
    "#from holoviews import opts\n",
    "#hv.extension('matplotlib')\n",
    "#opts.defaults(opts.Scatter3D(color='Value', cmap='fire', edgecolor='black', s=50))"
   ]
  },
  {
   "cell_type": "markdown",
   "metadata": {},
   "source": [
    "| Experiment Name | Description | Parameters |\n",
    "| :- | :- | :- |\n",
    "| EXP_dom   |   No changes in usrdef                                |                                                           |\n",
    "| EXP_dom2  |   changes in usrdef_hgr                               | do_loop_substitute in usrdef_hgr                          |\n",
    "| EXP_dom3  |   changes in usrdef_zgr                               | 1, jpi/ 1, jpj -> DO_2D(nn), max/min lambda, max/min phi  |\n",
    "| EXP_dom4  |   fixed index shift for lam and lon in usrdef_hgr     |  mig0(ii) -> mig0(ii)-1                                   |\n",
    "| EXP_dom5  |   index shift for lam_max and lon_max in usrdef_zgr   | MAXVAL(...jpi-1) -> MAXVAL(...jpi-2)                      |\n",
    "| EXP_dom6  |   3D loop in e3u,e3uw,e3vw,e3f...                     | do_loop_substitute in zgr_lib                             |"
   ]
  },
  {
   "cell_type": "code",
   "execution_count": null,
   "metadata": {},
   "outputs": [],
   "source": [
    "path_0 = \"/home/dkamm/NEMO4.0/tests/BASIN_compiled_v0.1.0/EXP_dom/\"\n",
    "path_2 = \"/home/dkamm/NEMOGCM/tests/BASIN2/\""
   ]
  },
  {
   "cell_type": "code",
   "execution_count": null,
   "metadata": {},
   "outputs": [],
   "source": [
    "def clean_coords(xrdataset, start_year):\n",
    "    try:\n",
    "        shift = cft.timedelta(days=360 * start_year)\n",
    "        datetimeindex = (xrdataset.indexes['time_counter'] + shift).to_datetimeindex\n",
    "    except:\n",
    "        datetimeindex = xrdataset.indexes['time_counter']\n",
    "    try:\n",
    "        latitude  = xrdataset.nav_lat[:,0].values\n",
    "        longitude = xrdataset.nav_lon[0,:].values\n",
    "    except:\n",
    "        latitude  = xrdataset.nav_lat_grid_T[:,0].values\n",
    "        longitude = xrdataset.nav_lon_grid_T[0,:].values\n",
    "    try:\n",
    "        xrdataset = xrdataset.rename_dims({'x_grid_T': 'x' ,'y_grid_T': 'y'})\n",
    "    except:\n",
    "        pass\n",
    "    try:\n",
    "        xrdataset = xrdataset.assign_coords({'z': 5. - xrdataset.e3t.cumsum('deptht')})\n",
    "    except:\n",
    "        pass\n",
    "    try:\n",
    "        xrdataset = xrdataset.assign_coords({'z': 5. - xrdataset.e3u.cumsum('depthu')})\n",
    "    except:\n",
    "        pass\n",
    "    try:\n",
    "        xrdataset = xrdataset.assign_coords({'z': 5. - xrdataset.e3v.cumsum('depthv')})\n",
    "    except:\n",
    "        pass\n",
    "    try:\n",
    "        xrdataset = xrdataset.assign_coords({'z': 5. - xrdataset.e3w.cumsum('depthw')})\n",
    "    except:\n",
    "        pass\n",
    "    return xrdataset.assign_coords(dict({'time_counter':datetimeindex, 'y': latitude, 'x': longitude}))"
   ]
  },
  {
   "cell_type": "code",
   "execution_count": null,
   "metadata": {},
   "outputs": [],
   "source": [
    "dom_0 = xr.load_dataset(path_0 + 'domain_cfg_out.nc')\n",
    "dom_0 = clean_coords(dom_0, 2000)"
   ]
  },
  {
   "cell_type": "code",
   "execution_count": null,
   "metadata": {},
   "outputs": [],
   "source": [
    "dom_0.gdepw_0.isel(nav_lev=-1).plot()"
   ]
  },
  {
   "cell_type": "code",
   "execution_count": null,
   "metadata": {},
   "outputs": [],
   "source": [
    "dom_0.e3t_0.isel(y=10).sum('nav_lev').plot()"
   ]
  },
  {
   "cell_type": "code",
   "execution_count": null,
   "metadata": {},
   "outputs": [],
   "source": [
    "dom_8 = xr.load_dataset(path_2 + 'EXP_dom8/domain_cfg_out.nc')\n",
    "dom_8 = clean_coords(dom_8, 2000)\n",
    "\n",
    "dom_7 = xr.load_dataset(path_2 + 'EXP_dom7/domain_cfg_out.nc')\n",
    "dom_7 = clean_coords(dom_7, 2000)\n",
    "\n",
    "dom_6 = xr.load_dataset(path_2 + 'EXP_dom6/domain_cfg_out.nc')\n",
    "dom_6 = clean_coords(dom_6, 2000)\n",
    "\n",
    "dom_5 = xr.load_dataset(path_2 + 'EXP_dom5/domain_cfg_out.nc')\n",
    "dom_5 = clean_coords(dom_5, 2000)\n",
    "\n",
    "dom_4 = xr.load_dataset(path_2 + 'EXP_dom4/domain_cfg_out.nc')\n",
    "dom_4 = clean_coords(dom_4, 2000)\n",
    "\n",
    "dom_3 = xr.load_dataset(path_2 + 'EXP_dom3/domain_cfg_out.nc')\n",
    "dom_3 = clean_coords(dom_3, 2000)\n",
    "\n",
    "dom_2 = xr.load_dataset(path_2 + 'EXP_dom2/domain_cfg_out.nc')\n",
    "dom_2 = clean_coords(dom_2, 2000)\n",
    "\n",
    "dom_ref = xr.load_dataset(path_2 + 'EXP_dom/domain_cfg_out.nc')\n",
    "dom_ref = clean_coords(dom_ref, 2000)"
   ]
  },
  {
   "cell_type": "code",
   "execution_count": null,
   "metadata": {},
   "outputs": [],
   "source": [
    "dom_dbg = xr.load_dataset('/home/dkamm/NEMOGCM/tests/BASIN_debug/EXP01/domain_cfg_out.nc')\n",
    "dom_dbg = clean_coords(dom_dbg, 2000)"
   ]
  },
  {
   "cell_type": "code",
   "execution_count": null,
   "metadata": {},
   "outputs": [],
   "source": [
    "dom_7.y - 0.94"
   ]
  },
  {
   "cell_type": "code",
   "execution_count": null,
   "metadata": {},
   "outputs": [],
   "source": [
    "dom_8"
   ]
  },
  {
   "cell_type": "code",
   "execution_count": null,
   "metadata": {},
   "outputs": [],
   "source": [
    "dom_8.e2t - dom_8.e1t"
   ]
  },
  {
   "cell_type": "code",
   "execution_count": null,
   "metadata": {},
   "outputs": [],
   "source": [
    "dom_.isel(nav_lev=20, x=-1, y=[-3, -2, -1])"
   ]
  },
  {
   "cell_type": "code",
   "execution_count": null,
   "metadata": {},
   "outputs": [],
   "source": [
    "dom_7.isel(nav_lev=20, x=-1, y=[-4, -3, -2, -1])"
   ]
  },
  {
   "cell_type": "code",
   "execution_count": null,
   "metadata": {},
   "outputs": [],
   "source": [
    "slope_0 = xr.load_dataset(path_0 + 'mesh_mask.nc')\n",
    "slope_0 = clean_coords(slope_0, 2000)\n",
    "\n",
    "slope_2 = xr.load_dataset(path_2 + 'EXP_dom7/mesh_mask.nc')\n",
    "slope_2 = clean_coords(slope_2, 2000)"
   ]
  },
  {
   "cell_type": "code",
   "execution_count": null,
   "metadata": {},
   "outputs": [],
   "source": [
    "slope_0.mbathy"
   ]
  },
  {
   "cell_type": "code",
   "execution_count": null,
   "metadata": {},
   "outputs": [],
   "source": [
    "slope_2.ratio_slopej.plot()"
   ]
  },
  {
   "cell_type": "code",
   "execution_count": null,
   "metadata": {},
   "outputs": [],
   "source": [
    "(dom_ref - dom_0).max()"
   ]
  },
  {
   "cell_type": "code",
   "execution_count": null,
   "metadata": {},
   "outputs": [],
   "source": [
    "(dom_0.e3w_0.cumsum('nav_lev') - dom_4.e3w_0.cumsum('nav_lev'))"
   ]
  },
  {
   "cell_type": "code",
   "execution_count": null,
   "metadata": {},
   "outputs": [],
   "source": [
    "dom_0.e2f"
   ]
  },
  {
   "cell_type": "code",
   "execution_count": null,
   "metadata": {},
   "outputs": [],
   "source": [
    "hv_ds = hv.Dataset(dom_0.e3w_0.cumsum('nav_lev') - dom_5.e3w_0.cumsum('nav_lev'))"
   ]
  },
  {
   "cell_type": "code",
   "execution_count": null,
   "metadata": {},
   "outputs": [],
   "source": [
    "domain = hv_ds.to(hv.QuadMesh, kdims=[\"x\", \"y\"], dynamic=False)\n",
    "domain.opts(colorbar=True, fig_size=200, cmap='RdBu_r')"
   ]
  },
  {
   "cell_type": "code",
   "execution_count": null,
   "metadata": {},
   "outputs": [],
   "source": []
  }
 ],
 "metadata": {
  "kernelspec": {
   "display_name": "Python 3.9.15 64-bit ('xgcm')",
   "language": "python",
   "name": "python3"
  },
  "language_info": {
   "codemirror_mode": {
    "name": "ipython",
    "version": 3
   },
   "file_extension": ".py",
   "mimetype": "text/x-python",
   "name": "python",
   "nbconvert_exporter": "python",
   "pygments_lexer": "ipython3",
   "version": "3.9.15"
  },
  "orig_nbformat": 4,
  "vscode": {
   "interpreter": {
    "hash": "95e017c2a2777c71a3bd0b02c9234ec0e99721cbf7104ddaf7457b91e883feb5"
   }
  }
 },
 "nbformat": 4,
 "nbformat_minor": 2
}
