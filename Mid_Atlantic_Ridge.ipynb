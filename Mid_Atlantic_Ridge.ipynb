{
 "cells": [
  {
   "attachments": {},
   "cell_type": "markdown",
   "metadata": {},
   "source": [
    "## Notebook to test the impact of a midatlantic ridge"
   ]
  },
  {
   "cell_type": "code",
   "execution_count": null,
   "metadata": {},
   "outputs": [],
   "source": [
    "import xarray as xr\n",
    "import xgcm\n",
    "from matplotlib import pyplot as plt\n",
    "import nc_time_axis\n",
    "\n",
    "#plt.rcParams['axes.facecolor']='black'\n",
    "#plt.style.use('dark_background')\n",
    "plt.style.use('default')\n",
    "\n",
    "#plt.rcParams.update({'font.size': 20})"
   ]
  },
  {
   "cell_type": "code",
   "execution_count": null,
   "metadata": {},
   "outputs": [],
   "source": [
    "path   = \"/data/dkamm/nemo_output/NEVERWORLD/\""
   ]
  },
  {
   "attachments": {},
   "cell_type": "markdown",
   "metadata": {},
   "source": [
    "## Load domain (not lazy)"
   ]
  },
  {
   "cell_type": "code",
   "execution_count": null,
   "metadata": {},
   "outputs": [],
   "source": [
    "from pathlib import Path\n",
    "import xnemogcm as xn"
   ]
  },
  {
   "cell_type": "code",
   "execution_count": null,
   "metadata": {},
   "outputs": [],
   "source": [
    "datadir_gaus    = Path(path + 'GAUS_RIDGE_init/restart1')\n",
    "datadir_no      = Path(path + 'NO_RIDGE_init/restart1')"
   ]
  },
  {
   "cell_type": "code",
   "execution_count": null,
   "metadata": {},
   "outputs": [],
   "source": [
    "domcfg_gaus = xn.open_domain_cfg(datadir=datadir_gaus)\n",
    "domcfg_no   = xn.open_domain_cfg(datadir=datadir_no  )"
   ]
  },
  {
   "attachments": {},
   "cell_type": "markdown",
   "metadata": {},
   "source": [
    "### 1. Bathymetry without mid-atlantic ridge"
   ]
  },
  {
   "cell_type": "code",
   "execution_count": null,
   "metadata": {},
   "outputs": [],
   "source": [
    "%matplotlib widget\n",
    "fig = plt.figure()\n",
    "ax  = plt.axes(projection='3d')\n",
    "ax.set_box_aspect(aspect = (1,2.5,1))\n",
    "p1 = (-domcfg_no.e3w_0.sum('z_f')).plot.surface(ax=ax)\n",
    "ax.set_title('')"
   ]
  },
  {
   "attachments": {},
   "cell_type": "markdown",
   "metadata": {},
   "source": [
    "### 2. Bathymetry with mid-atlantic ridge:      Gaussian edge "
   ]
  },
  {
   "cell_type": "code",
   "execution_count": null,
   "metadata": {},
   "outputs": [],
   "source": [
    "%matplotlib widget\n",
    "fig = plt.figure()\n",
    "ax  = plt.axes(projection='3d')\n",
    "ax.set_box_aspect(aspect = (1,2.5,1))\n",
    "p2 = (-domcfg_gaus.e3w_0.sum('z_f')).plot.surface(ax=ax)\n",
    "ax.set_title('')"
   ]
  },
  {
   "cell_type": "code",
   "execution_count": null,
   "metadata": {},
   "outputs": [],
   "source": [
    "import numpy as np\n",
    "\n",
    "def gauss(rn_slp, rn_edge_n, phi, h_top, h_bot):\n",
    "    if(h_bot >= h_top):\n",
    "        gauss = (h_top - h_bot) * np.exp( - ( ( phi - rn_edge_n ) / rn_slp ) ** 2 ) + h_bot\n",
    "    else:\n",
    "        gauss = h_bot\n",
    "    return gauss"
   ]
  },
  {
   "cell_type": "code",
   "execution_count": null,
   "metadata": {},
   "outputs": [],
   "source": [
    "Data_no = xn.open_nemo(domcfg=domcfg_no, files=[\n",
    "        datadir_no / '../restart7/NEVERWORLD_grid_T.nc',\n",
    "        datadir_no / '../restart7/NEVERWORLD_grid_U.nc',\n",
    "        datadir_no / '../restart7/NEVERWORLD_grid_V.nc'\n",
    "    ])\n",
    "\n",
    "Data_gaus = xn.open_nemo(domcfg=domcfg_gaus, files=[\n",
    "        datadir_gaus / '../restart7/NEVERWORLD_grid_T.nc',\n",
    "        datadir_gaus / '../restart7/NEVERWORLD_grid_U.nc',\n",
    "        datadir_gaus / '../restart7/NEVERWORLD_grid_V.nc'\n",
    "    ])"
   ]
  },
  {
   "cell_type": "code",
   "execution_count": null,
   "metadata": {},
   "outputs": [],
   "source": [
    "Data_no_mo = xn.open_nemo(domcfg=domcfg_no, files=[\n",
    "        datadir_no / '../restart7/NEVERWORLD_grid_T_mo.nc'\n",
    "    ])\n",
    "\n",
    "Data_gaus_mo = xn.open_nemo(domcfg=domcfg_gaus, files=[\n",
    "        datadir_gaus / '../restart7/NEVERWORLD_grid_T_mo.nc'\n",
    "    ])"
   ]
  },
  {
   "attachments": {},
   "cell_type": "markdown",
   "metadata": {},
   "source": [
    "### Monthly averaged MLD"
   ]
  },
  {
   "cell_type": "code",
   "execution_count": null,
   "metadata": {},
   "outputs": [],
   "source": [
    "Data_no_mo.mldr10_1.isel(t=slice(-120,-1)).groupby(\"t.month\").mean().plot(col='month', col_wrap=4)\n",
    "plt.suptitle('Monthly average over the last ten years: No Mid-Atlantic ridge', y=1.04)"
   ]
  },
  {
   "cell_type": "code",
   "execution_count": null,
   "metadata": {},
   "outputs": [],
   "source": [
    "Data_gaus_mo.mldr10_1.isel(t=slice(-120,-1)).groupby(\"t.month\").mean().plot(col='month', col_wrap=4)\n",
    "plt.suptitle('Monthly average over the last ten years: With Mid-Atlantic ridge', y=1.04)"
   ]
  },
  {
   "attachments": {},
   "cell_type": "markdown",
   "metadata": {},
   "source": [
    "### Barotropic Streamfunction"
   ]
  },
  {
   "cell_type": "code",
   "execution_count": null,
   "metadata": {},
   "outputs": [],
   "source": [
    "metrics = {\n",
    "    ('X',): ['e1t', 'e1u', 'e1v', 'e1f'], # X distances\n",
    "    ('Y',): ['e2t', 'e2u', 'e2v', 'e2f'], # Y distances\n",
    "    ('Z',): ['e3t_0', 'e3u_0', 'e3v_0', 'e3f_0'] # Z distances\n",
    "}\n",
    "\n",
    "grid_no = xgcm.Grid(domcfg_no,\n",
    "        coords={\n",
    "            \"X\": {\"right\": \"x_f\", \"center\": \"x_c\"},\n",
    "            \"Y\": {\"right\": \"y_f\", \"center\":\"y_c\"},\n",
    "            \"Z\": {\"right\": \"z_f\", \"center\": \"z_c\"}\n",
    "        },\n",
    "        periodic=False,\n",
    "        metrics=metrics\n",
    ")\n",
    "\n",
    "grid_gaus = xgcm.Grid(domcfg_gaus,\n",
    "        coords={\n",
    "            \"X\": {\"right\": \"x_f\", \"center\": \"x_c\"},\n",
    "            \"Y\": {\"right\": \"y_f\", \"center\":\"y_c\"},\n",
    "            \"Z\": {\"right\": \"z_f\", \"center\": \"z_c\"}\n",
    "        },\n",
    "        periodic=False,\n",
    "        metrics=metrics\n",
    ")"
   ]
  },
  {
   "cell_type": "code",
   "execution_count": null,
   "metadata": {},
   "outputs": [],
   "source": [
    "#Interpolating on u_f\n",
    "Data_no['u_f'] = grid_no.interp(Data_no.uoce, 'Y')\n",
    "Data_gaus['u_f'] = grid_gaus.interp(Data_gaus.uoce, 'Y')\n",
    "\n",
    "#Integrating over depth\n",
    "Data_no['U'] = grid_no.integrate(Data_no.u_f, 'Z')\n",
    "Data_gaus['U'] = grid_gaus.integrate(Data_gaus.u_f, 'Z')\n",
    "\n",
    "#Cumulative integral over x\n",
    "Psi_no = (Data_no.U[-1,::-1,:] * domcfg_no.e2f[::-1,:]).cumsum('y_f') / 1e6\n",
    "Psi_gaus = (Data_gaus.U[-1,::-1,:] * domcfg_gaus.e2f[::-1,:]).cumsum('y_f') / 1e6"
   ]
  },
  {
   "cell_type": "code",
   "execution_count": null,
   "metadata": {},
   "outputs": [],
   "source": [
    "fig, axs = plt.subplots(1,2,figsize=(12,8))\n",
    "a = Psi_no.plot.contourf(x='x_f', y='y_f', cmap='RdBu_r', levels=30, add_colorbar=False, ax=axs[1])\n",
    "cbar1 = fig.colorbar(a, ax=axs[:2], location='bottom', label=r'$\\psi$ [Sv]')\n",
    "b = Psi_gaus.plot.contourf(x='x_f', y='y_f', cmap='RdBu_r', levels=30, add_colorbar=False, ax=axs[0], vmin=cbar1.vmin, vmax=cbar1.vmax)\n",
    "axs[0].set_ylabel('latitude [°N]')\n",
    "axs[1].set_ylabel('latitude [°N]')\n",
    "axs[0].set_xlabel('longitude [°E]')\n",
    "axs[1].set_xlabel('longitude [°E]')\n",
    "axs[0].set_title('With mid-atlantic ridge')\n",
    "axs[1].set_title('Without mid-atlantic ridge')"
   ]
  },
  {
   "cell_type": "code",
   "execution_count": null,
   "metadata": {},
   "outputs": [],
   "source": [
    "Psi_gaus = Psi_gaus.assign_coords(dict(\n",
    "    x_sh=([\"y_f\", \"x_f\"], Psi_gaus.glamf.values - 60.)\n",
    "    ))\n",
    "fig, axs = plt.subplots(1,1,figsize=(8,6))\n",
    "a = Psi_gaus.plot.contourf(x='x_sh', y='gphif', cmap='RdBu_r', levels=30, add_colorbar=False)\n",
    "cbar1 = fig.colorbar(a, ax=axs, label=r'$\\psi$ [Sv]')\n",
    "axs.set_ylabel('latitude [°N]')\n",
    "axs.set_xlabel('longitude [°E]')\n",
    "plt.title('')\n",
    "axs.set_facecolor('none')\n",
    "fig.savefig('BSF.png', transparent=True)"
   ]
  },
  {
   "attachments": {},
   "cell_type": "markdown",
   "metadata": {},
   "source": [
    "### Cross-equatorial meridional velocities"
   ]
  },
  {
   "cell_type": "code",
   "execution_count": null,
   "metadata": {},
   "outputs": [],
   "source": [
    "Data_no = Data_no.assign_coords(dict(\n",
    "    depthv=([\"z_c\", \"y_f\", \"x_c\"], - Data_no.isel(t=-1).e3v.cumsum('z_c').values)\n",
    "    )\n",
    ")\n",
    "\n",
    "Data_gaus = Data_gaus.assign_coords(dict(\n",
    "    depthv=([\"z_c\", \"y_f\", \"x_c\"], - Data_gaus.isel(t=-1).e3v.cumsum('z_c').values)\n",
    "    )\n",
    ")"
   ]
  },
  {
   "cell_type": "code",
   "execution_count": null,
   "metadata": {},
   "outputs": [],
   "source": [
    "fig, axs = plt.subplots(1,2,figsize=(12,8), sharey=True)\n",
    "a = (Data_no.vocetr_eff.isel(t=-1, y_f=100) / 10e6).plot.contourf(x='x_c', y='depthv', cmap='RdBu_r', levels=30, add_colorbar=False, ax=axs[1])\n",
    "cbar1 = fig.colorbar(a, ax=axs[:2], location='bottom', label=r'$\\psi$ [Sv]')\n",
    "b = (Data_gaus.vocetr_eff.isel(t=-1, y_f=100) / 10e6).plot.contourf(x='x_c', y='depthv', cmap='RdBu_r', levels=30, add_colorbar=False, ax=axs[0], vmin=cbar1.vmin, vmax=cbar1.vmax)\n",
    "axs[0].set_ylabel('latitude [°N]')\n",
    "axs[1].set_ylabel('latitude [°N]')\n",
    "axs[0].set_facecolor('grey')\n",
    "axs[1].set_facecolor('grey')\n",
    "axs[1].set_ylabel('latitude [°N]')\n",
    "axs[0].set_xlabel('longitude [°E]')\n",
    "axs[1].set_xlabel('longitude [°E]')\n",
    "axs[0].set_title('With mid-atlantic ridge')\n",
    "axs[1].set_title('Without mid-atlantic ridge')"
   ]
  },
  {
   "cell_type": "code",
   "execution_count": null,
   "metadata": {},
   "outputs": [],
   "source": [
    "#! nbconvert --to html ./Mid_Atlantic_Ridge.ipynb --HTMLExporter.theme=dark "
   ]
  },
  {
   "cell_type": "markdown",
   "metadata": {},
   "source": [
    "## Meridional overturning"
   ]
  },
  {
   "cell_type": "markdown",
   "metadata": {},
   "source": [
    "### Cutting the bottom cell and create a new grid object"
   ]
  },
  {
   "cell_type": "code",
   "execution_count": null,
   "metadata": {},
   "outputs": [],
   "source": [
    "import cf_xarray\n",
    "import gsw\n",
    "\n",
    "Data_no_cp = Data_no.isel(z_c=slice(0,-1)).copy()\n",
    "Data_gaus_cp = Data_gaus.isel(z_c=slice(0,-1)).copy()\n",
    "\n",
    "level_outer_no = cf_xarray.bounds_to_vertices(Data_no_cp.deptht_bounds, 'axis_nbounds').load().data\n",
    "level_outer_gaus = cf_xarray.bounds_to_vertices(Data_gaus_cp.deptht_bounds, 'axis_nbounds').load().data\n",
    "\n",
    "Data_no_cp = Data_no_cp.assign_coords({'z_f': level_outer_no})\n",
    "Data_gaus_cp = Data_gaus_cp.assign_coords({'z_f': level_outer_gaus})\n",
    "\n",
    "grid_no_cp = xgcm.Grid(Data_no_cp,\n",
    "    coords={\n",
    "        \"X\": {\"center\": \"x_c\"},\n",
    "        \"Y\": {\"right\": \"y_f\", \"center\":\"y_c\"},\n",
    "        \"Z\": {\"center\": \"z_c\", \"outer\": \"z_f\"}\n",
    "    },\n",
    "    periodic=False)\n",
    "\n",
    "grid_gaus_cp = xgcm.Grid(Data_gaus_cp,\n",
    "    coords={\n",
    "        \"X\": {\"center\": \"x_c\"},\n",
    "        \"Y\": {\"right\": \"y_f\", \"center\":\"y_c\"},\n",
    "        \"Z\": {\"center\": \"z_c\", \"outer\": \"z_f\"}\n",
    "    },\n",
    "    periodic=False)"
   ]
  },
  {
   "cell_type": "markdown",
   "metadata": {},
   "source": [
    "### Compute potential density, referenced to 2000m"
   ]
  },
  {
   "cell_type": "code",
   "execution_count": null,
   "metadata": {},
   "outputs": [],
   "source": [
    "Data_no_cp['sigma0'] = gsw.sigma0(Data_no_cp.soce, gsw.CT_from_pt(Data_no_cp.soce, Data_no_cp.toce))\n",
    "Data_gaus_cp['sigma0'] = gsw.sigma0(Data_gaus_cp.soce, gsw.CT_from_pt(Data_gaus_cp.soce, Data_gaus_cp.toce))"
   ]
  },
  {
   "cell_type": "markdown",
   "metadata": {},
   "source": [
    "### Interpolate sigma2 on the cell faces"
   ]
  },
  {
   "cell_type": "code",
   "execution_count": null,
   "metadata": {},
   "outputs": [],
   "source": [
    "sigma_v_no = grid_no_cp.interp(Data_no_cp.sigma0, 'Y')\n",
    "sigma_outer_no = grid_no_cp.interp(sigma_v_no, 'Z',  boundary='extend')\n",
    "\n",
    "sigma_v_gaus = grid_gaus_cp.interp(Data_gaus_cp.sigma0, 'Y')\n",
    "sigma_outer_gaus = grid_gaus_cp.interp(sigma_v_gaus, 'Z',  boundary='extend')"
   ]
  },
  {
   "cell_type": "markdown",
   "metadata": {},
   "source": [
    "### Target values for the new density coordinates"
   ]
  },
  {
   "cell_type": "code",
   "execution_count": null,
   "metadata": {},
   "outputs": [],
   "source": [
    "import numpy as np\n",
    "sigma_target = np.array([24, 24.2, 24.4, 24.65, 24.9, 25.15, 25.4, 25.65,\n",
    "                        25.9, 26.15, 26.4, 26.57, 26.75, 26.90, 27.05, 27.17,\n",
    "                        27.30, 27.37, 27.45, 27.52, 27.58,\n",
    "                        27.63, 27.68, 27.72, 27.75, 27.78, 27.80, 27.815,\n",
    "                        27.83, 27.845, 27.86, 27.875, 27.89,\n",
    "                        27.905, 27.92, 27.935, 27.95, 27.965,\n",
    "                        27.98, 27.99, 28.01, 28.025,\n",
    "                        28.04, 28.055, 28.07, 28.085, 28.1, 28.35,\n",
    "                        28.6, 28.8, 29.1])"
   ]
  },
  {
   "cell_type": "markdown",
   "metadata": {},
   "source": [
    "### Transforming the meridional transport on density coordinates"
   ]
  },
  {
   "cell_type": "code",
   "execution_count": null,
   "metadata": {},
   "outputs": [],
   "source": [
    "vtra_no = grid_no_cp.transform(Data_no_cp.vocetr_eff,\n",
    "        'Z',\n",
    "        sigma_target,\n",
    "        method='conservative',\n",
    "        target_data=sigma_outer_no)\n",
    "\n",
    "vtra_gaus = grid_gaus_cp.transform(Data_gaus_cp.vocetr_eff,\n",
    "        'Z',\n",
    "        sigma_target,\n",
    "        method='conservative',\n",
    "        target_data=sigma_outer_gaus)"
   ]
  },
  {
   "cell_type": "markdown",
   "metadata": {},
   "source": [
    "### Computing the meridional overturning"
   ]
  },
  {
   "cell_type": "code",
   "execution_count": null,
   "metadata": {},
   "outputs": [],
   "source": [
    "Over_no    = vtra_no.isel(t=-1).sum(dim='x_c')[:,::-1].cumsum('sigma0') / 1e6\n",
    "Over_gaus    = vtra_gaus.isel(t=-1).sum(dim='x_c')[:,::-1].cumsum('sigma0') / 1e6"
   ]
  },
  {
   "cell_type": "code",
   "execution_count": null,
   "metadata": {},
   "outputs": [],
   "source": [
    "Over_no = Over_no.assign_coords(dict({'y_f': domcfg_no.gphif.isel(x_f=10).values}))\n",
    "Over_gaus = Over_gaus.assign_coords(dict({'y_f': domcfg_gaus.gphif.isel(x_f=10).values}))"
   ]
  },
  {
   "cell_type": "code",
   "execution_count": null,
   "metadata": {},
   "outputs": [],
   "source": [
    "fig, axs = plt.subplots(1,2,figsize=(12,8), sharey=True)\n",
    "a = (-Over_no).plot.contourf(x='y_f', y='sigma0', cmap='RdBu_r', levels=30, add_colorbar=False, ax=axs[1])\n",
    "cbar1 = fig.colorbar(a, ax=axs, label=r'$\\psi$ [Sv]')\n",
    "b = (-Over_gaus).plot.contourf(x='y_f', y='sigma0', cmap='RdBu_r', levels=30, add_colorbar=False, ax=axs[0], vmin=cbar1.vmin, vmax=cbar1.vmax)\n",
    "axs[0].invert_yaxis()\n",
    "axs[0].set_ylabel(r'$\\sigma_{0}$ [ $kg$ / $m^3$ - 1000 ]')\n",
    "axs[1].set_ylabel(r'$\\sigma_{0}$ [ $kg$ / $m^3$ - 1000 ]')\n",
    "axs[0].set_xlabel('latitude [°N]')\n",
    "axs[1].set_xlabel('latitude [°N]')\n",
    "axs[0].set_title('Gaussian Mid-Atlantic Ridge', fontsize=15)\n",
    "axs[1].set_title('No Mid-Atlantic Ridge', fontsize=15)"
   ]
  },
  {
   "cell_type": "markdown",
   "metadata": {},
   "source": [
    "### ACC strength"
   ]
  },
  {
   "cell_type": "code",
   "execution_count": null,
   "metadata": {},
   "outputs": [],
   "source": [
    "n_restarts = 8"
   ]
  },
  {
   "cell_type": "code",
   "execution_count": null,
   "metadata": {},
   "outputs": [],
   "source": [
    "#Combine restart files\n",
    "for i in range(n_restarts-2, 0, -1):\n",
    "    _datadir = Path(path + 'NO_RIDGE_init/restart{}/'.format(i))\n",
    "    _Data = xn.open_nemo(domcfg=domcfg_no, files=[\n",
    "        _datadir / 'NEVERWORLD_grid_T.nc',\n",
    "        _datadir / 'NEVERWORLD_grid_U.nc',\n",
    "        _datadir / 'NEVERWORLD_grid_V.nc'\n",
    "    ])\n",
    "    Data_no = xr.concat([_Data.chunk(), Data_no.chunk()], \"t\")\n",
    "\n",
    "for i in range(n_restarts-2, 0, -1):\n",
    "    _datadir = Path(path + 'GAUS_RIDGE_init/restart{}/'.format(i))\n",
    "    _Data = xn.open_nemo(domcfg=domcfg_gaus, files=[\n",
    "        _datadir / 'NEVERWORLD_grid_T.nc',\n",
    "        _datadir / 'NEVERWORLD_grid_U.nc',\n",
    "        _datadir / 'NEVERWORLD_grid_V.nc'\n",
    "    ])\n",
    "    Data_gaus = xr.concat([_Data.chunk(), Data_gaus.chunk()], \"t\")"
   ]
  },
  {
   "cell_type": "code",
   "execution_count": null,
   "metadata": {},
   "outputs": [],
   "source": [
    "#Compute ACC transport\n",
    "ACC_no = Data_no.isel(x_f=0).uocetr_eff.sum(['y_c', 'z_c']) / 1e6\n",
    "ACC_gaus = Data_gaus.isel(x_f=0).uocetr_eff.sum(['y_c', 'z_c']) / 1e6\n",
    "\n",
    "#OR!!!!\n",
    "#ACC_no = (Data_no.isel(x_f=0).uoce * Data_no.isel(x_f=0).e2u * Data_no.isel(x_f=0).e3u).sum(['y_c', 'z_c']) / 1e6"
   ]
  },
  {
   "cell_type": "code",
   "execution_count": null,
   "metadata": {},
   "outputs": [],
   "source": [
    "import cftime as cft\n",
    "ACC_no = ACC_no.assign_coords(dict({'t':cft.to_tuple(ACC_no.indexes['t'])[0]}))\n",
    "ACC_gaus = ACC_gaus.assign_coords(dict({'t':cft.to_tuple(ACC_gaus.indexes['t'])[0]}))"
   ]
  },
  {
   "cell_type": "code",
   "execution_count": null,
   "metadata": {},
   "outputs": [],
   "source": [
    "fig, axs = plt.subplots(1,1, figsize=(12,6))\n",
    "ACC_no.plot(color='midnightblue', label='Without mid-atlantic ridge')\n",
    "ACC_gaus.plot(color='darkred', label='With mid-atlantic ridge')\n",
    "axs.set_ylabel('ACC transport [Sv]')\n",
    "plt.title('')\n",
    "plt.xlabel('time [years]')\n",
    "plt.legend()\n",
    "plt.grid()"
   ]
  },
  {
   "cell_type": "code",
   "execution_count": null,
   "metadata": {},
   "outputs": [],
   "source": [
    "!jupyter nbconvert --to html ./Mid_Atlantic_Ridge.ipynb --HTMLExporter.theme=dark "
   ]
  },
  {
   "cell_type": "code",
   "execution_count": null,
   "metadata": {},
   "outputs": [],
   "source": []
  }
 ],
 "metadata": {
  "kernelspec": {
   "display_name": "xgcm",
   "language": "python",
   "name": "python3"
  },
  "language_info": {
   "codemirror_mode": {
    "name": "ipython",
    "version": 3
   },
   "file_extension": ".py",
   "mimetype": "text/x-python",
   "name": "python",
   "nbconvert_exporter": "python",
   "pygments_lexer": "ipython3",
   "version": "3.9.15"
  },
  "orig_nbformat": 4
 },
 "nbformat": 4,
 "nbformat_minor": 2
}
