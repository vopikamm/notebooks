{
 "cells": [
  {
   "attachments": {},
   "cell_type": "markdown",
   "metadata": {},
   "source": [
    "## Notebook to test the impact of a midatlantic ridge"
   ]
  },
  {
   "cell_type": "code",
   "execution_count": null,
   "metadata": {},
   "outputs": [],
   "source": [
    "import xarray as xr\n",
    "import xgcm\n",
    "from matplotlib import pyplot as plt\n",
    "import nc_time_axis\n",
    "\n",
    "#plt.rcParams['axes.facecolor']='black'\n",
    "#plt.style.use('dark_background')\n",
    "plt.style.use('default')\n",
    "\n",
    "plt.rcParams.update({'font.size': 20})"
   ]
  },
  {
   "cell_type": "code",
   "execution_count": null,
   "metadata": {},
   "outputs": [],
   "source": [
    "path   = \"/data/dkamm/nemo_output/NEVERWORLD/\""
   ]
  },
  {
   "attachments": {},
   "cell_type": "markdown",
   "metadata": {},
   "source": [
    "## Load domain (not lazy)"
   ]
  },
  {
   "cell_type": "code",
   "execution_count": null,
   "metadata": {},
   "outputs": [],
   "source": [
    "from pathlib import Path\n",
    "import xnemogcm as xn"
   ]
  },
  {
   "cell_type": "code",
   "execution_count": null,
   "metadata": {},
   "outputs": [],
   "source": [
    "datadir_gaus    = Path(path + 'GAUS_RIDGE_init/restart1')\n",
    "datadir_no      = Path(path + 'NO_RIDGE_init/restart1')"
   ]
  },
  {
   "cell_type": "code",
   "execution_count": null,
   "metadata": {},
   "outputs": [],
   "source": [
    "domcfg_gaus = xn.open_domain_cfg(datadir=datadir_gaus)\n",
    "domcfg_no   = xn.open_domain_cfg(datadir=datadir_no  )"
   ]
  },
  {
   "attachments": {},
   "cell_type": "markdown",
   "metadata": {},
   "source": [
    "### 1. Bathymetry without mid-atlantic ridge"
   ]
  },
  {
   "cell_type": "code",
   "execution_count": null,
   "metadata": {},
   "outputs": [],
   "source": [
    "%matplotlib widget\n",
    "fig = plt.figure()\n",
    "ax  = plt.axes(projection='3d')\n",
    "ax.set_box_aspect(aspect = (1,2.5,1))\n",
    "p1 = (-domcfg_no.e3w_0.sum('z_f')).plot.surface(ax=ax)\n",
    "ax.set_title('')"
   ]
  },
  {
   "attachments": {},
   "cell_type": "markdown",
   "metadata": {},
   "source": [
    "### 2. Bathymetry with mid-atlantic ridge:      Gaussian edge "
   ]
  },
  {
   "cell_type": "code",
   "execution_count": null,
   "metadata": {},
   "outputs": [],
   "source": [
    "%matplotlib widget\n",
    "fig = plt.figure()\n",
    "ax  = plt.axes(projection='3d')\n",
    "ax.set_box_aspect(aspect = (1,2.5,1))\n",
    "p2 = (-domcfg_gaus.e3w_0.sum('z_f')).plot.surface(ax=ax)\n",
    "ax.set_title('')"
   ]
  },
  {
   "cell_type": "code",
   "execution_count": null,
   "metadata": {},
   "outputs": [],
   "source": [
    "import numpy as np\n",
    "\n",
    "def gauss(rn_slp, rn_edge_n, phi, h_top, h_bot):\n",
    "    if(h_bot >= h_top):\n",
    "        gauss = (h_top - h_bot) * np.exp( - ( ( phi - rn_edge_n ) / rn_slp ) ** 2 ) + h_bot\n",
    "    else:\n",
    "        gauss = h_bot\n",
    "    return gauss"
   ]
  },
  {
   "cell_type": "code",
   "execution_count": null,
   "metadata": {},
   "outputs": [],
   "source": [
    "Data_no = xn.open_nemo(domcfg=domcfg_no, files=[\n",
    "        datadir_no / '../restart7/NEVERWORLD_grid_T.nc',\n",
    "        datadir_no / '../restart7/NEVERWORLD_grid_U.nc',\n",
    "        datadir_no / '../restart7/NEVERWORLD_grid_V.nc'\n",
    "    ])\n",
    "\n",
    "Data_gaus = xn.open_nemo(domcfg=domcfg_gaus, files=[\n",
    "        datadir_gaus / '../restart7/NEVERWORLD_grid_T.nc',\n",
    "        datadir_gaus / '../restart7/NEVERWORLD_grid_U.nc',\n",
    "        datadir_gaus / '../restart7/NEVERWORLD_grid_V.nc'\n",
    "    ])"
   ]
  },
  {
   "cell_type": "code",
   "execution_count": null,
   "metadata": {},
   "outputs": [],
   "source": [
    "Data_no_mo = xn.open_nemo(domcfg=domcfg_no, files=[\n",
    "        datadir_no / '../restart7/NEVERWORLD_grid_T_mo.nc'\n",
    "    ])\n",
    "\n",
    "Data_gaus_mo = xn.open_nemo(domcfg=domcfg_gaus, files=[\n",
    "        datadir_gaus / '../restart7/NEVERWORLD_grid_T_mo.nc'\n",
    "    ])"
   ]
  },
  {
   "attachments": {},
   "cell_type": "markdown",
   "metadata": {},
   "source": [
    "### Monthly averaged MLD"
   ]
  },
  {
   "cell_type": "code",
   "execution_count": null,
   "metadata": {},
   "outputs": [],
   "source": [
    "Data_no_mo.mldr10_1.isel(t=slice(-120,-1)).groupby(\"t.month\").mean().plot(col='month', col_wrap=4)\n",
    "plt.suptitle('Monthly average over the last ten years: No Mid-Atlantic ridge', y=1.04)"
   ]
  },
  {
   "cell_type": "code",
   "execution_count": null,
   "metadata": {},
   "outputs": [],
   "source": [
    "Data_gaus_mo.mldr10_1.isel(t=slice(-120,-1)).groupby(\"t.month\").mean().plot(col='month', col_wrap=4)\n",
    "plt.suptitle('Monthly average over the last ten years: With Mid-Atlantic ridge', y=1.04)"
   ]
  },
  {
   "attachments": {},
   "cell_type": "markdown",
   "metadata": {},
   "source": [
    "### Barotropic Streamfunction"
   ]
  },
  {
   "cell_type": "code",
   "execution_count": null,
   "metadata": {},
   "outputs": [],
   "source": [
    "metrics = {\n",
    "    ('X',): ['e1t', 'e1u', 'e1v', 'e1f'], # X distances\n",
    "    ('Y',): ['e2t', 'e2u', 'e2v', 'e2f'], # Y distances\n",
    "    ('Z',): ['e3t_0', 'e3u_0', 'e3v_0', 'e3f_0'] # Z distances\n",
    "}\n",
    "\n",
    "grid_no = xgcm.Grid(domcfg_no,\n",
    "        coords={\n",
    "            \"X\": {\"right\": \"x_f\", \"center\": \"x_c\"},\n",
    "            \"Y\": {\"right\": \"y_f\", \"center\":\"y_c\"},\n",
    "            \"Z\": {\"right\": \"z_f\", \"center\": \"z_c\"}\n",
    "        },\n",
    "        periodic=False,\n",
    "        metrics=metrics\n",
    ")\n",
    "\n",
    "grid_gaus = xgcm.Grid(domcfg_gaus,\n",
    "        coords={\n",
    "            \"X\": {\"right\": \"x_f\", \"center\": \"x_c\"},\n",
    "            \"Y\": {\"right\": \"y_f\", \"center\":\"y_c\"},\n",
    "            \"Z\": {\"right\": \"z_f\", \"center\": \"z_c\"}\n",
    "        },\n",
    "        periodic=False,\n",
    "        metrics=metrics\n",
    ")"
   ]
  },
  {
   "cell_type": "code",
   "execution_count": null,
   "metadata": {},
   "outputs": [],
   "source": [
    "#Interpolating on u_f\n",
    "Data_no['u_f'] = grid_no.interp(Data_no.uoce, 'Y')\n",
    "Data_gaus['u_f'] = grid_gaus.interp(Data_gaus.uoce, 'Y')\n",
    "\n",
    "#Integrating over depth\n",
    "Data_no['U'] = grid_no.integrate(Data_no.u_f, 'Z')\n",
    "Data_gaus['U'] = grid_gaus.integrate(Data_gaus.u_f, 'Z')\n",
    "\n",
    "#Cumulative integral over x\n",
    "Psi_no = (Data_no.U[-1,::-1,:] * domcfg_no.e2f[::-1,:]).cumsum('y_f') / 1e6\n",
    "Psi_gaus = (Data_gaus.U[-1,::-1,:] * domcfg_gaus.e2f[::-1,:]).cumsum('y_f') / 1e6"
   ]
  },
  {
   "cell_type": "code",
   "execution_count": null,
   "metadata": {},
   "outputs": [],
   "source": [
    "fig, axs = plt.subplots(1,2,figsize=(12,8))\n",
    "a = Psi_no.plot.contourf(x='x_f', y='y_f', cmap='RdBu_r', levels=30, add_colorbar=False, ax=axs[1])\n",
    "cbar1 = fig.colorbar(a, ax=axs[:2], location='bottom', label=r'$\\psi$ [Sv]')\n",
    "b = Psi_gaus.plot.contourf(x='x_f', y='y_f', cmap='RdBu_r', levels=30, add_colorbar=False, ax=axs[0], vmin=cbar1.vmin, vmax=cbar1.vmax)\n",
    "axs[0].set_ylabel('latitude [°N]')\n",
    "axs[1].set_ylabel('latitude [°N]')\n",
    "axs[0].set_xlabel('longitude [°E]')\n",
    "axs[1].set_xlabel('longitude [°E]')\n",
    "axs[0].set_title('With mid-atlantic ridge')\n",
    "axs[1].set_title('Without mid-atlantic ridge')"
   ]
  },
  {
   "cell_type": "code",
   "execution_count": null,
   "metadata": {},
   "outputs": [],
   "source": [
    "Psi_gaus = Psi_gaus.assign_coords(dict(\n",
    "    x_sh=([\"y_f\", \"x_f\"], Psi_gaus.glamf.values - 60.)\n",
    "    ))\n",
    "fig, axs = plt.subplots(1,1,figsize=(8,6))\n",
    "a = Psi_gaus.plot.contourf(x='x_sh', y='gphif', cmap='RdBu_r', levels=30, add_colorbar=False)\n",
    "cbar1 = fig.colorbar(a, ax=axs, label=r'$\\psi$ [Sv]')\n",
    "axs.set_ylabel('latitude [°N]')\n",
    "axs.set_xlabel('longitude [°E]')\n",
    "plt.title('')\n",
    "axs.set_facecolor('none')\n",
    "fig.savefig('BSF.png', transparent=True)"
   ]
  },
  {
   "cell_type": "code",
   "execution_count": null,
   "metadata": {},
   "outputs": [],
   "source": [
    "Psi_gaus"
   ]
  },
  {
   "cell_type": "code",
   "execution_count": null,
   "metadata": {},
   "outputs": [],
   "source": [
    "# U_s_grid = U_s_grid.assign_coords({'x_f': U_s_grid.x_f.values - 60.})\n",
    "fig, axs = plt.subplots(1,1,figsize=(8,6))\n",
    "a = Psi_1_4deg.plot.contourf(x='x_f', y='y_f', cmap='RdBu_r', levels=30, add_colorbar=False)\n",
    "cbar1 = fig.colorbar(a, ax=axs, label=r'$\\psi$ [Sv]')\n",
    "axs.set_ylabel('latitude [°N]')\n",
    "axs.set_xlabel('longitude [°E]')\n",
    "plt.title('')"
   ]
  },
  {
   "attachments": {},
   "cell_type": "markdown",
   "metadata": {},
   "source": [
    "### Cross-equatorial meridional velocities"
   ]
  },
  {
   "cell_type": "code",
   "execution_count": null,
   "metadata": {},
   "outputs": [],
   "source": [
    "Data_no = Data_no.assign_coords(dict(\n",
    "    depthv=([\"z_c\", \"y_f\", \"x_c\"], - Data_no.isel(t=-1).e3v.cumsum('z_c').values)\n",
    "    )\n",
    ")\n",
    "\n",
    "Data_gaus = Data_gaus.assign_coords(dict(\n",
    "    depthv=([\"z_c\", \"y_f\", \"x_c\"], - Data_gaus.isel(t=-1).e3v.cumsum('z_c').values)\n",
    "    )\n",
    ")"
   ]
  },
  {
   "cell_type": "code",
   "execution_count": null,
   "metadata": {},
   "outputs": [],
   "source": [
    "fig, axs = plt.subplots(1,2,figsize=(12,8), sharey=True)\n",
    "a = (Data_no.vocetr_eff.isel(t=-1, y_f=100) / 10e6).plot.contourf(x='x_c', y='depthv', cmap='RdBu_r', levels=30, add_colorbar=False, ax=axs[1])\n",
    "cbar1 = fig.colorbar(a, ax=axs[:2], location='bottom', label=r'$\\psi$ [Sv]')\n",
    "b = (Data_gaus.vocetr_eff.isel(t=-1, y_f=100) / 10e6).plot.contourf(x='x_c', y='depthv', cmap='RdBu_r', levels=30, add_colorbar=False, ax=axs[0], vmin=cbar1.vmin, vmax=cbar1.vmax)\n",
    "axs[0].set_ylabel('latitude [°N]')\n",
    "axs[1].set_ylabel('latitude [°N]')\n",
    "axs[0].set_facecolor('grey')\n",
    "axs[1].set_facecolor('grey')\n",
    "axs[1].set_ylabel('latitude [°N]')\n",
    "axs[0].set_xlabel('longitude [°E]')\n",
    "axs[1].set_xlabel('longitude [°E]')\n",
    "axs[0].set_title('With mid-atlantic ridge')\n",
    "axs[1].set_title('Without mid-atlantic ridge')"
   ]
  },
  {
   "attachments": {},
   "cell_type": "markdown",
   "metadata": {},
   "source": [
    "### ACC strength"
   ]
  },
  {
   "cell_type": "code",
   "execution_count": null,
   "metadata": {},
   "outputs": [],
   "source": [
    "n_restarts = 8"
   ]
  },
  {
   "cell_type": "code",
   "execution_count": null,
   "metadata": {},
   "outputs": [],
   "source": [
    "#Combine restart files\n",
    "for i in range(n_restarts-2, 0, -1):\n",
    "    _datadir = Path(path + 'NO_RIDGE_init/restart{}/'.format(i))\n",
    "    _Data = xn.open_nemo(domcfg=domcfg_no, files=[\n",
    "        _datadir / 'NEVERWORLD_grid_T.nc',\n",
    "        _datadir / 'NEVERWORLD_grid_U.nc',\n",
    "        _datadir / 'NEVERWORLD_grid_V.nc'\n",
    "    ])\n",
    "    Data_no = xr.concat([_Data.chunk(), Data_no.chunk()], \"t\")\n",
    "\n",
    "for i in range(n_restarts-2, 0, -1):\n",
    "    _datadir = Path(path + 'GAUS_RIDGE_init/restart{}/'.format(i))\n",
    "    _Data = xn.open_nemo(domcfg=domcfg_gaus, files=[\n",
    "        _datadir / 'NEVERWORLD_grid_T.nc',\n",
    "        _datadir / 'NEVERWORLD_grid_U.nc',\n",
    "        _datadir / 'NEVERWORLD_grid_V.nc'\n",
    "    ])\n",
    "    Data_gaus = xr.concat([_Data.chunk(), Data_gaus.chunk()], \"t\")"
   ]
  },
  {
   "cell_type": "code",
   "execution_count": null,
   "metadata": {},
   "outputs": [],
   "source": [
    "#Compute ACC transport\n",
    "ACC_no = Data_no.isel(x_f=0).uocetr_eff.sum(['y_c', 'z_c']) / 1e6\n",
    "ACC_gaus = Data_gaus.isel(x_f=0).uocetr_eff.sum(['y_c', 'z_c']) / 1e6\n",
    "\n",
    "#OR!!!!\n",
    "#ACC_no = (Data_no.isel(x_f=0).uoce * Data_no.isel(x_f=0).e2u * Data_no.isel(x_f=0).e3u).sum(['y_c', 'z_c']) / 1e6"
   ]
  },
  {
   "cell_type": "code",
   "execution_count": null,
   "metadata": {},
   "outputs": [],
   "source": [
    "import cftime as cft\n",
    "ACC_no = ACC_no.assign_coords(dict({'t':cft.to_tuple(ACC_no.indexes['t'])[0]}))\n",
    "ACC_gaus = ACC_gaus.assign_coords(dict({'t':cft.to_tuple(ACC_gaus.indexes['t'])[0]}))"
   ]
  },
  {
   "cell_type": "code",
   "execution_count": null,
   "metadata": {},
   "outputs": [],
   "source": [
    "fig, axs = plt.subplots(1,1, figsize=(12,6))\n",
    "ACC_no.plot(color='midnightblue', label='Without mid-atlantic ridge')\n",
    "ACC_gaus.plot(color='darkred', label='With mid-atlantic ridge')\n",
    "axs.set_ylabel('ACC transport [Sv]')\n",
    "plt.title('')\n",
    "plt.xlabel('time [years]')\n",
    "plt.legend()\n",
    "plt.grid()"
   ]
  },
  {
   "cell_type": "code",
   "execution_count": null,
   "metadata": {},
   "outputs": [],
   "source": [
    "!jupyter nbconvert --to html ./Mid_Atlantic_Ridge.ipynb --HTMLExporter.theme=dark "
   ]
  },
  {
   "attachments": {},
   "cell_type": "markdown",
   "metadata": {},
   "source": [
    "### Monthly averaged MLD"
   ]
  },
  {
   "cell_type": "code",
   "execution_count": null,
   "metadata": {},
   "outputs": [],
   "source": [
    "Data_gaus_mo.qsr.isel(y_c=150, x_c=30, t=slice(0,24)).plot()"
   ]
  },
  {
   "cell_type": "code",
   "execution_count": null,
   "metadata": {},
   "outputs": [],
   "source": [
    "Data_gaus_mo.qsr.isel(t=slice(-13,-1), x_c=30, y_c=175).plot()\n",
    "#plt.suptitle('Monthly average over the last ten years: With Mid-Atlantic ridge', y=1.04)"
   ]
  },
  {
   "cell_type": "code",
   "execution_count": null,
   "metadata": {},
   "outputs": [],
   "source": [
    "Data_gaus"
   ]
  },
  {
   "cell_type": "code",
   "execution_count": null,
   "metadata": {},
   "outputs": [],
   "source": [
    "Data_gaus_mo"
   ]
  },
  {
   "cell_type": "code",
   "execution_count": null,
   "metadata": {},
   "outputs": [],
   "source": [
    "a = xr.open_dataset(path + 'NEVERWORLD_grid_T_mo.nc')"
   ]
  },
  {
   "cell_type": "code",
   "execution_count": null,
   "metadata": {},
   "outputs": [],
   "source": [
    "a.nav_lat.isel(y=175).values"
   ]
  },
  {
   "cell_type": "code",
   "execution_count": null,
   "metadata": {},
   "outputs": [],
   "source": [
    "a.qsr.plot(col='time_counter', col_wrap=3)"
   ]
  },
  {
   "attachments": {},
   "cell_type": "markdown",
   "metadata": {},
   "source": [
    "### Barotropic Streamfunction"
   ]
  }
 ],
 "metadata": {
  "kernelspec": {
   "display_name": "xgcm",
   "language": "python",
   "name": "python3"
  },
  "language_info": {
   "codemirror_mode": {
    "name": "ipython",
    "version": 3
   },
   "file_extension": ".py",
   "mimetype": "text/x-python",
   "name": "python",
   "nbconvert_exporter": "python",
   "pygments_lexer": "ipython3",
   "version": "3.9.15"
  },
  "orig_nbformat": 4
 },
 "nbformat": 4,
 "nbformat_minor": 2
}
