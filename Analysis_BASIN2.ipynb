{
 "cells": [
  {
   "cell_type": "markdown",
   "metadata": {},
   "source": [
    "| Experiment Name | Description | Parameters |\n",
    "| :- | :- | :- |\n",
    "| EXP01 |   Reference run as EXP00                                      | rnDt      = 2700.                 |\n",
    "| EXP02 |   Decreased time step for stability                           | rnDt      = 900.                  |    \n",
    "| EXP03 |   Decreased wind forcing                                      | zTau0     = 5e-2                  |\n",
    "| EXP04 |   (Almost) Centered around equator                            | rnPhi0    = -40                   | \n",
    "| EXP05 |   Uniform zonal wind forcing                                  | nnforcing = 2                     |\n",
    "| EXP06 |   TEOS10                                                      | nnforcing = 2, TEOS10             |\n",
    "| EXP07 |   No flattening of the bathymetry                             | ln_equ_flat = False               |\n",
    "| EXP08 |   Centered wind forcing with minumum on meridional boundary   | ln_equ_flat = True, rn_Phi=-21    |\n",
    "| EXP09 |   As EXP08 but with flattening at the equator                 | ln_equ_flat = False               |"
   ]
  },
  {
   "cell_type": "code",
   "execution_count": null,
   "metadata": {},
   "outputs": [],
   "source": [
    "import xarray as xr\n",
    "from matplotlib import pyplot as plt\n",
    "import cftime._cftime as cft\n",
    "#import holoviews as hv\n",
    "\n",
    "#hv.extension('bokeh')"
   ]
  },
  {
   "cell_type": "code",
   "execution_count": null,
   "metadata": {},
   "outputs": [],
   "source": [
    "def clean_coords(xrdataset, start_year):\n",
    "    try:\n",
    "        shift = cft.timedelta(days=360 * start_year)\n",
    "        datetimeindex = (xrdataset.indexes['time_counter'] + shift).to_datetimeindex\n",
    "    except:\n",
    "        datetimeindex = xrdataset.indexes['time_counter']\n",
    "    try:\n",
    "        latitude  = xrdataset.nav_lat[:,0].values\n",
    "        longitude = xrdataset.nav_lon[0,:].values\n",
    "    except:\n",
    "        latitude  = xrdataset.nav_lat_grid_T[:,0].values\n",
    "        longitude = xrdataset.nav_lon_grid_T[0,:].values\n",
    "\n",
    "    return xrdataset.assign_coords(dict({'time_counter':datetimeindex, 'y': latitude, 'x': longitude}))"
   ]
  },
  {
   "cell_type": "code",
   "execution_count": null,
   "metadata": {},
   "outputs": [],
   "source": [
    "def read_abort(path, dict_vars={'votemper': 'T', 'vosaline': 'S', 'vozocrtx': 'U', 'vomecrty': 'V', 'vovecrtz': 'W', 'sossheig': 'H', 'vovvldep': 'depth'}):\n",
    "    abort = xr.load_dataset(path)\n",
    "    abort = abort.rename(dict_vars)\n",
    "    abort = abort.set_coords(['nav_lon', 'nav_lat', 'depth'])\n",
    "    abort = abort.assign_coords({'nav_lev': abort.nav_lev * -1})\n",
    "    abort = abort.assign_coords({'depth': abort.depth * -1})\n",
    "    return(abort[list(dict_vars.values())])"
   ]
  },
  {
   "cell_type": "markdown",
   "metadata": {},
   "source": [
    "\n",
    "# **EXP01: Reference Run**"
   ]
  },
  {
   "cell_type": "code",
   "execution_count": null,
   "metadata": {},
   "outputs": [],
   "source": [
    "U1       = xr.load_dataset(\"/home/dkamm/NEMOGCM/tests/BASIN2/EXP01/BASIN_grid_U.nc\")\n",
    "T1       = xr.load_dataset(\"/home/dkamm/NEMOGCM/tests/BASIN2/EXP01/BASIN_grid_T.nc\")\n",
    "mask1    = xr.load_dataset(\"/home/dkamm/NEMOGCM/tests/BASIN2/EXP01/mesh_mask.nc\")"
   ]
  },
  {
   "cell_type": "code",
   "execution_count": null,
   "metadata": {},
   "outputs": [],
   "source": [
    "T1 = clean_coords(T1, 2000)\n",
    "U1 = clean_coords(U1, 2000)\n",
    "mask1 = clean_coords(mask1, 2000)"
   ]
  },
  {
   "cell_type": "markdown",
   "metadata": {},
   "source": [
    "## Bathymetry"
   ]
  },
  {
   "cell_type": "code",
   "execution_count": null,
   "metadata": {},
   "outputs": [],
   "source": [
    "mask1.e3t_0.sum(dim='nav_lev').plot(x='x', y='y')"
   ]
  },
  {
   "cell_type": "code",
   "execution_count": null,
   "metadata": {},
   "outputs": [],
   "source": [
    "mask1.x"
   ]
  },
  {
   "cell_type": "code",
   "execution_count": null,
   "metadata": {},
   "outputs": [],
   "source": [
    "(- mask1.e3t_0.isel(y=20)).sum(dim='nav_lev').plot()"
   ]
  },
  {
   "cell_type": "markdown",
   "metadata": {},
   "source": [
    "## Salinity"
   ]
  },
  {
   "cell_type": "code",
   "execution_count": null,
   "metadata": {},
   "outputs": [],
   "source": [
    "T1.soce.isel(deptht=0, time_counter=-2).plot(x='nav_lon_grid_T', y='nav_lat_grid_T', vmin=33, vmax=37)"
   ]
  },
  {
   "cell_type": "markdown",
   "metadata": {},
   "source": [
    "## Zonal velocity"
   ]
  },
  {
   "cell_type": "code",
   "execution_count": null,
   "metadata": {},
   "outputs": [],
   "source": [
    "U1.uoce.isel(depthu=0, time_counter=-2).plot(x='nav_lon', y='nav_lat')"
   ]
  },
  {
   "cell_type": "markdown",
   "metadata": {},
   "source": [
    "\n",
    "# **EXP02: Decreased time-step, 900s**"
   ]
  },
  {
   "cell_type": "code",
   "execution_count": null,
   "metadata": {},
   "outputs": [],
   "source": [
    "U2       = xr.load_dataset(\"/home/dkamm/NEMOGCM/tests/BASIN2/EXP02/BASIN_grid_U.nc\")\n",
    "T2       = xr.load_dataset(\"/home/dkamm/NEMOGCM/tests/BASIN2/EXP02/BASIN_grid_T.nc\")"
   ]
  },
  {
   "cell_type": "code",
   "execution_count": null,
   "metadata": {},
   "outputs": [],
   "source": [
    "T2 = clean_coords(T2, 2000)\n",
    "U2 = clean_coords(U2, 2000)"
   ]
  },
  {
   "cell_type": "markdown",
   "metadata": {},
   "source": [
    "## Salinity at the surface"
   ]
  },
  {
   "cell_type": "code",
   "execution_count": null,
   "metadata": {},
   "outputs": [],
   "source": [
    "T2.soce.isel(deptht=0, time_counter=-5).plot(x='nav_lon_grid_T', y='nav_lat_grid_T', vmin=33, vmax=37)"
   ]
  },
  {
   "cell_type": "markdown",
   "metadata": {},
   "source": [
    "## Zonal velocity at the surface"
   ]
  },
  {
   "cell_type": "code",
   "execution_count": null,
   "metadata": {},
   "outputs": [],
   "source": [
    "U2.uoce.isel(depthu=0, time_counter=-5).plot(x='nav_lon', y='nav_lat')"
   ]
  },
  {
   "cell_type": "markdown",
   "metadata": {},
   "source": [
    "\n",
    "# **EXP03: Decreased wind forcing x0.5**"
   ]
  },
  {
   "cell_type": "code",
   "execution_count": null,
   "metadata": {},
   "outputs": [],
   "source": [
    "U3       = xr.load_dataset(\"/home/dkamm/NEMOGCM/tests/BASIN2/EXP03/BASIN_grid_U.nc\")\n",
    "T3       = xr.load_dataset(\"/home/dkamm/NEMOGCM/tests/BASIN2/EXP03/BASIN_grid_T.nc\")"
   ]
  },
  {
   "cell_type": "code",
   "execution_count": null,
   "metadata": {},
   "outputs": [],
   "source": [
    "T3 = clean_coords(T3, 2000)\n",
    "U3 = clean_coords(U3, 2000)"
   ]
  },
  {
   "cell_type": "markdown",
   "metadata": {},
   "source": [
    "## Salinity at the surface"
   ]
  },
  {
   "cell_type": "code",
   "execution_count": null,
   "metadata": {},
   "outputs": [],
   "source": [
    "T3.soce.isel(deptht=0, time_counter=-2).plot(x='nav_lon_grid_T', y='nav_lat_grid_T', vmin=33, vmax=37)"
   ]
  },
  {
   "cell_type": "markdown",
   "metadata": {},
   "source": [
    "## Zonal velocity at the surface"
   ]
  },
  {
   "cell_type": "code",
   "execution_count": null,
   "metadata": {},
   "outputs": [],
   "source": [
    "U3.uoce.isel(depthu=0, time_counter=-3).plot(x='nav_lon', y='nav_lat')"
   ]
  },
  {
   "cell_type": "markdown",
   "metadata": {},
   "source": [
    "\n",
    "# **EXP04: Include southern hemisphere**"
   ]
  },
  {
   "cell_type": "code",
   "execution_count": null,
   "metadata": {},
   "outputs": [],
   "source": [
    "U4       = xr.load_dataset(\"/home/dkamm/NEMOGCM/tests/BASIN2/EXP04/BASIN_grid_U.nc\")\n",
    "T4       = xr.load_dataset(\"/home/dkamm/NEMOGCM/tests/BASIN2/EXP04/BASIN_grid_T.nc\")\n",
    "mask4    = xr.load_dataset(\"/home/dkamm/NEMOGCM/tests/BASIN2/EXP04/mesh_mask.nc\")"
   ]
  },
  {
   "cell_type": "code",
   "execution_count": null,
   "metadata": {},
   "outputs": [],
   "source": [
    "T4 = clean_coords(T4, 2000)\n",
    "U4 = clean_coords(U4, 2000)\n",
    "mask4 = clean_coords(mask4, 2000)"
   ]
  },
  {
   "cell_type": "markdown",
   "metadata": {},
   "source": [
    "## Bathymetry"
   ]
  },
  {
   "cell_type": "code",
   "execution_count": null,
   "metadata": {},
   "outputs": [],
   "source": [
    "mask4.e3t_0.sum(dim='nav_lev').plot(x='x', y='y')"
   ]
  },
  {
   "cell_type": "markdown",
   "metadata": {},
   "source": [
    "## Salinity at the surface"
   ]
  },
  {
   "cell_type": "code",
   "execution_count": null,
   "metadata": {},
   "outputs": [],
   "source": [
    "T4.soce.isel(deptht=0, time_counter=-1).plot(x='nav_lon_grid_T', y='nav_lat_grid_T', vmin=33, vmax=37)"
   ]
  },
  {
   "cell_type": "markdown",
   "metadata": {},
   "source": [
    "## Zonal velocity at the surface"
   ]
  },
  {
   "cell_type": "code",
   "execution_count": null,
   "metadata": {},
   "outputs": [],
   "source": [
    "U4.uoce.isel(depthu=3, time_counter=-1).plot(x='nav_lon', y='nav_lat')"
   ]
  },
  {
   "cell_type": "markdown",
   "metadata": {},
   "source": [
    "\n",
    "# **EXP05: Uniform zonal wind forcing --> 247**"
   ]
  },
  {
   "cell_type": "code",
   "execution_count": null,
   "metadata": {},
   "outputs": [],
   "source": [
    "U5       = xr.load_dataset(\"/home/dkamm/NEMOGCM/tests/BASIN2/EXP05/BASIN_grid_U.nc\")\n",
    "T5       = xr.load_dataset(\"/home/dkamm/NEMOGCM/tests/BASIN2/EXP05/BASIN_grid_T.nc\")"
   ]
  },
  {
   "cell_type": "code",
   "execution_count": null,
   "metadata": {},
   "outputs": [],
   "source": [
    "T5 = clean_coords(T5, 2000)\n",
    "U5 = clean_coords(U5, 2000)"
   ]
  },
  {
   "cell_type": "markdown",
   "metadata": {},
   "source": [
    "## Zonal velocity at the surface"
   ]
  },
  {
   "cell_type": "code",
   "execution_count": null,
   "metadata": {},
   "outputs": [],
   "source": [
    "U5.uoce.isel(depthu=0, time_counter=-1).plot(x='nav_lon', y='nav_lat')"
   ]
  },
  {
   "cell_type": "markdown",
   "metadata": {},
   "source": [
    "## Salinity at the surface"
   ]
  },
  {
   "cell_type": "code",
   "execution_count": null,
   "metadata": {},
   "outputs": [],
   "source": [
    "T5.soce.isel(deptht=-5, time_counter=-1).plot(x='nav_lon_grid_T', y='nav_lat_grid_T', vmin=33, vmax=40)"
   ]
  },
  {
   "cell_type": "markdown",
   "metadata": {},
   "source": [
    "\n",
    "# **EXP06: Change to TEOS10**"
   ]
  },
  {
   "cell_type": "code",
   "execution_count": null,
   "metadata": {},
   "outputs": [],
   "source": [
    "U6       = xr.load_dataset(\"/home/dkamm/NEMOGCM/tests/BASIN2/EXP06/BASIN_grid_U.nc\")\n",
    "T6       = xr.load_dataset(\"/home/dkamm/NEMOGCM/tests/BASIN2/EXP06/BASIN_grid_T.nc\")"
   ]
  },
  {
   "cell_type": "code",
   "execution_count": null,
   "metadata": {},
   "outputs": [],
   "source": [
    "T6 = clean_coords(T6, 2000)\n",
    "U6 = clean_coords(U6, 2000)"
   ]
  },
  {
   "cell_type": "markdown",
   "metadata": {},
   "source": [
    "## Salinity at the surface"
   ]
  },
  {
   "cell_type": "code",
   "execution_count": null,
   "metadata": {},
   "outputs": [],
   "source": [
    "T6.soce.isel(deptht=5, time_counter=-1).plot(x='nav_lon_grid_T', y='nav_lat_grid_T', vmin=33, vmax=37)"
   ]
  },
  {
   "cell_type": "markdown",
   "metadata": {},
   "source": [
    "## Zonal velocity at the surface"
   ]
  },
  {
   "cell_type": "code",
   "execution_count": null,
   "metadata": {},
   "outputs": [],
   "source": [
    "U6.uoce.isel(depthu=0, time_counter=-1).plot(x='nav_lon', y='nav_lat', cmap='viridis')"
   ]
  },
  {
   "cell_type": "markdown",
   "metadata": {},
   "source": [
    "\n",
    "# **EXP07: No flattening of the bathymetry at the equator**"
   ]
  },
  {
   "cell_type": "code",
   "execution_count": null,
   "metadata": {},
   "outputs": [],
   "source": [
    "U7       = xr.load_dataset(\"/home/dkamm/NEMOGCM/tests/BASIN2/EXP07/BASIN_grid_U.nc\")\n",
    "T7       = xr.load_dataset(\"/home/dkamm/NEMOGCM/tests/BASIN2/EXP07/BASIN_grid_T.nc\")\n",
    "mask7    = xr.load_dataset(\"/home/dkamm/NEMOGCM/tests/BASIN2/EXP07/mesh_mask.nc\")"
   ]
  },
  {
   "cell_type": "code",
   "execution_count": null,
   "metadata": {},
   "outputs": [],
   "source": [
    "T7 = clean_coords(T7, 2000)\n",
    "U7 = clean_coords(U7, 2000)\n",
    "mask7 = clean_coords(mask7, 2000)"
   ]
  },
  {
   "cell_type": "markdown",
   "metadata": {},
   "source": [
    "## Bathymetry"
   ]
  },
  {
   "cell_type": "code",
   "execution_count": null,
   "metadata": {},
   "outputs": [],
   "source": [
    "mask7.e3t_0.sum(dim='nav_lev').plot(x='x', y='y')"
   ]
  },
  {
   "cell_type": "code",
   "execution_count": null,
   "metadata": {},
   "outputs": [],
   "source": [
    "mask7"
   ]
  },
  {
   "cell_type": "markdown",
   "metadata": {},
   "source": [
    "## Salinity at the surface"
   ]
  },
  {
   "cell_type": "code",
   "execution_count": null,
   "metadata": {},
   "outputs": [],
   "source": [
    "T7.soce.isel(deptht=-2, time_counter=-1).plot(x='nav_lon_grid_T', y='nav_lat_grid_T', vmin=33, vmax=37)"
   ]
  },
  {
   "cell_type": "markdown",
   "metadata": {},
   "source": [
    "## Zonal velocity at the surface"
   ]
  },
  {
   "cell_type": "code",
   "execution_count": null,
   "metadata": {},
   "outputs": [],
   "source": [
    "U7.uoce.isel(depthu=0, time_counter=-1).plot(x='nav_lon', y='nav_lat')"
   ]
  },
  {
   "cell_type": "markdown",
   "metadata": {},
   "source": [
    "\n",
    "# **EXP08: Wolfe & Cassi with minimum at the meridional boundaries**"
   ]
  },
  {
   "cell_type": "code",
   "execution_count": null,
   "metadata": {},
   "outputs": [],
   "source": [
    "U8       = xr.load_dataset(\"/home/dkamm/NEMOGCM/tests/BASIN2/EXP08/BASIN_grid_U.nc\")\n",
    "T8       = xr.load_dataset(\"/home/dkamm/NEMOGCM/tests/BASIN2/EXP08/BASIN_grid_T.nc\")\n",
    "V8       = xr.load_dataset(\"/home/dkamm/NEMOGCM/tests/BASIN2/EXP08/BASIN_grid_V.nc\")\n",
    "abort8   = read_abort(\"/home/dkamm/NEMOGCM/tests/BASIN2/EXP08/output.abort.nc\")\n",
    "\n",
    "T8 = clean_coords(T8, 2000)\n",
    "U8 = clean_coords(U8, 2000)\n",
    "V8 = clean_coords(V8, 2000)"
   ]
  },
  {
   "cell_type": "markdown",
   "metadata": {},
   "source": [
    "## Wind forcing"
   ]
  },
  {
   "cell_type": "code",
   "execution_count": null,
   "metadata": {},
   "outputs": [],
   "source": [
    "U8.utau.isel(time_counter=1).plot()\n"
   ]
  },
  {
   "cell_type": "markdown",
   "metadata": {},
   "source": [
    "## Zonal velocity at the surface"
   ]
  },
  {
   "cell_type": "code",
   "execution_count": null,
   "metadata": {},
   "outputs": [],
   "source": [
    "U8.uoce.isel(depthu=5, time_counter=-1).plot(x='nav_lon', y='nav_lat')"
   ]
  },
  {
   "cell_type": "code",
   "execution_count": null,
   "metadata": {},
   "outputs": [],
   "source": [
    "abort8.S.isel(y=21).plot( y='depth', x='nav_lon')"
   ]
  },
  {
   "cell_type": "code",
   "execution_count": null,
   "metadata": {},
   "outputs": [],
   "source": [
    "abort8.U.isel(y=21).plot( y='depth', x='nav_lon', vmax=0.001)"
   ]
  },
  {
   "cell_type": "markdown",
   "metadata": {},
   "source": [
    "# **EXP09: As EXP08, but without flattened topography at the equator**"
   ]
  },
  {
   "cell_type": "code",
   "execution_count": null,
   "metadata": {},
   "outputs": [],
   "source": [
    "U9       = xr.load_dataset(\"/home/dkamm/NEMOGCM/tests/BASIN2/EXP09/BASIN_grid_U.nc\")\n",
    "T9       = xr.load_dataset(\"/home/dkamm/NEMOGCM/tests/BASIN2/EXP09/BASIN_grid_T.nc\")\n",
    "V9       = xr.load_dataset(\"/home/dkamm/NEMOGCM/tests/BASIN2/EXP09/BASIN_grid_V.nc\")\n",
    "abort9   = read_abort(\"/home/dkamm/NEMOGCM/tests/BASIN2/EXP09/output.abort.nc\")\n",
    "mask9    = xr.load_dataset(\"/home/dkamm/NEMOGCM/tests/BASIN2/EXP09/mesh_mask.nc\")\n",
    "\n",
    "T9 = clean_coords(T9, 2000)\n",
    "U9 = clean_coords(U9, 2000)\n",
    "V9 = clean_coords(V9, 2000)"
   ]
  },
  {
   "cell_type": "code",
   "execution_count": null,
   "metadata": {},
   "outputs": [],
   "source": [
    "abort9.S.isel(y=21).plot( y='depth', x='nav_lon')"
   ]
  },
  {
   "cell_type": "code",
   "execution_count": null,
   "metadata": {},
   "outputs": [],
   "source": [
    "abort9.U.isel(y=21).plot( y='depth', x='nav_lon', vmax=0.002)"
   ]
  },
  {
   "cell_type": "code",
   "execution_count": null,
   "metadata": {},
   "outputs": [],
   "source": [
    "dom   = xr.load_dataset(\"/home/dkamm/NEMOGCM/tests/BASIN2/EXP08/domain_cfg_out.nc\")"
   ]
  },
  {
   "cell_type": "code",
   "execution_count": null,
   "metadata": {},
   "outputs": [],
   "source": [
    "dom.e3t.isel(time_counter=0).plot()"
   ]
  },
  {
   "cell_type": "code",
   "execution_count": null,
   "metadata": {},
   "outputs": [],
   "source": [
    "dom.gphit.plot()"
   ]
  },
  {
   "cell_type": "code",
   "execution_count": null,
   "metadata": {},
   "outputs": [],
   "source": []
  }
 ],
 "metadata": {
  "kernelspec": {
   "display_name": "xgcm",
   "language": "python",
   "name": "xgcm"
  },
  "language_info": {
   "codemirror_mode": {
    "name": "ipython",
    "version": 3
   },
   "file_extension": ".py",
   "mimetype": "text/x-python",
   "name": "python",
   "nbconvert_exporter": "python",
   "pygments_lexer": "ipython3",
   "version": "3.9.15"
  },
  "orig_nbformat": 4,
  "vscode": {
   "interpreter": {
    "hash": "31f2aee4e71d21fbe5cf8b01ff0e069b9275f58929596ceb00d14d90e3e16cd6"
   }
  }
 },
 "nbformat": 4,
 "nbformat_minor": 2
}
