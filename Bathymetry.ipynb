{
 "cells": [
  {
   "attachments": {},
   "cell_type": "markdown",
   "metadata": {},
   "source": [
    "## Notebook to test the bathymetry"
   ]
  },
  {
   "cell_type": "code",
   "execution_count": null,
   "metadata": {},
   "outputs": [],
   "source": [
    "import xarray as xr\n",
    "import xgcm\n",
    "from matplotlib import pyplot as plt\n",
    "import nc_time_axis\n",
    "\n",
    "#plt.rcParams['axes.facecolor']='black'\n",
    "#plt.style.use('dark_background')\n",
    "plt.style.use('default')\n",
    "\n",
    "plt.rcParams.update({'font.size': 10})"
   ]
  },
  {
   "cell_type": "code",
   "execution_count": null,
   "metadata": {},
   "outputs": [],
   "source": [
    "path   = \"/data/dkamm/nemo_output/NEVERWORLD/\""
   ]
  },
  {
   "attachments": {},
   "cell_type": "markdown",
   "metadata": {},
   "source": [
    "## Load domain (not lazy)"
   ]
  },
  {
   "cell_type": "code",
   "execution_count": null,
   "metadata": {},
   "outputs": [],
   "source": [
    "from pathlib import Path\n",
    "import xnemogcm as xn"
   ]
  },
  {
   "cell_type": "code",
   "execution_count": null,
   "metadata": {},
   "outputs": [],
   "source": [
    "datadir_gaus    = Path(path + 'GAUS_RIDGE4')\n",
    "datadir_cosh    = Path(path + 'COSH_RIDGE')\n",
    "datadir_no      = Path(path + 'NO_RIDGE')"
   ]
  },
  {
   "cell_type": "code",
   "execution_count": null,
   "metadata": {},
   "outputs": [],
   "source": [
    "domcfg_gaus = xn.open_domain_cfg(datadir=datadir_gaus)\n",
    "domcfg_cosh = xn.open_domain_cfg(datadir=datadir_cosh)\n",
    "domcfg_no   = xn.open_domain_cfg(datadir=datadir_no  )"
   ]
  },
  {
   "attachments": {},
   "cell_type": "markdown",
   "metadata": {},
   "source": [
    "### 1. Bathymetry without mid-atlantic ridge"
   ]
  },
  {
   "cell_type": "code",
   "execution_count": null,
   "metadata": {},
   "outputs": [],
   "source": [
    "%matplotlib widget\n",
    "fig = plt.figure()\n",
    "ax  = plt.axes(projection='3d')\n",
    "ax.set_box_aspect(aspect = (1,2.5,1))\n",
    "(-domcfg_no.e3w_0.sum('z_f')).plot.surface(ax=ax)\n",
    "ax.set_title('')"
   ]
  },
  {
   "attachments": {},
   "cell_type": "markdown",
   "metadata": {},
   "source": [
    "### 2. Bathymetry with mid-atlantic ridge:      Gaussian edge "
   ]
  },
  {
   "cell_type": "code",
   "execution_count": null,
   "metadata": {},
   "outputs": [],
   "source": [
    "%matplotlib widget\n",
    "fig = plt.figure()\n",
    "ax  = plt.axes(projection='3d')\n",
    "ax.set_box_aspect(aspect = (1,2.5,1))\n",
    "(-domcfg_gaus.e3w_0.sum('z_f')).plot.surface(ax=ax)\n",
    "ax.set_title('')"
   ]
  },
  {
   "attachments": {},
   "cell_type": "markdown",
   "metadata": {},
   "source": [
    "### 3. Bathymetry without mid-atlantic ridge:   Cosh-shaped edge"
   ]
  },
  {
   "cell_type": "code",
   "execution_count": null,
   "metadata": {},
   "outputs": [],
   "source": [
    "%matplotlib widget\n",
    "fig = plt.figure()\n",
    "ax  = plt.axes(projection='3d')\n",
    "ax.set_box_aspect(aspect = (1,2.5,1))\n",
    "(-domcfg_cosh.e3w_0.sum('z_f')).plot.surface(ax=ax)\n",
    "ax.set_title('')"
   ]
  },
  {
   "cell_type": "code",
   "execution_count": null,
   "metadata": {},
   "outputs": [],
   "source": [
    "import numpy as np\n",
    "\n",
    "def gauss(rn_slp, rn_edge_n, phi, h_top, h_bot):\n",
    "    if(h_bot >= h_top):\n",
    "        gauss = (h_top - h_bot) * np.exp( - ( ( phi - rn_edge_n ) / rn_slp ) ** 2 ) + h_bot\n",
    "    else:\n",
    "        gauss = h_bot\n",
    "    return gauss"
   ]
  }
 ],
 "metadata": {
  "kernelspec": {
   "display_name": "nemo_env",
   "language": "python",
   "name": "python3"
  },
  "language_info": {
   "codemirror_mode": {
    "name": "ipython",
    "version": 3
   },
   "file_extension": ".py",
   "mimetype": "text/x-python",
   "name": "python",
   "nbconvert_exporter": "python",
   "pygments_lexer": "ipython3",
   "version": "3.9.15"
  },
  "orig_nbformat": 4
 },
 "nbformat": 4,
 "nbformat_minor": 2
}
