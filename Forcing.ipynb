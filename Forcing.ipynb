{
 "cells": [
  {
   "cell_type": "markdown",
   "metadata": {},
   "source": [
    "## Notebook to visualize and compare the surface forcing to Wolfe & Cessi (2014)"
   ]
  },
  {
   "cell_type": "code",
   "execution_count": null,
   "metadata": {},
   "outputs": [],
   "source": [
    "import xarray as xr\n",
    "import xgcm\n",
    "from matplotlib import pyplot as plt\n",
    "import nc_time_axis\n",
    "import numpy as np\n",
    "\n",
    "#plt.rcParams['axes.facecolor']='black'\n",
    "#plt.style.use('dark_background')"
   ]
  },
  {
   "cell_type": "code",
   "execution_count": null,
   "metadata": {},
   "outputs": [],
   "source": [
    "path   = \"/data/dkamm/nemo_output/DINO/\""
   ]
  },
  {
   "cell_type": "markdown",
   "metadata": {},
   "source": [
    "## Load domain (not lazy)"
   ]
  },
  {
   "cell_type": "code",
   "execution_count": null,
   "metadata": {},
   "outputs": [],
   "source": [
    "from pathlib import Path\n",
    "import xnemogcm as xn"
   ]
  },
  {
   "cell_type": "code",
   "execution_count": null,
   "metadata": {},
   "outputs": [],
   "source": [
    "datadir  = Path(path + 'Stratification')"
   ]
  },
  {
   "cell_type": "code",
   "execution_count": null,
   "metadata": {},
   "outputs": [],
   "source": [
    "domcfg = xn.open_domain_cfg(datadir=datadir)"
   ]
  },
  {
   "cell_type": "code",
   "execution_count": null,
   "metadata": {},
   "outputs": [],
   "source": [
    "Data = xn.open_nemo(domcfg=domcfg, files=[\n",
    "        datadir / 'NEVERWORLD_grid_T.nc',\n",
    "        datadir / 'NEVERWORLD_grid_U.nc',\n",
    "        datadir / 'NEVERWORLD_grid_V.nc'\n",
    "    ])"
   ]
  },
  {
   "cell_type": "code",
   "execution_count": null,
   "metadata": {},
   "outputs": [],
   "source": [
    "Data = Data.assign_coords(dict(\n",
    "    depth_v=([\"z_c\", \"y_f\", \"x_c\"], - Data.isel(t=-1).e3v.cumsum('z_c').values),\n",
    "    depth_t=([\"z_c\", \"y_c\", \"x_c\"], - Data.isel(t=-1).e3t.cumsum('z_c').values),\n",
    "    lon_f=(\"x_f\", domcfg.glamf.values[0,:]-60.),\n",
    "    lon_t=(\"x_c\", domcfg.glamt.values[0,:]-60.),\n",
    "    lat_f=(\"y_f\", domcfg.gphif.values[:,0]),\n",
    "    lat_t=(\"y_c\", domcfg.gphit.values[:,0]),\n",
    "    )\n",
    ")"
   ]
  },
  {
   "cell_type": "markdown",
   "metadata": {},
   "source": [
    "## Wind-forcing"
   ]
  },
  {
   "cell_type": "code",
   "execution_count": null,
   "metadata": {},
   "outputs": [],
   "source": [
    "# Wolfe Cessi (2014) analytical forcing\n",
    "\n",
    "lat = np.linspace(-5000, 5000, 200)\n",
    "\n",
    "tau = 0.1 * ( - np.cos(\n",
    "    3 * np.pi * lat / 2 / (5000) )\n",
    "    + 0.8 * np.exp( - lat**2 / 640**2)\n",
    ")"
   ]
  },
  {
   "cell_type": "code",
   "execution_count": null,
   "metadata": {},
   "outputs": [],
   "source": [
    "fig, axs = plt.subplots(1,2,figsize=(16,6), sharey=True)\n",
    "#\n",
    "Data.utau.isel(t=-1, x_f=10).plot(color='black', x='lat_t', ax=axs[0])\n",
    "axs[0].set_xlabel('latitude [N°]')\n",
    "axs[0].fill_between(Data.lat_t, -0.12, 0.22, where=domcfg.umask.isel(x_f=0, z_c=0)==1, facecolor='grey', alpha=.2)\n",
    "axs[0].margins(x=0, y=0)\n",
    "axs[0].set_title('DINO configuration')\n",
    "axs[0].grid()\n",
    "#\n",
    "axs[1].plot(lat, tau, color='black')\n",
    "axs[1].fill_between(lat, -0.12, 0.22, where=lat<-3800, facecolor='grey', alpha=.2)\n",
    "axs[1].margins(x=0, y=0)\n",
    "axs[1].set_xlabel('latitude [km]')\n",
    "axs[1].set_title('Wolfe & Cessi (2014)')\n",
    "axs[1].grid()"
   ]
  },
  {
   "cell_type": "markdown",
   "metadata": {},
   "source": [
    "# Restoring temperature profile"
   ]
  },
  {
   "cell_type": "code",
   "execution_count": null,
   "metadata": {},
   "outputs": [],
   "source": [
    "# Wolfe Cessi (2014) analytical forcing\n",
    "\n",
    "lat = np.linspace(-5000, 5000, 200)\n",
    "\n",
    "T_star_max = 20.0 * np.cos(np.pi * lat / 2 / (5000) )**2 + 5 * np.exp( - (lat - 5000.)**2 / 1800**2)\n",
    "T_star_min = 20.0 * np.cos(np.pi * lat / 2 / (5000) )**2"
   ]
  },
  {
   "cell_type": "code",
   "execution_count": null,
   "metadata": {},
   "outputs": [],
   "source": [
    "# DINO analytical forcing\n",
    "#ztstar(ji,jj)   = (zts_eq - (zts_n + zcos_sais2 * zdeltaT) ) * COS( ( rpi * gphit(ji,jj) ) * z1_2L )**2 + (zts_n + zcos_sais2 * zdeltaT)\n",
    "#\n",
    "sign_lat = (Data.lat_t>0) * 1 - (Data.lat_t<0) * 1\n",
    "#\n",
    "T_star_max_d = ( 25.0 - ( 1.0 + sign_lat * 2.0) ) * np.cos(np.pi * Data.lat_t / 2 / 70. )**2 + (1.0 + sign_lat * 2.0)\n",
    "T_star_min_d = ( 25.0 - ( 1.0 - sign_lat * 2.0) ) * np.cos(np.pi * Data.lat_t / 2 / 70. )**2 + (1.0 - sign_lat * 2.0)"
   ]
  },
  {
   "cell_type": "code",
   "execution_count": null,
   "metadata": {},
   "outputs": [],
   "source": [
    "fig, axs = plt.subplots(1,2,figsize=(16,6), sharey=True)\n",
    "#\n",
    "axs[0].plot(Data.lat_t, T_star_max_d, color='midnightblue', label='June')\n",
    "axs[0].plot(Data.lat_t, T_star_min_d, color='darkred', label='Dezember')\n",
    "axs[0].fill_between(Data.lat_t, -1.5, 25.5, where=domcfg.umask.isel(x_f=0, z_c=0)==1, facecolor='grey', alpha=.2)\n",
    "axs[0].fill_between(Data.lat_t, T_star_min_d, T_star_max_d, facecolor='grey', alpha=.2)\n",
    "axs[0].margins(x=0, y=0)\n",
    "axs[0].set_xlabel('latitude [km]')\n",
    "axs[0].set_title('DINO configuration')\n",
    "axs[0].grid()\n",
    "axs[0].legend()\n",
    "#\n",
    "axs[1].plot(lat, T_star_max, color='black')\n",
    "axs[1].plot(lat, T_star_min, color='black')\n",
    "axs[1].fill_between(lat, -1.5, 25.5, where=lat<-3800, facecolor='grey', alpha=.2)\n",
    "axs[1].fill_between(lat, T_star_min, T_star_max, facecolor='grey', alpha=.2)\n",
    "axs[1].margins(x=0, y=0)\n",
    "axs[1].set_xlabel('latitude [km]')\n",
    "axs[1].set_title('Wolfe & Cessi (2014)')\n",
    "axs[1].grid()"
   ]
  },
  {
   "cell_type": "markdown",
   "metadata": {},
   "source": [
    "## Zonally averaged density"
   ]
  },
  {
   "cell_type": "code",
   "execution_count": null,
   "metadata": {},
   "outputs": [],
   "source": [
    "Data.isel(t=-1, y_c=slice(1,-1), x_c=slice(1,-1), z_c=slice(0,-1)).soce.mean('x_c').plot()"
   ]
  },
  {
   "cell_type": "code",
   "execution_count": null,
   "metadata": {},
   "outputs": [],
   "source": [
    "Data.isel(t=-1, y_c=slice(1,-1), x_c=slice(1,-1), z_c=0).soce.plot.contour()"
   ]
  },
  {
   "cell_type": "code",
   "execution_count": null,
   "metadata": {},
   "outputs": [],
   "source": [
    "domcfg.gdept_0.isel(y_c=41, z_c=-1, x_c=slice(4,20)).plot(yincrease=False, x='glamt')"
   ]
  },
  {
   "cell_type": "code",
   "execution_count": null,
   "metadata": {},
   "outputs": [],
   "source": [
    "domcfg.gphit.isel(y_c=42).values"
   ]
  },
  {
   "cell_type": "code",
   "execution_count": null,
   "metadata": {},
   "outputs": [],
   "source": [
    "fig, axs = plt.subplots(1,2,figsize=(16,8))\n",
    "Data['vertical_level'] = (['z_c', 'x_c', 'y_c'], np.mgrid[1:37, 0:60, 0:199][0])\n",
    "Data.vertical_level.isel(y_c=100).plot.contourf(y='depth_t', levels=36, ax=axs[0])\n",
    "Data.vertical_level.isel(y_c=41).plot.contourf(y='depth_t', levels=36, ax=axs[1])"
   ]
  },
  {
   "cell_type": "code",
   "execution_count": null,
   "metadata": {},
   "outputs": [],
   "source": []
  }
 ],
 "metadata": {
  "kernelspec": {
   "display_name": "nemo_env",
   "language": "python",
   "name": "python3"
  },
  "language_info": {
   "codemirror_mode": {
    "name": "ipython",
    "version": 3
   },
   "file_extension": ".py",
   "mimetype": "text/x-python",
   "name": "python",
   "nbconvert_exporter": "python",
   "pygments_lexer": "ipython3",
   "version": "3.9.15"
  },
  "orig_nbformat": 4
 },
 "nbformat": 4,
 "nbformat_minor": 2
}
